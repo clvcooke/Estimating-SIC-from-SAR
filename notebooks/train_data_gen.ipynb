{
 "cells": [
  {
   "cell_type": "code",
   "execution_count": 1,
   "metadata": {},
   "outputs": [],
   "source": [
    "import numpy as np\n",
    "import matplotlib.pyplot as plt\n",
    "import os\n",
    "import glob\n",
    "import cv2 as cv\n",
    "from osgeo import gdal\n",
    "import netCDF4\n",
    "import tqdm\n",
    "import json\n",
    "from scipy.spatial import ckdtree\n",
    "plt.ion()\n",
    "import scipy.io as io\n",
    "import shutil\n",
    "import requests"
   ]
  },
  {
   "cell_type": "code",
   "execution_count": 2,
   "metadata": {},
   "outputs": [],
   "source": [
    "# under WGS84 Assumption\n",
    "# \"a\"\n",
    "semiMajor = 6.378137000000000e+06\n",
    "# \"b\"\n",
    "semiMinor = 6.356752314245179e+06\n",
    "# \"Rnear\"\n",
    "slant = 8.436862401575363e+05\n",
    "groundOrigin = 0"
   ]
  },
  {
   "cell_type": "code",
   "execution_count": 3,
   "metadata": {},
   "outputs": [],
   "source": [
    "land_mask = io.loadmat('landmaskna.mat')\n",
    "land_mask_val = land_mask['landnafp']\n",
    "land_mask_flat_lat = land_mask['latvalsna'].flatten()\n",
    "land_mask_flat_lon = land_mask['lonvalsna'].flatten()\n",
    "# land_mask_xyz = np.zeros([len(land_mask_flat_lat)*len(land_mask_flat_lon), 3])\n",
    "# count = 0\n",
    "# for lon in tqdm.tqdm(land_mask_flat_lon):\n",
    "#     for lat in land_mask_flat_lat:\n",
    "#         land_mask_xyz[count] = cart_transform(lat, lon)\n",
    "#         count = count + 1\n",
    "        \n",
    "land_lat_fit = np.poly1d(np.polyfit(land_mask_flat_lat,range(0, len(land_mask_flat_lat)), 1))\n",
    "land_lon_fit = np.poly1d(np.polyfit(land_mask_flat_lon, range(0, len(land_mask_flat_lon)), 1))"
   ]
  },
  {
   "cell_type": "code",
   "execution_count": 89,
   "metadata": {},
   "outputs": [
    {
     "data": {
      "text/plain": [
       "3000"
      ]
     },
     "execution_count": 89,
     "metadata": {},
     "output_type": "execute_result"
    }
   ],
   "source": [
    "len(land_mask_flat_lat)"
   ]
  },
  {
   "cell_type": "code",
   "execution_count": 4,
   "metadata": {},
   "outputs": [],
   "source": [
    "folder_json_path = 'training_data/charted_folders.json'\n",
    "with open(folder_json_path) as fp:\n",
    "    folder_data = json.load(fp)['folders']"
   ]
  },
  {
   "cell_type": "code",
   "execution_count": null,
   "metadata": {},
   "outputs": [],
   "source": []
  },
  {
   "cell_type": "code",
   "execution_count": 76,
   "metadata": {},
   "outputs": [],
   "source": [
    "t_file = os.listdir(os.path.join('training_data', '20110730'))[-1]"
   ]
  },
  {
   "cell_type": "code",
   "execution_count": 77,
   "metadata": {},
   "outputs": [],
   "source": [
    "t_file = os.path.join('training_data', '20110730', t_file)"
   ]
  },
  {
   "cell_type": "code",
   "execution_count": 56,
   "metadata": {},
   "outputs": [
    {
     "data": {
      "text/plain": [
       "'training_data\\\\20100405\\\\RS2_OK10889_PK125552_DK119730_SCWA_20100405_161248.tif'"
      ]
     },
     "execution_count": 56,
     "metadata": {},
     "output_type": "execute_result"
    }
   ],
   "source": [
    "t_file"
   ]
  },
  {
   "cell_type": "code",
   "execution_count": 57,
   "metadata": {},
   "outputs": [],
   "source": [
    "data = gdal.Open(t_file, gdal.GA_ReadOnly)"
   ]
  },
  {
   "cell_type": "code",
   "execution_count": 58,
   "metadata": {},
   "outputs": [],
   "source": [
    "img_shape = [data.RasterXSize, data.RasterYSize]"
   ]
  },
  {
   "cell_type": "code",
   "execution_count": 9,
   "metadata": {},
   "outputs": [
    {
     "ename": "NameError",
     "evalue": "name 'img_shape' is not defined",
     "output_type": "error",
     "traceback": [
      "\u001b[1;31m---------------------------------------------------------------------------\u001b[0m",
      "\u001b[1;31mNameError\u001b[0m                                 Traceback (most recent call last)",
      "\u001b[1;32m<ipython-input-9-c43a6253ebd9>\u001b[0m in \u001b[0;36m<module>\u001b[1;34m()\u001b[0m\n\u001b[1;32m----> 1\u001b[1;33m \u001b[0mimg_shape\u001b[0m\u001b[1;33m\u001b[0m\u001b[0m\n\u001b[0m",
      "\u001b[1;31mNameError\u001b[0m: name 'img_shape' is not defined"
     ]
    }
   ],
   "source": [
    "img_shape"
   ]
  },
  {
   "cell_type": "code",
   "execution_count": null,
   "metadata": {},
   "outputs": [],
   "source": []
  },
  {
   "cell_type": "code",
   "execution_count": 4,
   "metadata": {},
   "outputs": [],
   "source": [
    "def cart_transform(phi, lam):\n",
    "    phi_rad = np.pi * phi/180\n",
    "    lam_rad = np.pi * lam/180\n",
    "    den = np.sqrt(semiMajor*semiMajor*np.cos(phi_rad)*np.cos(phi_rad) + semiMinor*semiMinor*np.sin(phi_rad)*np.sin(phi_rad))    \n",
    "    Xuv = (semiMajor*semiMajor * np.cos(phi_rad) * np.cos(lam_rad))/den\n",
    "    Yuv = (semiMajor*semiMajor * np.cos(phi_rad) * np.sin(lam_rad))/den\n",
    "    Zuv = (semiMinor*semiMinor*np.sin(phi_rad))/den\n",
    "    return (Xuv, Yuv, Zuv)\n",
    "\n",
    "def cart_inv(x,y,z):\n",
    "    phi_rad = np.arctan(semiMajor*z/(semiMinor*np.sqrt(semiMinor*semiMinor - z*z)))\n",
    "    lam_rad = np.arctan2(y,x)\n",
    "    phi = 180*phi_rad/(np.pi)\n",
    "    lam = 180*lam_rad/(np.pi)\n",
    "    return phi, lam"
   ]
  },
  {
   "cell_type": "code",
   "execution_count": 5,
   "metadata": {},
   "outputs": [],
   "source": [
    "def idw(distances):\n",
    "    if np.count_nonzero(distances) != len(distances):\n",
    "        weights = np.zeros_like(distances)\n",
    "        weights[0] = 1\n",
    "    else:\n",
    "        inverse_sum = sum([1/d for d in distances])\n",
    "        weights = (1/distances)/inverse_sum\n",
    "    return weights"
   ]
  },
  {
   "cell_type": "code",
   "execution_count": 6,
   "metadata": {},
   "outputs": [],
   "source": [
    "def concentration(tree, lat, lon,chart_data_flat, samples=16):\n",
    "    '''\n",
    "    Given a lat-lon pair interpolate using IDW to find the actual concentration\n",
    "    '''\n",
    "#     land_pos_y = int(np.round(land_lon_fit(lon-360)))\n",
    "#     land_pos_x = int(np.round(land_lat_fit(lat)))\n",
    "    \n",
    "#     land_val = land_mask_val[land_pos_x,land_pos_y]\n",
    "    \n",
    "#     if not np.isnan(land_val):\n",
    "#         return 255\n",
    "    dists, idxs = tree.query((lat, lon), samples)\n",
    "    concentration_values = np.array([chart_data_flat[i] for i in idxs])\n",
    "    nan_vals = np.isnan(concentration_values)\n",
    "    if any(nan_vals):\n",
    "        return np.nan\n",
    "    try:\n",
    "        weights = idw(dists)\n",
    "    except:\n",
    "        weights = 1\n",
    "        return chart_data_flat[idxs]\n",
    "    return np.sum(np.multiply(concentration_values, weights))"
   ]
  },
  {
   "cell_type": "code",
   "execution_count": 7,
   "metadata": {},
   "outputs": [],
   "source": [
    "def concentration_Z(tree, x, y,z,chart_data_flat, samples=16):\n",
    "    '''\n",
    "    Given a lat-lon pair interpolate using IDW to find the actual concentration\n",
    "    '''\n",
    "#     land_pos_y = int(np.round(land_lon_fit(lon-360)))\n",
    "#     land_pos_x = int(np.round(land_lat_fit(lat)))\n",
    "    \n",
    "#     land_val = land_mask_val[land_pos_x,land_pos_y]\n",
    "    \n",
    "#     if not np.isnan(land_val):\n",
    "#         return 255\n",
    "    dists, idxs = tree.query((x, y,z), samples)\n",
    "    concentration_values = np.array([chart_data_flat[i] for i in idxs])\n",
    "    nan_vals = np.isnan(concentration_values)\n",
    "    if any(nan_vals):\n",
    "        return 255\n",
    "    try:\n",
    "        weights = idw(dists)\n",
    "    except:\n",
    "        weights = 1\n",
    "        return chart_data_flat[idxs]\n",
    "    return np.sum(np.multiply(concentration_values, weights))"
   ]
  },
  {
   "cell_type": "code",
   "execution_count": 125,
   "metadata": {},
   "outputs": [
    {
     "data": {
      "text/plain": [
       "'training_data\\\\20090322\\\\RS2_OK4491_PK59492_DK57897_SCWA_20090322_102729_HH.tif'"
      ]
     },
     "execution_count": 125,
     "metadata": {},
     "output_type": "execute_result"
    }
   ],
   "source": [
    "t_file"
   ]
  },
  {
   "cell_type": "code",
   "execution_count": 8,
   "metadata": {},
   "outputs": [],
   "source": [
    "folders = glob.glob(os.path.join('training_data', '20*'))"
   ]
  },
  {
   "cell_type": "code",
   "execution_count": 9,
   "metadata": {},
   "outputs": [
    {
     "ename": "NameError",
     "evalue": "name 'folder' is not defined",
     "output_type": "error",
     "traceback": [
      "\u001b[1;31m---------------------------------------------------------------------------\u001b[0m",
      "\u001b[1;31mNameError\u001b[0m                                 Traceback (most recent call last)",
      "\u001b[1;32m<ipython-input-9-7edb5c60aa3d>\u001b[0m in \u001b[0;36m<module>\u001b[1;34m()\u001b[0m\n\u001b[1;32m----> 1\u001b[1;33m \u001b[0mfolder\u001b[0m\u001b[1;33m\u001b[0m\u001b[0m\n\u001b[0m",
      "\u001b[1;31mNameError\u001b[0m: name 'folder' is not defined"
     ]
    }
   ],
   "source": [
    "folder"
   ]
  },
  {
   "cell_type": "code",
   "execution_count": 12,
   "metadata": {},
   "outputs": [
    {
     "name": "stderr",
     "output_type": "stream",
     "text": [
      "2179072it [00:53, 40466.12it/s]\n"
     ]
    },
    {
     "name": "stdout",
     "output_type": "stream",
     "text": [
      "XYZ TREE\n"
     ]
    }
   ],
   "source": [
    "\n",
    "grid = netCDF4.Dataset(grid_file)\n",
    "\n",
    "latdata = np.asarray(grid.variables['Latitudes'])\n",
    "londata = np.asarray(grid.variables['Longitudes'])\n",
    "grid_lat_flat = np.asarray(latdata).flatten()\n",
    "grid_lon_flat = np.asarray(londata).flatten()\n",
    "grid_flat = np.stack([grid_lat_flat, grid_lon_flat], 1)\n",
    "XYZ_flat = np.zeros([grid_flat.shape[0], 3])\n",
    "for i,g in tqdm.tqdm(enumerate(grid_flat)):\n",
    "    if g[1] > 180:\n",
    "        g[1] = g[1] - 360\n",
    "    XYZ_flat[i] = cart_transform(g[0],g[1])\n",
    "XYZ_flat = np.asarray([cart_transform(g[0],g[1]) for g in grid_flat])\n",
    "print('XYZ TREE')\n",
    "XYZ_tree = ckdtree.cKDTree(XYZ_flat)\n",
    "chart_tree = ckdtree.cKDTree(grid_flat)"
   ]
  },
  {
   "cell_type": "code",
   "execution_count": 17,
   "metadata": {},
   "outputs": [],
   "source": [
    "index = folders.index(folder)"
   ]
  },
  {
   "cell_type": "code",
   "execution_count": 18,
   "metadata": {},
   "outputs": [
    {
     "data": {
      "text/plain": [
       "31"
      ]
     },
     "execution_count": 18,
     "metadata": {},
     "output_type": "execute_result"
    }
   ],
   "source": [
    "index"
   ]
  },
  {
   "cell_type": "code",
   "execution_count": 20,
   "metadata": {},
   "outputs": [
    {
     "data": {
      "text/plain": [
       "32"
      ]
     },
     "execution_count": 20,
     "metadata": {},
     "output_type": "execute_result"
    }
   ],
   "source": [
    "i"
   ]
  },
  {
   "cell_type": "code",
   "execution_count": 25,
   "metadata": {},
   "outputs": [
    {
     "data": {
      "text/plain": [
       "'training_data\\\\20110903D'"
      ]
     },
     "execution_count": 25,
     "metadata": {},
     "output_type": "execute_result"
    }
   ],
   "source": [
    "folder\n"
   ]
  },
  {
   "cell_type": "code",
   "execution_count": 21,
   "metadata": {},
   "outputs": [
    {
     "name": "stderr",
     "output_type": "stream",
     "text": [
      "  0%|                                                                                           | 0/38 [00:00<?, ?it/s]"
     ]
    },
    {
     "name": "stdout",
     "output_type": "stream",
     "text": [
      "[632, 661]\n"
     ]
    },
    {
     "name": "stderr",
     "output_type": "stream",
     "text": [
      "c:\\users\\clvco\\anaconda3\\lib\\site-packages\\numpy\\core\\numeric.py:531: RuntimeWarning: invalid value encountered in less\n",
      "  return array(a, dtype, copy=False, order=order)\n",
      "c:\\users\\clvco\\anaconda3\\lib\\site-packages\\numpy\\core\\numeric.py:531: RuntimeWarning: invalid value encountered in greater\n",
      "  return array(a, dtype, copy=False, order=order)\n",
      " 87%|███████████████████████████████████████████████████████████████████████▏          | 33/38 [01:50<00:16,  3.34s/it]"
     ]
    },
    {
     "name": "stdout",
     "output_type": "stream",
     "text": [
      "[373, 659]\n"
     ]
    },
    {
     "name": "stderr",
     "output_type": "stream",
     "text": [
      " 89%|█████████████████████████████████████████████████████████████████████████▎        | 34/38 [03:04<00:21,  5.41s/it]"
     ]
    },
    {
     "name": "stdout",
     "output_type": "stream",
     "text": [
      "[632, 657]\n"
     ]
    },
    {
     "name": "stderr",
     "output_type": "stream",
     "text": [
      " 92%|███████████████████████████████████████████████████████████████████████████▌      | 35/38 [05:10<00:26,  8.87s/it]"
     ]
    },
    {
     "name": "stdout",
     "output_type": "stream",
     "text": [
      "[631, 658]\n"
     ]
    },
    {
     "name": "stderr",
     "output_type": "stream",
     "text": [
      " 95%|█████████████████████████████████████████████████████████████████████████████▋    | 36/38 [07:18<00:24, 12.18s/it]"
     ]
    },
    {
     "name": "stdout",
     "output_type": "stream",
     "text": [
      "[627, 658]\n"
     ]
    },
    {
     "name": "stderr",
     "output_type": "stream",
     "text": [
      " 97%|███████████████████████████████████████████████████████████████████████████████▊  | 37/38 [09:19<00:15, 15.13s/it]"
     ]
    },
    {
     "name": "stdout",
     "output_type": "stream",
     "text": [
      "[632, 661]\n"
     ]
    },
    {
     "name": "stderr",
     "output_type": "stream",
     "text": [
      "100%|██████████████████████████████████████████████████████████████████████████████████| 38/38 [11:20<00:00, 17.91s/it]\n"
     ]
    }
   ],
   "source": [
    "for i, folder in enumerate(tqdm.tqdm(folders)):\n",
    "    if i > index:\n",
    "        chart_file = glob.glob(os.path.join(folder, 'asi-*.nc'))[0]\n",
    "        geotiff_file = sorted(glob.glob(os.path.join(folder, '*.tif')), key=os.path.getsize)[-1]\n",
    "        res = gen_conc_image(chart_file, XYZ_tree, chart_tree, geotiff_file)\n",
    "        cv.imwrite(os.path.join(folder, 'conc.tiff'), res[1])\n",
    "    #     break"
   ]
  },
  {
   "cell_type": "code",
   "execution_count": 23,
   "metadata": {},
   "outputs": [
    {
     "data": {
      "text/plain": [
       "<matplotlib.image.AxesImage at 0x25125d5d4a8>"
      ]
     },
     "execution_count": 23,
     "metadata": {},
     "output_type": "execute_result"
    },
    {
     "data": {
      "image/png": "[encoded data removed]",
      "text/plain": [
       "<matplotlib.figure.Figure at 0x251053b5f28>"
      ]
     },
     "metadata": {},
     "output_type": "display_data"
    }
   ],
   "source": [
    "plt.imshow(res[0])"
   ]
  },
  {
   "cell_type": "code",
   "execution_count": 24,
   "metadata": {},
   "outputs": [
    {
     "data": {
      "text/plain": [
       "<matplotlib.image.AxesImage at 0x251131e2630>"
      ]
     },
     "execution_count": 24,
     "metadata": {},
     "output_type": "execute_result"
    },
    {
     "data": {
      "image/png": "[encoded data removed]",
      "text/plain": [
       "<matplotlib.figure.Figure at 0x2511364d588>"
      ]
     },
     "metadata": {},
     "output_type": "display_data"
    }
   ],
   "source": [
    "plt.imshow(res[1])"
   ]
  },
  {
   "cell_type": "code",
   "execution_count": 9,
   "metadata": {},
   "outputs": [
    {
     "data": {
      "text/plain": [
       "'training_data\\\\20090322\\\\asi-n6250-20090322-v5.nc'"
      ]
     },
     "execution_count": 9,
     "metadata": {},
     "output_type": "execute_result"
    }
   ],
   "source": [
    "chart_file"
   ]
  },
  {
   "cell_type": "code",
   "execution_count": 10,
   "metadata": {},
   "outputs": [
    {
     "data": {
      "text/plain": [
       "'training_data\\\\20090322\\\\RS2_OK4491_PK59492_DK57897_SCWA_20090322_102729_HH.tif'"
      ]
     },
     "execution_count": 10,
     "metadata": {},
     "output_type": "execute_result"
    }
   ],
   "source": [
    "geotiff_file"
   ]
  },
  {
   "cell_type": "code",
   "execution_count": 11,
   "metadata": {},
   "outputs": [],
   "source": [
    "chart_file = r\"C:\\Users\\clvco\\URA_W18\\training_data\\20110730\\asi-n6250-20110730-v5.nc\"\n",
    "grid_file = r\"C:\\Users\\clvco\\URA_W18\\training_data\\20110730\\LongitudeLatitudeGrid-n6250-Arctic.nc\""
   ]
  },
  {
   "cell_type": "code",
   "execution_count": 79,
   "metadata": {},
   "outputs": [],
   "source": [
    "SAR_image = r\"C:\\Users\\clvco\\URA_W18\\training_data\\20110730\\imagery_HH.tif\""
   ]
  },
  {
   "cell_type": "code",
   "execution_count": 61,
   "metadata": {},
   "outputs": [],
   "source": [
    "sar = cv.imread(SAR_image)"
   ]
  },
  {
   "cell_type": "code",
   "execution_count": 80,
   "metadata": {},
   "outputs": [
    {
     "name": "stdout",
     "output_type": "stream",
     "text": [
      "[158, 165]\n"
     ]
    },
    {
     "name": "stderr",
     "output_type": "stream",
     "text": [
      "c:\\users\\clvco\\anaconda3\\lib\\site-packages\\matplotlib\\cbook\\__init__.py:1350: RuntimeWarning: invalid value encountered in less\n",
      "  x = np.array(x, subok=True, copy=copy)\n",
      "c:\\users\\clvco\\anaconda3\\lib\\site-packages\\matplotlib\\cbook\\__init__.py:1350: RuntimeWarning: invalid value encountered in greater\n",
      "  x = np.array(x, subok=True, copy=copy)\n",
      "2179072it [01:10, 31068.98it/s]\n"
     ]
    },
    {
     "name": "stdout",
     "output_type": "stream",
     "text": [
      "XYZ TREE\n"
     ]
    },
    {
     "name": "stderr",
     "output_type": "stream",
     "text": [
      "c:\\users\\clvco\\anaconda3\\lib\\site-packages\\numpy\\core\\numeric.py:531: RuntimeWarning: invalid value encountered in less\n",
      "  return array(a, dtype, copy=False, order=order)\n",
      "c:\\users\\clvco\\anaconda3\\lib\\site-packages\\numpy\\core\\numeric.py:531: RuntimeWarning: invalid value encountered in greater\n",
      "  return array(a, dtype, copy=False, order=order)\n",
      "100%|███████████████████████████████████████████████████████████████████████████████████████████████████████████████████████████████████████████████████████████████| 158/158 [00:08<00:00, 18.16it/s]\n"
     ]
    },
    {
     "name": "stdout",
     "output_type": "stream",
     "text": [
      "Max lat:  75.7275141704\n",
      "Min lat:  70.4573715082\n",
      "Max lon:  -98.3650747317\n",
      "Min lon:  -116.80402047\n"
     ]
    },
    {
     "data": {
      "image/png": "[encoded data removed]",
      "text/plain": [
       "<matplotlib.figure.Figure at 0x1ce802a4780>"
      ]
     },
     "metadata": {},
     "output_type": "display_data"
    },
    {
     "data": {
      "image/png": "[encoded data removed]",
      "text/plain": [
       "<matplotlib.figure.Figure at 0x1ce803ecba8>"
      ]
     },
     "metadata": {},
     "output_type": "display_data"
    }
   ],
   "source": [
    "res = gen_conc_image(chart_file, grid_file, t_file)"
   ]
  },
  {
   "cell_type": "code",
   "execution_count": 14,
   "metadata": {},
   "outputs": [],
   "source": [
    "# FIX THE GRID FILE, THERE IS SOMETHING WRONG WITH THE LON NUMBERS I BELIEVE\n",
    "def gen_conc_image(chart_path, XYZ_tree, chart_tree, geotiff_path, DOWN_RATE=16):\n",
    "    dataset = gdal.Open(geotiff_path, gdal.GA_ReadOnly)\n",
    "\n",
    "    image_shape = [np.round(dataset.RasterYSize/DOWN_RATE).astype(np.int), np.round(dataset.RasterXSize/DOWN_RATE).astype(np.int)]\n",
    "    print(image_shape)\n",
    "    chart = netCDF4.Dataset(chart_path)\n",
    "#     plt.figure()\n",
    "#     plt.imshow(chart['ASI_Ice_Concentration'])\n",
    "#     grid = netCDF4.Dataset(grid_path)\n",
    "    \n",
    "#     latdata = np.asarray(grid.variables['Latitudes'])\n",
    "#     londata = np.asarray(grid.variables['Longitudes'])\n",
    "#     plt.figure()\n",
    "#     plt.imshow(londata)\n",
    "#     return None\n",
    "    \n",
    "#     grid_lat_flat = np.asarray(latdata).flatten()\n",
    "#     grid_lon_flat = np.asarray(londata).flatten()\n",
    "#     grid_flat = np.stack([grid_lat_flat, grid_lon_flat], 1)\n",
    "#     XYZ_flat = np.zeros([grid_flat.shape[0], 3])\n",
    "#     for i,g in tqdm.tqdm(enumerate(grid_flat)):\n",
    "#         if g[1] > 180:\n",
    "#             g[1] = g[1] - 360\n",
    "#         XYZ_flat[i] = cart_transform(g[0],g[1])\n",
    "#     XYZ_flat = np.asarray([cart_transform(g[0],g[1]) for g in grid_flat])\n",
    "#     return XYZ_flat\n",
    "#     print('XYZ TREE')\n",
    "#     XYZ_tree = ckdtree.cKDTree(XYZ_flat)\n",
    "#     print('Normal TREE')\n",
    "#     chart_tree = ckdtree.cKDTree(grid_flat)\n",
    "    chart_data_flat = np.asarray(chart['ASI_Ice_Concentration']).flatten()\n",
    "    \n",
    "    control_pts = dataset.GetGCPs()\n",
    "    control_pixel_locations = [(pt.GCPLine/DOWN_RATE, pt.GCPPixel/DOWN_RATE) for pt in control_pts]\n",
    "    control_tree = ckdtree.cKDTree(control_pixel_locations)\n",
    "    \n",
    "    SAMPLES = 16\n",
    "    pos_values = [cart_transform(pt.GCPY, pt.GCPX) for pt in control_pts]\n",
    "    concentration_image = np.zeros((image_shape))\n",
    "    concentration_z_image = np.zeros((image_shape))\n",
    "    lats = []\n",
    "    lons = []\n",
    "    for i in (range(concentration_image.shape[0])):\n",
    "        for j in range(concentration_image.shape[1]):\n",
    "            #TODO:  put in max dist for speed\n",
    "            distances, indices = control_tree.query((i, j), SAMPLES)\n",
    "            weights = idw(distances)\n",
    "            X_values = [pos_values[index][0] for index in indices]\n",
    "            Y_values = [pos_values[index][1] for index in indices]\n",
    "            Z_values = [pos_values[index][2] for index in indices]\n",
    "            X = np.sum(np.multiply(X_values, weights))\n",
    "            Y = np.sum(np.multiply(Y_values, weights))\n",
    "            Z = np.sum(np.multiply(Z_values, weights))\n",
    "            conc_Z = concentration_Z(XYZ_tree, X,Y,Z, chart_data_flat)\n",
    "            lat, lon = cart_inv(X,Y,Z)\n",
    "            lats.append(lat)\n",
    "            lons.append(lon)\n",
    "            conc = concentration(chart_tree, lat, lon, chart_data_flat)\n",
    "            concentration_image[i, j] = conc\n",
    "            concentration_z_image[i,j] = conc_Z\n",
    "#     print('Max lat: ', sorted(lats)[-1])\n",
    "#     print('Min lat: ', sorted(lats)[0])\n",
    "#     print('Max lon: ', sorted(lons)[-1])\n",
    "#     print('Min lon: ', sorted(lons)[0])\n",
    "    \n",
    "    return concentration_image, concentration_z_image"
   ]
  },
  {
   "cell_type": "code",
   "execution_count": null,
   "metadata": {},
   "outputs": [],
   "source": []
  }
 ],
 "metadata": {
  "kernelspec": {
   "display_name": "Python 3",
   "language": "python",
   "name": "python3"
  },
  "language_info": {
   "codemirror_mode": {
    "name": "ipython",
    "version": 3
   },
   "file_extension": ".py",
   "mimetype": "text/x-python",
   "name": "python",
   "nbconvert_exporter": "python",
   "pygments_lexer": "ipython3",
   "version": "3.6.3"
  }
 },
 "nbformat": 4,
 "nbformat_minor": 2
}
