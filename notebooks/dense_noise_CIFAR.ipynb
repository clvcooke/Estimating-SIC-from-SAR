{
 "cells": [
  {
   "cell_type": "code",
   "execution_count": 1,
   "metadata": {
    "scrolled": true
   },
   "outputs": [
    {
     "name": "stderr",
     "output_type": "stream",
     "text": [
      "/home/paperspace/anaconda3/lib/python3.6/site-packages/h5py/__init__.py:34: FutureWarning: Conversion of the second argument of issubdtype from `float` to `np.floating` is deprecated. In future, it will be treated as `np.float64 == np.dtype(float).type`.\n",
      "  from ._conv import register_converters as _register_converters\n",
      "Using TensorFlow backend.\n",
      "/home/paperspace/anaconda3/lib/python3.6/importlib/_bootstrap.py:205: RuntimeWarning: compiletime version 3.5 of module 'tensorflow.python.framework.fast_tensor_util' does not match runtime version 3.6\n",
      "  return f(*args, **kwds)\n"
     ]
    }
   ],
   "source": [
    "import cv2 as cv\n",
    "import keras\n",
    "import keras.applications as apps\n",
    "import numpy as np\n",
    "import os\n",
    "import densenet\n",
    "import glob\n",
    "import tqdm\n",
    "import matplotlib.pyplot as plt\n",
    "import matplotlib\n",
    "import random\n",
    "plt.ion()"
   ]
  },
  {
   "cell_type": "code",
   "execution_count": 2,
   "metadata": {},
   "outputs": [],
   "source": [
    "from keras.callbacks import ModelCheckpoint"
   ]
  },
  {
   "cell_type": "code",
   "execution_count": 3,
   "metadata": {},
   "outputs": [],
   "source": [
    "TILE_SIZE = 221"
   ]
  },
  {
   "cell_type": "code",
   "execution_count": 4,
   "metadata": {},
   "outputs": [
    {
     "name": "stderr",
     "output_type": "stream",
     "text": [
      "/home/paperspace/anaconda3/lib/python3.6/site-packages/keras/applications/imagenet_utils.py:258: UserWarning: This model usually expects 1 or 3 input channels. However, it was passed an input_shape with 2 input channels.\n",
      "  str(input_shape[-1]) + ' input channels.')\n"
     ]
    }
   ],
   "source": [
    "net = densenet.DenseNet121(include_top=True,\n",
    "                      weights=None,\n",
    "                      input_shape=(221, 221, 2),\n",
    "                      pooling=None,\n",
    "                      classes=1)"
   ]
  },
  {
   "cell_type": "code",
   "execution_count": 5,
   "metadata": {},
   "outputs": [],
   "source": [
    "net.load_weights('weights/noise_weights_rand1.hdf5')"
   ]
  },
  {
   "cell_type": "code",
   "execution_count": 6,
   "metadata": {},
   "outputs": [],
   "source": [
    "def tile_image(HH, HV, conc, tile_size=221):\n",
    "    # This function assumes all images are the same shape\n",
    "    tile_center = tile_size//2\n",
    "    amount_x = (HH.shape[0]//tile_size) -1\n",
    "    amount_y = (HH.shape[1]//tile_size) -1\n",
    "    sar_tiles = []\n",
    "    conc_tiles = []\n",
    "    for i in range(amount_x):\n",
    "        for j in range(amount_y):\n",
    "            x_bounds = [tile_size*i, tile_size*(i+1)]\n",
    "            y_bounds = [tile_size*j, tile_size*(j+1)]\n",
    "            conc_tile = conc[x_bounds[0]:x_bounds[1], y_bounds[0]:y_bounds[1]]\n",
    "            if np.max(conc_tile) != 255:\n",
    "                HH_tile = HH[x_bounds[0]:x_bounds[1],y_bounds[0]:y_bounds[1]]\n",
    "                HV_tile = HV[x_bounds[0]:x_bounds[1],y_bounds[0]:y_bounds[1]]\n",
    "                tile = np.stack([HH_tile, HV_tile],axis=-1)\n",
    "                sar_tiles.append(tile)\n",
    "                conc_tiles.append([conc_tile[tile_center, tile_center]])\n",
    "    sar_tiles = np.asarray(sar_tiles).astype(np.float32)/255\n",
    "    conc_tiles = np.asarray(conc_tiles).astype(np.float32)/100\n",
    "    \n",
    "    return sar_tiles, conc_tiles\n",
    "            \n",
    "            "
   ]
  },
  {
   "cell_type": "code",
   "execution_count": 7,
   "metadata": {},
   "outputs": [],
   "source": [
    "def predict_image_fine(HH, HV, conc, model, tile_size=221):\n",
    "\n",
    "    amount_x = ((HH.shape[0])//tile_size) -2\n",
    "    amount_y = (HH.shape[1]//tile_size) -2\n",
    "    scan_size = 2\n",
    "    conc_image = np.zeros((amount_x*(scan_size+1), amount_y*(scan_size+1)))\n",
    "    for i in tqdm.tqdm(range(amount_x)):\n",
    "        for j in range(amount_y):\n",
    "            for s in range(scan_size+1):\n",
    "                for x in range(scan_size+1):\n",
    "                    \n",
    "                    x_bounds = [int(tile_size*(i+ s/scan_size)), int(tile_size*(i+1 + s/scan_size))]\n",
    "                    y_bounds = [int(tile_size*(j + x/scan_size)), int(tile_size*(j+1 + x/scan_size))]\n",
    "                    conc_tile = conc[x_bounds[0]:x_bounds[1], y_bounds[0]:y_bounds[1]]\n",
    "                    if np.max(conc_tile) < 150:\n",
    "                        HH_tile = HH[x_bounds[0]:x_bounds[1],y_bounds[0]:y_bounds[1]]\n",
    "                        HV_tile = HV[x_bounds[0]:x_bounds[1],y_bounds[0]:y_bounds[1]]\n",
    "                        tile = np.expand_dims(np.stack([HH_tile, HV_tile],axis=-1), axis=0)\n",
    "                        tile = tile.astype(np.float32)/255\n",
    "        #                 sar_tiles.append(tile)/\n",
    "                        pred = model.predict(tile)\n",
    "                        pval = pred.flatten()[0]\n",
    "                        if pval > 1.5:\n",
    "                            pval = np.nan\n",
    "        #                 print('VAL:', pred)\n",
    "#                         conc_image[i,j] = pval\n",
    "                        conc_image[i*(scan_size+1)+s,j*(scan_size+1) + x] = pval\n",
    "                    else:\n",
    "                        conc_image[i*(scan_size+1)+s,j*(scan_size+1) + x] = np.nan\n",
    "    return conc_image"
   ]
  },
  {
   "cell_type": "code",
   "execution_count": 8,
   "metadata": {},
   "outputs": [],
   "source": [
    "def predict_image(HH, HV, conc, model, tile_size=221):\n",
    "    amount_x = (HH.shape[0]//tile_size) -1\n",
    "    amount_y = (HH.shape[1]//tile_size) -1\n",
    "    conc_image = np.zeros((amount_x,amount_y))\n",
    "    sar_tiles = []\n",
    "    conc_tiles = []\n",
    "    for i in range(amount_x):\n",
    "        for j in range(amount_y):\n",
    "            x_bounds = [tile_size*i, tile_size*(i+1)]\n",
    "            y_bounds = [tile_size*j, tile_size*(j+1)]\n",
    "            conc_tile = conc[x_bounds[0]:x_bounds[1], y_bounds[0]:y_bounds[1]]\n",
    "            if np.max(conc_tile) < 150:\n",
    "                HH_tile = HH[x_bounds[0]:x_bounds[1],y_bounds[0]:y_bounds[1]]\n",
    "                HV_tile = HV[x_bounds[0]:x_bounds[1],y_bounds[0]:y_bounds[1]]\n",
    "                tile = np.expand_dims(np.stack([HH_tile, HV_tile],axis=-1), axis=0)\n",
    "                tile = tile.astype(np.float32)/255\n",
    "#                 sar_tiles.append(tile)/\n",
    "                pred = model.predict(tile)\n",
    "                pval = pred.flatten()[0]\n",
    "                if pval > 1.5:\n",
    "                    pval = np.nan\n",
    "#                 print('VAL:', pred)\n",
    "                conc_image[i,j] = pval\n",
    "                \n",
    "            else:\n",
    "                conc_image[i,j] = np.nan\n",
    "    return conc_image"
   ]
  },
  {
   "cell_type": "code",
   "execution_count": 9,
   "metadata": {},
   "outputs": [],
   "source": [
    "def is_data_valid(folder_path):\n",
    "    valid = os.path.exists(os.path.join(folder_path, 'imagery_HH.tif'))\n",
    "    valid = valid and os.path.exists(os.path.join(folder_path, 'imagery_HV.tif')) \n",
    "    valid = valid and os.path.exists(os.path.join(folder_path, 'conc.tiff'))\n",
    "    return valid\n",
    "    "
   ]
  },
  {
   "cell_type": "code",
   "execution_count": 10,
   "metadata": {},
   "outputs": [],
   "source": [
    "def read_data(folder):\n",
    "    hh_image = cv.imread(os.path.join(folder, 'imagery_HH.tif'), cv.IMREAD_GRAYSCALE)\n",
    "    hv_image = cv.imread(os.path.join(folder, 'imagery_HV.tif'), cv.IMREAD_GRAYSCALE)\n",
    "    conc_image = cv.imread(os.path.join(folder, 'conc.tiff'), cv.IMREAD_GRAYSCALE)\n",
    "    return hh_image, hv_image, conc_image"
   ]
  },
  {
   "cell_type": "code",
   "execution_count": 11,
   "metadata": {},
   "outputs": [],
   "source": [
    "folders = [f for f in glob.glob(os.path.join('training_data/20*')) if is_data_valid(f)]"
   ]
  },
  {
   "cell_type": "code",
   "execution_count": 12,
   "metadata": {},
   "outputs": [],
   "source": [
    "random.seed(1)"
   ]
  },
  {
   "cell_type": "code",
   "execution_count": 13,
   "metadata": {},
   "outputs": [],
   "source": [
    "rand_folders = sorted(folders, key=lambda f: random.random())"
   ]
  },
  {
   "cell_type": "code",
   "execution_count": 14,
   "metadata": {},
   "outputs": [],
   "source": [
    "train_amount = len(rand_folders)//6"
   ]
  },
  {
   "cell_type": "code",
   "execution_count": 15,
   "metadata": {},
   "outputs": [],
   "source": [
    "training_folders = rand_folders[:-train_amount]\n",
    "testing_folders = rand_folders[-train_amount:]"
   ]
  },
  {
   "cell_type": "code",
   "execution_count": 16,
   "metadata": {},
   "outputs": [],
   "source": [
    "def gen_tile_data(folder_name, images, labels, pos, dry_run=False, multiplier=1):\n",
    "    amount = 0\n",
    "    try:\n",
    "        SHIFT = TILE_SIZE//multiplier\n",
    "        hh_image, hv_image, conc_image = read_data(folder_name)\n",
    "        conc_image_big = cv.resize(conc_image, hh_image.shape[0:2][::-1])\n",
    "        for _ in range(multiplier):\n",
    "            hh_image = hh_image[SHIFT:, SHIFT:]\n",
    "            hv_image = hv_image[SHIFT:, SHIFT:]\n",
    "            conc_image_big = conc_image_big[SHIFT:, SHIFT:]\n",
    "            im_tiles, c_tiles = tile_image(hh_image, hv_image, conc_image_big)\n",
    "            if not dry_run:\n",
    "                images[pos+amount:pos + amount+ len(im_tiles)] = im_tiles\n",
    "                labels[pos+amount:pos + amount + len(c_tiles)] = c_tiles\n",
    "            amount = amount + len(im_tiles)\n",
    "    except:\n",
    "        print(folder_name)\n",
    "    if dry_run:\n",
    "        return amount\n",
    "    return images, labels, pos + amount"
   ]
  },
  {
   "cell_type": "code",
   "execution_count": 17,
   "metadata": {},
   "outputs": [
    {
     "name": "stderr",
     "output_type": "stream",
     "text": [
      " 13%|█▎        | 3/23 [00:04<00:32,  1.65s/it]"
     ]
    },
    {
     "name": "stdout",
     "output_type": "stream",
     "text": [
      "training_data/20110717B\n"
     ]
    },
    {
     "name": "stderr",
     "output_type": "stream",
     "text": [
      " 74%|███████▍  | 17/23 [00:31<00:11,  1.84s/it]"
     ]
    },
    {
     "name": "stdout",
     "output_type": "stream",
     "text": [
      "training_data/20110214\n"
     ]
    },
    {
     "name": "stderr",
     "output_type": "stream",
     "text": [
      "100%|██████████| 23/23 [00:44<00:00,  1.93s/it]\n"
     ]
    }
   ],
   "source": [
    "train_length = 0\n",
    "for k, folder in enumerate(tqdm.tqdm(training_folders)):\n",
    "    train_length += gen_tile_data(folder, None, None, pos=0, dry_run=True)"
   ]
  },
  {
   "cell_type": "code",
   "execution_count": 18,
   "metadata": {},
   "outputs": [
    {
     "name": "stderr",
     "output_type": "stream",
     "text": [
      "100%|██████████| 4/4 [00:09<00:00,  2.27s/it]\n"
     ]
    }
   ],
   "source": [
    "test_length = 0\n",
    "for k, folder in enumerate(tqdm.tqdm(testing_folders)):\n",
    "    test_length += gen_tile_data(folder, None, None, pos=0, dry_run=True)"
   ]
  },
  {
   "cell_type": "code",
   "execution_count": 19,
   "metadata": {},
   "outputs": [],
   "source": [
    "training_images = np.zeros((train_length, TILE_SIZE, TILE_SIZE, 2), dtype=np.float32)\n",
    "training_labels = np.zeros((train_length, 1), dtype=np.float32)\n",
    "\n",
    "testing_images = np.zeros((test_length, TILE_SIZE, TILE_SIZE, 2), dtype=np.float32)\n",
    "testing_labels = np.zeros((test_length, 1), dtype=np.float32)"
   ]
  },
  {
   "cell_type": "code",
   "execution_count": 20,
   "metadata": {},
   "outputs": [
    {
     "name": "stderr",
     "output_type": "stream",
     "text": [
      " 13%|█▎        | 3/23 [00:03<00:21,  1.07s/it]"
     ]
    },
    {
     "name": "stdout",
     "output_type": "stream",
     "text": [
      "training_data/20110717B\n"
     ]
    },
    {
     "name": "stderr",
     "output_type": "stream",
     "text": [
      " 74%|███████▍  | 17/23 [00:22<00:07,  1.33s/it]"
     ]
    },
    {
     "name": "stdout",
     "output_type": "stream",
     "text": [
      "training_data/20110214\n"
     ]
    },
    {
     "name": "stderr",
     "output_type": "stream",
     "text": [
      "100%|██████████| 23/23 [00:31<00:00,  1.39s/it]\n",
      "100%|██████████| 4/4 [00:06<00:00,  1.74s/it]\n"
     ]
    }
   ],
   "source": [
    "pos = 0\n",
    "for k, folder in enumerate(tqdm.tqdm(training_folders)):\n",
    "    training_images, training_labels, pos = gen_tile_data(folder, training_images, training_labels, pos)\n",
    "\n",
    "pos = 0\n",
    "for k, folder in enumerate(tqdm.tqdm(testing_folders)):\n",
    "    testing_images, testing_labels, pos = gen_tile_data(folder, testing_images, testing_labels, pos)"
   ]
  },
  {
   "cell_type": "code",
   "execution_count": 50,
   "metadata": {},
   "outputs": [],
   "source": [
    "# TODO: tune hyper params\n",
    "optimizer = keras.optimizers.RMSprop(lr=0.00001)\n",
    "# metrics = ['accuracy']\n",
    "loss = 'mean_absolute_error'\n",
    "net.compile(optimizer, loss=loss)"
   ]
  },
  {
   "cell_type": "code",
   "execution_count": 52,
   "metadata": {},
   "outputs": [],
   "source": [
    "checkpointer = ModelCheckpoint(filepath='weights/noise_weights_abs22.hdf5', verbose=1, save_best_only=True)"
   ]
  },
  {
   "cell_type": "code",
   "execution_count": 23,
   "metadata": {},
   "outputs": [],
   "source": [
    "hist_loss_noise = []\n",
    "val_loss_noise = []"
   ]
  },
  {
   "cell_type": "code",
   "execution_count": 66,
   "metadata": {},
   "outputs": [],
   "source": [
    "net.save_weights('weights/noise_weights_abs222244.hdf5')"
   ]
  },
  {
   "cell_type": "code",
   "execution_count": 74,
   "metadata": {
    "scrolled": false
   },
   "outputs": [
    {
     "name": "stdout",
     "output_type": "stream",
     "text": [
      "Train on 19183 samples, validate on 4881 samples\n",
      "Epoch 1/1\n",
      "19183/19183 [==============================] - 276s 14ms/step - loss: 0.1391 - val_loss: 0.1379\n",
      "\n",
      "Epoch 00001: val_loss did not improve\n"
     ]
    }
   ],
   "source": [
    "hist = net.fit(x=training_images, y=training_labels, epochs=1, validation_data=(testing_images, testing_labels), callbacks=[checkpointer])\n",
    "hist_loss_noise += hist.history['loss']\n",
    "val_loss_noise += hist.history['val_loss']"
   ]
  },
  {
   "cell_type": "code",
   "execution_count": 25,
   "metadata": {},
   "outputs": [],
   "source": [
    "import keras.backend as K"
   ]
  },
  {
   "cell_type": "code",
   "execution_count": 71,
   "metadata": {},
   "outputs": [
    {
     "data": {
      "text/plain": [
       "0.005"
      ]
     },
     "execution_count": 71,
     "metadata": {},
     "output_type": "execute_result"
    }
   ],
   "source": [
    " K.get_value(net.optimizer.lr)"
   ]
  },
  {
   "cell_type": "code",
   "execution_count": 73,
   "metadata": {},
   "outputs": [],
   "source": [
    "K.set_value(net.optimizer.lr, K.get_value(net.optimizer.lr)/5)"
   ]
  },
  {
   "cell_type": "code",
   "execution_count": null,
   "metadata": {},
   "outputs": [],
   "source": [
    "net_noise.load_weights('check.h5')"
   ]
  },
  {
   "cell_type": "code",
   "execution_count": null,
   "metadata": {},
   "outputs": [],
   "source": [
    "print('h')"
   ]
  },
  {
   "cell_type": "code",
   "execution_count": null,
   "metadata": {},
   "outputs": [],
   "source": [
    "val_loss += hist.history['val_loss']"
   ]
  },
  {
   "cell_type": "code",
   "execution_count": null,
   "metadata": {},
   "outputs": [],
   "source": [
    "hist_loss"
   ]
  },
  {
   "cell_type": "code",
   "execution_count": null,
   "metadata": {},
   "outputs": [],
   "source": [
    "hist = net.fit(x=training_images, y=training_labels, epochs=1, batch_size=32, validation_data=(testing_images, testing_labels))\n",
    "hist_loss += hist.history['loss']"
   ]
  },
  {
   "cell_type": "code",
   "execution_count": null,
   "metadata": {},
   "outputs": [],
   "source": [
    "for i in range(3):\n",
    "    hist = net.fit(x=training_images, y=training_labels, epochs=3, validation_data=(testing_images, testing_labels))\n",
    "    hist_loss += hist.history['loss']"
   ]
  },
  {
   "cell_type": "code",
   "execution_count": 61,
   "metadata": {
    "scrolled": true
   },
   "outputs": [
    {
     "data": {
      "image/png": "[encoded data removed]",
      "text/plain": [
       "<matplotlib.figure.Figure at 0x7fcf09439160>"
      ]
     },
     "metadata": {},
     "output_type": "display_data"
    },
    {
     "data": {
      "image/png": "[encoded data removed]",
      "text/plain": [
       "<matplotlib.figure.Figure at 0x7fcf09397710>"
      ]
     },
     "metadata": {},
     "output_type": "display_data"
    }
   ],
   "source": [
    "fig = plt.figure()\n",
    "plt.plot(val_loss_noise, label='test')\n",
    "plt.plot(hist_loss_noise, label='train')\n",
    "plt.ylabel('MAE')\n",
    "plt.xlabel('epoch')\n",
    "plt.legend()\n",
    "# fig.get_axes()[0].set_ylim(0, 0.1)\n",
    "plt.grid()\n",
    "\n",
    "fig = plt.figure()\n",
    "plt.plot(np.power(val_loss_noise,2), label='test')\n",
    "plt.plot(np.power(hist_loss_noise,2), label='train')\n",
    "plt.ylabel('SMAE')\n",
    "plt.xlabel('epoch')\n",
    "plt.legend()\n",
    "# fig.get_axes()[0].set_ylim(0, 0.1)\n",
    "plt.grid()"
   ]
  },
  {
   "cell_type": "code",
   "execution_count": null,
   "metadata": {},
   "outputs": [],
   "source": [
    "\n"
   ]
  },
  {
   "cell_type": "code",
   "execution_count": null,
   "metadata": {},
   "outputs": [],
   "source": [
    "plt.plot(training_labels.flatten())"
   ]
  },
  {
   "cell_type": "code",
   "execution_count": null,
   "metadata": {},
   "outputs": [],
   "source": [
    "hh_image, hv_image, conc_image = read_data(testing_folders[2])\n",
    "conc_image_big = cv.resize(conc_image, hh_image.shape[0:2][::-1])\n"
   ]
  },
  {
   "cell_type": "code",
   "execution_count": null,
   "metadata": {},
   "outputs": [],
   "source": [
    "del hh_image\n",
    "del hv_image\n",
    "del conc_image"
   ]
  },
  {
   "cell_type": "code",
   "execution_count": null,
   "metadata": {},
   "outputs": [],
   "source": [
    "del training_images"
   ]
  },
  {
   "cell_type": "code",
   "execution_count": null,
   "metadata": {},
   "outputs": [],
   "source": [
    "for test_folder in testing_folders:\n",
    "    hh_image, hv_image, conc_image = read_data(test_folder)\n",
    "    conc_image_big = cv.resize(conc_image, hh_image.shape[0:2][::-1])\n",
    "    conc = predict_image_fine(hh_image, hv_image, conc_image_big, net)\n",
    "    image_name = os.path.basename(test_folder) + \".tiff\"\n",
    "    cv.imwrite(image_name, conc)\n",
    "    print(image_name)"
   ]
  },
  {
   "cell_type": "code",
   "execution_count": null,
   "metadata": {},
   "outputs": [],
   "source": [
    "conc = predict_image_fine(hh_image, hv_image, conc_image_big, net)"
   ]
  },
  {
   "cell_type": "code",
   "execution_count": null,
   "metadata": {},
   "outputs": [],
   "source": []
  },
  {
   "cell_type": "code",
   "execution_count": null,
   "metadata": {},
   "outputs": [],
   "source": [
    "n = matplotlib.colors.Normalize(vmin=0.,vmax=1.)"
   ]
  },
  {
   "cell_type": "code",
   "execution_count": null,
   "metadata": {},
   "outputs": [],
   "source": [
    "# plt.figure(figsize=(11,11))\n",
    "plt.imshow(hh_image)"
   ]
  },
  {
   "cell_type": "code",
   "execution_count": null,
   "metadata": {},
   "outputs": [],
   "source": [
    "conc.shape"
   ]
  },
  {
   "cell_type": "code",
   "execution_count": null,
   "metadata": {},
   "outputs": [],
   "source": [
    "plt.imshow(conc_image)\n",
    "plt.colorbar()"
   ]
  },
  {
   "cell_type": "code",
   "execution_count": null,
   "metadata": {},
   "outputs": [],
   "source": [
    "plt.imshow(conc, norm=n)\n",
    "plt.colorbar()"
   ]
  },
  {
   "cell_type": "code",
   "execution_count": null,
   "metadata": {},
   "outputs": [],
   "source": [
    "testing_folders"
   ]
  },
  {
   "cell_type": "code",
   "execution_count": null,
   "metadata": {},
   "outputs": [],
   "source": [
    "plt.imshow(conc_image)\n",
    "plt.colorbar()"
   ]
  },
  {
   "cell_type": "code",
   "execution_count": null,
   "metadata": {},
   "outputs": [],
   "source": [
    "import matplotlib"
   ]
  },
  {
   "cell_type": "code",
   "execution_count": null,
   "metadata": {},
   "outputs": [],
   "source": []
  },
  {
   "cell_type": "code",
   "execution_count": null,
   "metadata": {},
   "outputs": [],
   "source": [
    "plt.imshow(conc,norm=n)\n",
    "plt.colorbar()"
   ]
  },
  {
   "cell_type": "code",
   "execution_count": null,
   "metadata": {},
   "outputs": [],
   "source": [
    "plt.imshow(conc, norm=n)\n",
    "plt.colorbar()"
   ]
  },
  {
   "cell_type": "code",
   "execution_count": null,
   "metadata": {},
   "outputs": [],
   "source": [
    "conc_test = conc.copy()"
   ]
  },
  {
   "cell_type": "code",
   "execution_count": null,
   "metadata": {},
   "outputs": [],
   "source": [
    "conc_re = cv.resize(conc_test, conc_image.shape[0:2][::-1])"
   ]
  },
  {
   "cell_type": "code",
   "execution_count": null,
   "metadata": {},
   "outputs": [],
   "source": [
    "conc_re.dtype"
   ]
  },
  {
   "cell_type": "code",
   "execution_count": null,
   "metadata": {},
   "outputs": [],
   "source": [
    "plt.imshow(conc_re)\n",
    "plt.colorbar()"
   ]
  },
  {
   "cell_type": "code",
   "execution_count": null,
   "metadata": {},
   "outputs": [],
   "source": [
    "mask = conc_image == 255"
   ]
  },
  {
   "cell_type": "code",
   "execution_count": null,
   "metadata": {},
   "outputs": [],
   "source": [
    "masked_conc = np.ma.masked_array(conc_image, mask)"
   ]
  },
  {
   "cell_type": "code",
   "execution_count": null,
   "metadata": {},
   "outputs": [],
   "source": [
    "plt.imshow(masked_conc/100, norm=n)\n",
    "plt.colorbar()"
   ]
  },
  {
   "cell_type": "code",
   "execution_count": null,
   "metadata": {},
   "outputs": [],
   "source": [
    "plt.imshow(conc_image - mask)"
   ]
  },
  {
   "cell_type": "code",
   "execution_count": null,
   "metadata": {},
   "outputs": [],
   "source": [
    "plt.imshow(conc_image)\n",
    "plt.colorbar()"
   ]
  },
  {
   "cell_type": "code",
   "execution_count": null,
   "metadata": {},
   "outputs": [],
   "source": [
    "test = net.predict(training_images[1000:1001])"
   ]
  },
  {
   "cell_type": "code",
   "execution_count": null,
   "metadata": {},
   "outputs": [],
   "source": [
    "test"
   ]
  },
  {
   "cell_type": "code",
   "execution_count": null,
   "metadata": {},
   "outputs": [],
   "source": [
    "plt.imshow(hh_image)"
   ]
  },
  {
   "cell_type": "code",
   "execution_count": null,
   "metadata": {},
   "outputs": [],
   "source": [
    "net.save_weights('densenet_reset_v2.h5')"
   ]
  },
  {
   "cell_type": "code",
   "execution_count": null,
   "metadata": {},
   "outputs": [],
   "source": [
    "net.load_weights('densenet_reset_v1.h5')"
   ]
  },
  {
   "cell_type": "code",
   "execution_count": null,
   "metadata": {},
   "outputs": [],
   "source": [
    "# after we have saved the network we want to predict an image and compare it to the result\n"
   ]
  },
  {
   "cell_type": "code",
   "execution_count": null,
   "metadata": {},
   "outputs": [],
   "source": [
    "plt.plot(hist.history['loss'])"
   ]
  },
  {
   "cell_type": "code",
   "execution_count": null,
   "metadata": {},
   "outputs": [],
   "source": [
    "plt.imshow(training_images[100,:,:,0])"
   ]
  },
  {
   "cell_type": "code",
   "execution_count": null,
   "metadata": {},
   "outputs": [],
   "source": [
    "plt"
   ]
  },
  {
   "cell_type": "code",
   "execution_count": null,
   "metadata": {},
   "outputs": [],
   "source": [
    "hist.history.keys()"
   ]
  }
 ],
 "metadata": {
  "kernelspec": {
   "display_name": "Python 3",
   "language": "python",
   "name": "python3"
  },
  "language_info": {
   "codemirror_mode": {
    "name": "ipython",
    "version": 3
   },
   "file_extension": ".py",
   "mimetype": "text/x-python",
   "name": "python",
   "nbconvert_exporter": "python",
   "pygments_lexer": "ipython3",
   "version": "3.6.2"
  }
 },
 "nbformat": 4,
 "nbformat_minor": 2
}
