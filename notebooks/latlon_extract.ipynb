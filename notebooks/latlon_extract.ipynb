{
 "cells": [
  {
   "cell_type": "code",
   "execution_count": 1,
   "metadata": {},
   "outputs": [],
   "source": [
    "import numpy as np\n",
    "import matplotlib.pyplot as plt\n",
    "import os\n",
    "import glob\n",
    "import cv2 as cv\n",
    "from osgeo import gdal\n",
    "import netCDF4\n",
    "import tqdm\n",
    "from scipy.spatial import ckdtree\n",
    "plt.ion()\n",
    "import xml.etree.ElementTree as ET\n",
    "import scipy.io as io\n",
    "\n",
    "import cv2 as cv\n",
    "import matplotlib.pyplot as plt\n",
    "plt.ion()\n",
    "import os\n",
    "import glob\n",
    "import matplotlib.colors as colors\n",
    "import numpy as np\n",
    "import shapefile\n",
    "import gdal\n",
    "import gzip\n",
    "import shutil\n",
    "import tqdm\n",
    "import os"
   ]
  },
  {
   "cell_type": "code",
   "execution_count": 2,
   "metadata": {},
   "outputs": [],
   "source": [
    "def unzip_and_write(filepath):\n",
    "    if filepath[-2:] == 'gz':\n",
    "        with gzip.open(filepath, 'rb') as f_in:\n",
    "            with open(filepath[:-2], 'wb') as f_out:\n",
    "                shutil.copyfileobj(f_in, f_out)"
   ]
  },
  {
   "cell_type": "code",
   "execution_count": 3,
   "metadata": {},
   "outputs": [],
   "source": [
    "# under WGS84 Assumption\n",
    "# \"a\"\n",
    "semiMajor = 6.378137000000000e+06\n",
    "# \"b\"\n",
    "semiMinor = 6.356752314245179e+06\n",
    "# \"Rnear\"\n",
    "slant = 8.436862401575363e+05\n",
    "groundOrigin = 0"
   ]
  },
  {
   "cell_type": "code",
   "execution_count": 7,
   "metadata": {},
   "outputs": [],
   "source": [
    "# land_mask = io.loadmat('landmaskna.mat')\n",
    "# land_mask_val = land_mask['landnafp']\n",
    "# land_mask_flat_lat = land_mask['latvalsna'].flatten()\n",
    "# land_mask_flat_lon = land_mask['lonvalsna'].flatten()\n",
    "# # land_mask_xyz = np.zeros([len(land_mask_flat_lat)*len(land_mask_flat_lon), 3])\n",
    "# # count = 0\n",
    "# # for lon in tqdm.tqdm(land_mask_flat_lon):\n",
    "# #     for lat in land_mask_flat_lat:\n",
    "# #         land_mask_xyz[count] = cart_transform(lat, lon)\n",
    "# #         count = count + 1\n",
    "        \n",
    "# land_lat_fit = np.poly1d(np.polyfit(land_mask_flat_lat,range(0, len(land_mask_flat_lat)), 1))\n",
    "# land_lon_fit = np.poly1d(np.polyfit(land_mask_flat_lon, range(0, len(land_mask_flat_lon)), 1))"
   ]
  },
  {
   "cell_type": "code",
   "execution_count": 4,
   "metadata": {},
   "outputs": [],
   "source": [
    "def cart_transform(phi, lam):\n",
    "    phi_rad = np.pi * phi/180\n",
    "    lam_rad = np.pi * lam/180\n",
    "    den = np.sqrt(semiMajor*semiMajor*np.cos(phi_rad)*np.cos(phi_rad) + semiMinor*semiMinor*np.sin(phi_rad)*np.sin(phi_rad))    \n",
    "    Xuv = (semiMajor*semiMajor * np.cos(phi_rad) * np.cos(lam_rad))/den\n",
    "    Yuv = (semiMajor*semiMajor * np.cos(phi_rad) * np.sin(lam_rad))/den\n",
    "    Zuv = (semiMinor*semiMinor*np.sin(phi_rad))/den\n",
    "    return (Xuv, Yuv, Zuv)\n",
    "\n",
    "def cart_inv(x,y,z):\n",
    "    phi_rad = np.arctan(semiMajor*z/(semiMinor*np.sqrt(semiMinor*semiMinor - z*z)))\n",
    "    lam_rad = np.arctan2(y,x)\n",
    "    phi = 180*phi_rad/(np.pi)\n",
    "    lam = 180*lam_rad/(np.pi)\n",
    "    return phi, lam\n",
    "\n",
    "def idw(distances):\n",
    "    if np.count_nonzero(distances) != len(distances):\n",
    "        weights = np.zeros_like(distances)\n",
    "        weights[0] = 1\n",
    "    else:\n",
    "        inverse_sum = sum([1/d for d in distances])\n",
    "        weights = (1/distances)/inverse_sum\n",
    "    return weights"
   ]
  },
  {
   "cell_type": "code",
   "execution_count": 5,
   "metadata": {},
   "outputs": [],
   "source": [
    "def concentration(lat, lon):\n",
    "    \n",
    "    '''\n",
    "    Given a lat-lon pair interpolate using IDW to find the actual concentration\n",
    "    '''\n",
    "    land_pos_y = int(np.round(land_lon_fit(lon)))\n",
    "    land_pos_x = int(np.round(land_lat_fit(lat)))\n",
    "    \n",
    "    land_val = land_mask_val[land_pos_x,land_pos_y]\n",
    "    \n",
    "    if not np.isnan(land_val):\n",
    "        return np.nan\n",
    "    else:\n",
    "        return 1\n",
    "#     dists, idxs = tree.query((lat, lon), samples)\n",
    "#     concentration_values = np.array([chart_data_flat[i] for i in idxs])\n",
    "#     nan_vals = np.isnan(concentration_values)\n",
    "#     if any(nan_vals):\n",
    "#         return np.nan\n",
    "#     try:\n",
    "#         weights = idw(dists)\n",
    "#     except:\n",
    "#         weights = 1\n",
    "#         return chart_data_flat[idxs]\n",
    "#     return np.sum(np.multiply(concentration_values, weights))"
   ]
  },
  {
   "cell_type": "code",
   "execution_count": 6,
   "metadata": {},
   "outputs": [],
   "source": [
    "def concentration_Z(x, y):\n",
    "    \n",
    "    '''\n",
    "    Given a lat-lon pair interpolate using IDW to find the actual concentration\n",
    "    '''\n",
    "    land_pos_y = int(np.round(land_lon_fit(lon)))\n",
    "    land_pos_x = int(np.round(land_lat_fit(lat)))\n",
    "    \n",
    "    land_val = land_mask_val[land_pos_x,land_pos_y]\n",
    "    \n",
    "    if not np.isnan(land_val):\n",
    "        return np.nan\n",
    "    else:\n",
    "        return 1"
   ]
  },
  {
   "cell_type": "code",
   "execution_count": 7,
   "metadata": {},
   "outputs": [],
   "source": [
    "def gen_conc_image(geotiff_path, DOWN_RATE=16):\n",
    "    dataset = gdal.Open(geotiff_path, gdal.GA_ReadOnly)\n",
    "\n",
    "    image_shape = [np.round(dataset.RasterYSize/DOWN_RATE).astype(np.int), np.round(dataset.RasterXSize/DOWN_RATE).astype(np.int)]\n",
    "    print(image_shape)\n",
    "    \n",
    "    control_pts = dataset.GetGCPs()\n",
    "    control_pixel_locations = [(pt.GCPLine/DOWN_RATE, pt.GCPPixel/DOWN_RATE) for pt in control_pts]\n",
    "    control_tree = ckdtree.cKDTree(control_pixel_locations)\n",
    "    \n",
    "    SAMPLES = 4\n",
    "    pos_values = [cart_transform(pt.GCPY, pt.GCPX) for pt in control_pts]\n",
    "    concentration_image = np.zeros((image_shape))\n",
    "    lat_lon_image = np.zeros((image_shape[0], image_shape[1], 2))\n",
    "    for i in (range(concentration_image.shape[0])):\n",
    "        for j in range(concentration_image.shape[1]):\n",
    "            distances, indices = control_tree.query((i, j), SAMPLES)\n",
    "            weights = idw(distances)\n",
    "            X_values = [pos_values[index][0] for index in indices]\n",
    "            Y_values = [pos_values[index][1] for index in indices]\n",
    "            Z_values = [pos_values[index][2] for index in indices]\n",
    "            X = np.sum(np.multiply(X_values, weights))\n",
    "            Y = np.sum(np.multiply(Y_values, weights))\n",
    "            Z = np.sum(np.multiply(Z_values, weights))\n",
    "#             conc_Z = concentration_Z(XYZ_tree, X,Y,Z, chart_data_flat)\n",
    "            lat, lon = cart_inv(X,Y,Z)\n",
    "            lat_lon_image[i,j,0] = lat \n",
    "            lat_lon_image[i,j,1] = lon\n",
    "            conc = concentration(lat, lon)\n",
    "            concentration_image[i, j] = conc\n",
    "    \n",
    "    return concentration_image, lat_lon_image"
   ]
  },
  {
   "cell_type": "code",
   "execution_count": null,
   "metadata": {},
   "outputs": [],
   "source": []
  },
  {
   "cell_type": "code",
   "execution_count": 40,
   "metadata": {
    "scrolled": true
   },
   "outputs": [
    {
     "name": "stderr",
     "output_type": "stream",
     "text": [
      "\r",
      "  0%|                                                                                           | 0/13 [00:00<?, ?it/s]"
     ]
    },
    {
     "name": "stdout",
     "output_type": "stream",
     "text": [
      "[611, 659]\n"
     ]
    },
    {
     "name": "stderr",
     "output_type": "stream",
     "text": [
      "\r",
      "  8%|██████▍                                                                            | 1/13 [00:54<10:55, 54.66s/it]"
     ]
    },
    {
     "name": "stdout",
     "output_type": "stream",
     "text": [
      "[541, 656]\n"
     ]
    },
    {
     "name": "stderr",
     "output_type": "stream",
     "text": [
      "\r",
      " 15%|████████████▊                                                                      | 2/13 [01:42<09:24, 51.33s/it]"
     ]
    },
    {
     "name": "stdout",
     "output_type": "stream",
     "text": [
      "[442, 657]\n"
     ]
    },
    {
     "name": "stderr",
     "output_type": "stream",
     "text": [
      "\r",
      " 23%|███████████████████▏                                                               | 3/13 [02:22<07:53, 47.36s/it]"
     ]
    },
    {
     "name": "stdout",
     "output_type": "stream",
     "text": [
      "[620, 659]\n"
     ]
    },
    {
     "name": "stderr",
     "output_type": "stream",
     "text": [
      "\r",
      " 31%|█████████████████████████▌                                                         | 4/13 [03:17<07:25, 49.46s/it]"
     ]
    },
    {
     "name": "stdout",
     "output_type": "stream",
     "text": [
      "[634, 660]\n"
     ]
    },
    {
     "name": "stderr",
     "output_type": "stream",
     "text": [
      "\r",
      " 38%|███████████████████████████████▉                                                   | 5/13 [04:16<06:49, 51.21s/it]"
     ]
    },
    {
     "name": "stdout",
     "output_type": "stream",
     "text": [
      "[567, 658]\n"
     ]
    },
    {
     "name": "stderr",
     "output_type": "stream",
     "text": [
      "\r",
      " 46%|██████████████████████████████████████▎                                            | 6/13 [05:07<05:59, 51.31s/it]"
     ]
    },
    {
     "name": "stdout",
     "output_type": "stream",
     "text": [
      "[629, 660]\n"
     ]
    },
    {
     "name": "stderr",
     "output_type": "stream",
     "text": [
      "\r",
      " 54%|████████████████████████████████████████████▋                                      | 7/13 [06:04<05:12, 52.09s/it]"
     ]
    },
    {
     "name": "stdout",
     "output_type": "stream",
     "text": [
      "[634, 661]\n"
     ]
    },
    {
     "name": "stderr",
     "output_type": "stream",
     "text": [
      "\r",
      " 62%|███████████████████████████████████████████████████                                | 8/13 [07:02<04:24, 52.80s/it]"
     ]
    },
    {
     "name": "stdout",
     "output_type": "stream",
     "text": [
      "[629, 660]\n"
     ]
    },
    {
     "name": "stderr",
     "output_type": "stream",
     "text": [
      "\r",
      " 69%|█████████████████████████████████████████████████████████▍                         | 9/13 [08:00<03:33, 53.40s/it]"
     ]
    },
    {
     "name": "stdout",
     "output_type": "stream",
     "text": [
      "[176, 656]\n"
     ]
    },
    {
     "name": "stderr",
     "output_type": "stream",
     "text": [
      "\r",
      " 77%|███████████████████████████████████████████████████████████████                   | 10/13 [08:16<02:29, 49.69s/it]"
     ]
    },
    {
     "name": "stdout",
     "output_type": "stream",
     "text": [
      "[516, 655]\n"
     ]
    },
    {
     "name": "stderr",
     "output_type": "stream",
     "text": [
      "\r",
      " 85%|█████████████████████████████████████████████████████████████████████▍            | 11/13 [09:03<01:38, 49.44s/it]"
     ]
    },
    {
     "name": "stdout",
     "output_type": "stream",
     "text": [
      "[458, 656]\n"
     ]
    },
    {
     "name": "stderr",
     "output_type": "stream",
     "text": [
      "\r",
      " 92%|███████████████████████████████████████████████████████████████████████████▋      | 12/13 [09:45<00:48, 48.76s/it]"
     ]
    },
    {
     "name": "stdout",
     "output_type": "stream",
     "text": [
      "[576, 659]\n"
     ]
    },
    {
     "name": "stderr",
     "output_type": "stream",
     "text": [
      "100%|██████████████████████████████████████████████████████████████████████████████████| 13/13 [10:37<00:00, 49.06s/it]\n",
      "  0%|                                                                                           | 0/10 [00:00<?, ?it/s]"
     ]
    },
    {
     "name": "stdout",
     "output_type": "stream",
     "text": [
      "[632, 661]\n"
     ]
    },
    {
     "name": "stderr",
     "output_type": "stream",
     "text": [
      "\r",
      " 10%|████████▎                                                                          | 1/10 [00:58<08:44, 58.27s/it]"
     ]
    },
    {
     "name": "stdout",
     "output_type": "stream",
     "text": [
      "RS2_OK44067_PK425720_DK376088_SCWA_20130910_131728_HH_HV_SGF\n",
      "[622, 658]\n"
     ]
    },
    {
     "name": "stderr",
     "output_type": "stream",
     "text": [
      "\r",
      " 30%|████████████████████████▉                                                          | 3/10 [01:55<04:29, 38.45s/it]"
     ]
    },
    {
     "name": "stdout",
     "output_type": "stream",
     "text": [
      "[628, 658]\n"
     ]
    },
    {
     "name": "stderr",
     "output_type": "stream",
     "text": [
      "\r",
      " 40%|█████████████████████████████████▏                                                 | 4/10 [02:53<04:20, 43.37s/it]"
     ]
    },
    {
     "name": "stdout",
     "output_type": "stream",
     "text": [
      "RS2_OK44073_PK425834_DK376182_SCWA_20130913_132853_HH_HV_SGF\n"
     ]
    },
    {
     "name": "stderr",
     "output_type": "stream",
     "text": [
      "\r",
      " 50%|█████████████████████████████████████████▌                                         | 5/10 [02:53<02:53, 34.73s/it]"
     ]
    },
    {
     "name": "stdout",
     "output_type": "stream",
     "text": [
      "[628, 658]\n"
     ]
    },
    {
     "name": "stderr",
     "output_type": "stream",
     "text": [
      "\r",
      " 60%|█████████████████████████████████████████████████▊                                 | 6/10 [03:53<02:35, 38.98s/it]"
     ]
    },
    {
     "name": "stdout",
     "output_type": "stream",
     "text": [
      "RS2_OK44073_PK425837_DK376185_SCWA_20130913_151015_HH_HV_SGF\n"
     ]
    },
    {
     "name": "stderr",
     "output_type": "stream",
     "text": [
      "\r",
      " 70%|██████████████████████████████████████████████████████████                         | 7/10 [03:54<01:40, 33.43s/it]"
     ]
    },
    {
     "name": "stdout",
     "output_type": "stream",
     "text": [
      "[628, 662]\n"
     ]
    },
    {
     "name": "stderr",
     "output_type": "stream",
     "text": [
      "\r",
      " 80%|██████████████████████████████████████████████████████████████████▍                | 8/10 [04:51<01:12, 36.44s/it]"
     ]
    },
    {
     "name": "stdout",
     "output_type": "stream",
     "text": [
      "[632, 658]\n"
     ]
    },
    {
     "name": "stderr",
     "output_type": "stream",
     "text": [
      "\r",
      " 90%|██████████████████████████████████████████████████████████████████████████▋        | 9/10 [05:47<00:38, 38.64s/it]"
     ]
    },
    {
     "name": "stdout",
     "output_type": "stream",
     "text": [
      "RS2_OK45827_PK443017_DK394473_SCWA_20131112_105831_HH_HV_SGF\n"
     ]
    },
    {
     "name": "stderr",
     "output_type": "stream",
     "text": [
      "100%|██████████████████████████████████████████████████████████████████████████████████| 10/10 [05:47<00:00, 34.80s/it]\n"
     ]
    }
   ],
   "source": [
    "latlon_folder = r\"C:\\Users\\clvco\\Google Drive\\3B\\URA\\final_results\\latlon_data_normal\\\\\"\n",
    "outlat_folder = r\"C:\\Users\\clvco\\Google Drive\\3B\\URA\\final_results\\latlon_data_revised\\\\\"\n",
    "results_folder = r\"C:\\Users\\clvco\\Google Drive\\3B\\URA\\final_results\\prime-large\"\n",
    "for subfolder in glob.glob(os.path.join(latlon_folder, '*')):\n",
    "    ty = os.path.basename(subfolder)\n",
    "    results = glob.glob(os.path.join(results_folder, ty, 'bigger_*.tiff'))\n",
    "    for result in tqdm.tqdm(results):\n",
    "        res = cv.imread(result, 0)\n",
    "        shape = res.shape\n",
    "        des = os.path.basename(result)[len('bigger_'):-len('.tiff')]\n",
    "        geo_folder = glob.glob(os.path.join('c:/Users/clvco/URA_W18/data_val/**/', '*' + des + '*'))[0]\n",
    "        files = glob.glob(os.path.join(hh_folder, '*.tif'))\n",
    "        files = sorted(files, key=os.path.getsize)\n",
    "        geo_path = files[-1]\n",
    "        assert os.path.exists(geo_path)\n",
    "        conc, latlon_image = gen_conc_image(geo_path)\n",
    "        latlon_image = cv.resize(latlon_image, shape[::-1])\n",
    "        np.savetxt(os.path.join(outlat_folder, ty, 'lat_' + des + '.txt'), latlon_image[:,:,0])\n",
    "        np.savetxt(os.path.join(outlat_folder, ty, 'lon_' + des + '.txt'), latlon_image[:,:,1])\n",
    "        "
   ]
  },
  {
   "cell_type": "code",
   "execution_count": 8,
   "metadata": {},
   "outputs": [],
   "source": [
    "im_folders = [\n",
    "    '20090322',\n",
    "'20100125',\n",
    "'20100131',\n",
    "'20100403',\n",
    "'20100405',\n",
    "'20101005',\n",
    "'20101007',\n",
    "'20101009',\n",
    "'20101013',\n",
    "'20101014',\n",
    "'20101205',\n",
    "'20101213',\n",
    "'20101221',\n",
    "'20110213',\n",
    "'20110214',\n",
    "'20110216',\n",
    "'20110217',\n",
    "'20110220',\n",
    "'20110223',\n",
    "'20110319',\n",
    "'20110405',\n",
    "'20110627',\n",
    "'20110702',\n",
    "'20110705',\n",
    "'20110717',\n",
    "'20110730',\n",
    "'20110731',\n",
    "'20110903',\n",
    "'20090322B',\n",
    "'20100125B',\n",
    "'20100131B',\n",
    "'20101009B',\n",
    "'20110627B',\n",
    "'20110717B',\n",
    "'20110717C',\n",
    "'20110903B',\n",
    "'20110903C',\n",
    "'20110903D'\n",
    "]"
   ]
  },
  {
   "cell_type": "code",
   "execution_count": 22,
   "metadata": {},
   "outputs": [
    {
     "data": {
      "text/plain": [
       "-65.52899254263002"
      ]
     },
     "execution_count": 22,
     "metadata": {},
     "output_type": "execute_result"
    }
   ],
   "source": [
    "control_pts[0].GCPX"
   ]
  },
  {
   "cell_type": "code",
   "execution_count": 72,
   "metadata": {},
   "outputs": [],
   "source": [
    "base_path = 'C:/Users/clvco/URA_W18/training_data/'\n",
    "out_folder = 'C:/Users/clvco/Google Drive/3B/URA/final_results/downsampled_images'\n",
    "folders = [os.path.join(base_path, imf) for imf in im_folders]\n",
    "mean_lats = []\n",
    "mean_lons = []\n",
    "folders = [f for f in folders if '0322B' in f]\n",
    "\n",
    "for folder in folders:\n",
    "    try:\n",
    "        files = glob.glob(os.path.join(folder, '*H*.tif'))[0]\n",
    "        hh_file = cv.imread(files,0)\n",
    "        \n",
    "        hh_down = cv.resize(hh_file, (1000,240))\n",
    "        out_path = os.path.join(out_folder, os.path.basename(folder) + '.tiff')\n",
    "        cv.imwrite(out_path, hh_down)\n",
    "    except:\n",
    "        print(folder)\n"
   ]
  },
  {
   "cell_type": "code",
   "execution_count": 70,
   "metadata": {},
   "outputs": [
    {
     "data": {
      "text/plain": [
       "(2421, 10475)"
      ]
     },
     "execution_count": 70,
     "metadata": {},
     "output_type": "execute_result"
    }
   ],
   "source": [
    "hh_file.shape"
   ]
  },
  {
   "cell_type": "code",
   "execution_count": 68,
   "metadata": {},
   "outputs": [
    {
     "data": {
      "text/plain": [
       "['C:/Users/clvco/URA_W18/training_data/20090322B']"
      ]
     },
     "execution_count": 68,
     "metadata": {},
     "output_type": "execute_result"
    }
   ],
   "source": [
    "folders"
   ]
  },
  {
   "cell_type": "code",
   "execution_count": 64,
   "metadata": {},
   "outputs": [
    {
     "data": {
      "text/plain": [
       "'C:/Users/clvco/Google Drive/3B/URA/final_results/downsampled_images\\\\20090322.tiff'"
      ]
     },
     "execution_count": 64,
     "metadata": {},
     "output_type": "execute_result"
    }
   ],
   "source": [
    "out_path"
   ]
  },
  {
   "cell_type": "code",
   "execution_count": 57,
   "metadata": {},
   "outputs": [
    {
     "data": {
      "text/plain": [
       "<matplotlib.image.AxesImage at 0x17700a92940>"
      ]
     },
     "execution_count": 57,
     "metadata": {},
     "output_type": "execute_result"
    },
    {
     "data": {
      "image/png": "[encoded data removed]",
      "text/plain": [
       "<matplotlib.figure.Figure at 0x1770932eb38>"
      ]
     },
     "metadata": {},
     "output_type": "display_data"
    }
   ],
   "source": [
    "plt.imshow(hh_down, plt.cm.gray)"
   ]
  },
  {
   "cell_type": "code",
   "execution_count": 52,
   "metadata": {},
   "outputs": [
    {
     "data": {
      "text/plain": [
       "'C:/Users/clvco/URA_W18/training_data/20110903D\\\\imagery_HH.tif'"
      ]
     },
     "execution_count": 52,
     "metadata": {},
     "output_type": "execute_result"
    }
   ],
   "source": []
  },
  {
   "cell_type": "code",
   "execution_count": 50,
   "metadata": {},
   "outputs": [
    {
     "data": {
      "text/plain": [
       "'C:/Users/clvco/URA_W18/training_data/20100125'"
      ]
     },
     "execution_count": 50,
     "metadata": {},
     "output_type": "execute_result"
    }
   ],
   "source": [
    "folder\n",
    "\n"
   ]
  },
  {
   "cell_type": "code",
   "execution_count": 44,
   "metadata": {},
   "outputs": [
    {
     "data": {
      "text/plain": [
       "['C:/Users/clvco/URA_W18/training_data/20110903D\\\\imagery_HH.tif']"
      ]
     },
     "execution_count": 44,
     "metadata": {},
     "output_type": "execute_result"
    }
   ],
   "source": [
    "files"
   ]
  },
  {
   "cell_type": "code",
   "execution_count": 40,
   "metadata": {},
   "outputs": [
    {
     "name": "stdout",
     "output_type": "stream",
     "text": [
      "58.6867437285 $ -61.5892524709 $ 58.6867437285 , -61.5892524709\n",
      "60.1221893812 $ -57.8765912092 $ 60.1221893812 , -57.8765912092\n",
      "48.6497520578 $ -67.8958663917 $ 48.6497520578 , -67.8958663917\n",
      "70.6407480444 $ -132.099536306 $ 70.6407480444 , -132.099536306\n",
      "71.1012905768 $ -142.267956847 $ 71.1012905768 , -142.267956847\n",
      "69.4443281412 $ -96.4835964027 $ 69.4443281412 , -96.4835964027\n",
      "72.7277455761 $ -116.709960441 $ 72.7277455761 , -116.709960441\n",
      "71.2853229769 $ -78.0601800927 $ 71.2853229769 , -78.0601800927\n",
      "68.9412242388 $ -100.730863377 $ 68.9412242388 , -100.730863377\n",
      "73.9241891256 $ -116.995928337 $ 73.9241891256 , -116.995928337\n",
      "60.9223092426 $ -93.2717037383 $ 60.9223092426 , -93.2717037383\n",
      "73.0091525904 $ -77.6292224108 $ 73.0091525904 , -77.6292224108\n",
      "44.3812828196 $ -81.6121301645 $ 44.3812828196 , -81.6121301645\n",
      "60.0753659972 $ -57.8996581284 $ 60.0753659972 , -57.8996581284\n",
      "54.8047314841 $ -52.4240375153 $ 54.8047314841 , -52.4240375153\n",
      "57.2870744446 $ -62.1063402396 $ 57.2870744446 , -62.1063402396\n",
      "53.1787518589 $ -56.0783566802 $ 53.1787518589 , -56.0783566802\n",
      "55.4740817825 $ -58.5294523555 $ 55.4740817825 , -58.5294523555\n",
      "48.7868271372 $ -63.6619934604 $ 48.7868271372 , -63.6619934604\n",
      "57.8110920429 $ -60.8755973017 $ 57.8110920429 , -60.8755973017\n",
      "61.6195642984 $ -60.4324973441 $ 61.6195642984 , -60.4324973441\n",
      "52.7855023905 $ -81.8568499329 $ 52.7855023905 , -81.8568499329\n",
      "69.8502461039 $ -114.845199587 $ 69.8502461039 , -114.845199587\n",
      "57.4781226155 $ -74.9903296758 $ 57.4781226155 , -74.9903296758\n",
      "78.875328692 $ -119.83105183 $ 78.875328692 , -119.83105183\n",
      "72.9697132651 $ -108.090188988 $ 72.9697132651 , -108.090188988\n",
      "83.0568415957 $ -91.1926631147 $ 83.0568415957 , -91.1926631147\n",
      "77.5627370905 $ -147.524913425 $ 77.5627370905 , -147.524913425\n",
      "56.0568508098 $ -62.5292213223 $ 56.0568508098 , -62.5292213223\n",
      "55.7984349936 $ -59.4604579265 $ 55.7984349936 , -59.4604579265\n",
      "63.030719204 $ -62.9610802472 $ 63.030719204 , -62.9610802472\n",
      "75.8201090609 $ -123.830343337 $ 75.8201090609 , -123.830343337\n",
      "57.157485691 $ -83.2713756797 $ 57.157485691 , -83.2713756797\n",
      "74.7373636353 $ -126.210089792 $ 74.7373636353 , -126.210089792\n",
      "-1 $ -1 $ -1 , -1\n",
      "73.3583692878 $ -152.857698831 $ 73.3583692878 , -152.857698831\n",
      "75.7806893228 $ -124.948739191 $ 75.7806893228 , -124.948739191\n",
      "71.5512707538 $ -129.278642177 $ 71.5512707538 , -129.278642177\n"
     ]
    }
   ],
   "source": [
    "for lat, lon in zip(mean_lats, mean_lons):\n",
    "    print(lat,'$', lon,'$', lat,',',lon)"
   ]
  },
  {
   "cell_type": "code",
   "execution_count": 31,
   "metadata": {},
   "outputs": [
    {
     "data": {
      "text/plain": [
       "[58.686743728458836]"
      ]
     },
     "execution_count": 31,
     "metadata": {},
     "output_type": "execute_result"
    }
   ],
   "source": [
    "mean_lats"
   ]
  },
  {
   "cell_type": "code",
   "execution_count": 32,
   "metadata": {},
   "outputs": [
    {
     "data": {
      "text/plain": [
       "[-61.589252470931093]"
      ]
     },
     "execution_count": 32,
     "metadata": {},
     "output_type": "execute_result"
    }
   ],
   "source": [
    "mean_lons"
   ]
  },
  {
   "cell_type": "code",
   "execution_count": 29,
   "metadata": {},
   "outputs": [
    {
     "data": {
      "text/plain": [
       "'C:/Users/clvco/URA_W18/training_data/20090322'"
      ]
     },
     "execution_count": 29,
     "metadata": {},
     "output_type": "execute_result"
    }
   ],
   "source": [
    "folders[0]"
   ]
  },
  {
   "cell_type": "code",
   "execution_count": 25,
   "metadata": {},
   "outputs": [
    {
     "data": {
      "text/plain": [
       "[-65.52899254263002,\n",
       " -64.5530738490794,\n",
       " -63.58114712818004,\n",
       " -62.61355830168902,\n",
       " -61.65073696854972,\n",
       " -60.69312870337794,\n",
       " -59.74113741600578,\n",
       " -58.79508599658033,\n",
       " -57.85520561126911,\n",
       " -56.92167887032296,\n",
       " -55.99480795699436,\n",
       " -65.64692505689322,\n",
       " -64.68456719378152,\n",
       " -63.72607012496669,\n",
       " -62.77176068043667,\n",
       " -61.82204887262372,\n",
       " -60.87736125755581,\n",
       " -59.93808416269962,\n",
       " -59.00452488607759,\n",
       " -58.0769010971599,\n",
       " -57.15538334324464,\n",
       " -56.24026082641264,\n",
       " -65.76337409570493,\n",
       " -64.8141548026262,\n",
       " -63.86867203337238,\n",
       " -62.92723469480094,\n",
       " -61.9902343697299,\n",
       " -61.05807970969607,\n",
       " -60.13114051239109,\n",
       " -59.20970947636367,\n",
       " -58.2939917413915,\n",
       " -57.3841468291511,\n",
       " -56.4804523048246,\n",
       " -65.87843708236541,\n",
       " -64.94195092552255,\n",
       " -64.0090832407876,\n",
       " -63.08012603950868,\n",
       " -62.15545347300338,\n",
       " -61.23545721703272,\n",
       " -60.32049136272205,\n",
       " -59.41083469509834,\n",
       " -58.50668034219222,\n",
       " -57.60817711144494,\n",
       " -56.71559096753276,\n",
       " -65.99214902269357,\n",
       " -65.06800888473927,\n",
       " -64.1473751080016,\n",
       " -63.2305238026072,\n",
       " -62.31781267184189,\n",
       " -61.40961735736716,\n",
       " -60.50627712148417,\n",
       " -59.60805764143775,\n",
       " -58.71514078035355,\n",
       " -57.82766536995287,\n",
       " -56.94588663774171,\n",
       " -66.10460469914335,\n",
       " -65.19243888946308,\n",
       " -64.28367272636079,\n",
       " -63.37856730746452,\n",
       " -62.47746475550737,\n",
       " -61.58072548852965,\n",
       " -60.68867466107052,\n",
       " -59.80156544580502,\n",
       " -58.91956889912878,\n",
       " -58.04281415704368,\n",
       " -57.17154575478885,\n",
       " -66.21583266793311,\n",
       " -65.31528618102942,\n",
       " -64.4180378732387,\n",
       " -63.52433470661931,\n",
       " -62.63450410054028,\n",
       " -61.74889210173932,\n",
       " -60.86781056910321,\n",
       " -59.9915009436066,\n",
       " -59.12012423613903,\n",
       " -58.25380071481712,\n",
       " -57.39276531148922,\n",
       " -66.32588903466873,\n",
       " -65.43661996771311,\n",
       " -64.55055227861153,\n",
       " -63.66791955310327,\n",
       " -62.78903524653318,\n",
       " -61.91423171878928,\n",
       " -61.04380812902215,\n",
       " -60.17799466067927,\n",
       " -59.31694259316632,\n",
       " -58.46076342303319,\n",
       " -57.60968224510875,\n",
       " -66.43483197540819,\n",
       " -65.5565141008151,\n",
       " -64.68130544988495,\n",
       " -63.80942701163701,\n",
       " -62.94117906680231,\n",
       " -62.07688106786506,\n",
       " -61.21682023476843,\n",
       " -60.36121624470241,\n",
       " -59.51021142932656,\n",
       " -58.66390943518558,\n",
       " -57.8225268337608,\n",
       " -66.54271089231321,\n",
       " -65.67502939556532,\n",
       " -64.8103690887147,\n",
       " -63.94893903081731,\n",
       " -63.09102698250212,\n",
       " -62.23694010066364,\n",
       " -61.38695420667414,\n",
       " -60.54127891442126,\n",
       " -59.70004792522273,\n",
       " -58.86335718984382,\n",
       " -58.03141467917086,\n",
       " -66.64956144298323,\n",
       " -65.79221450260486,\n",
       " -64.93780466829234,\n",
       " -64.0865297175751,\n",
       " -63.23866553907433,\n",
       " -62.3945076174624,\n",
       " -61.55432095514863,\n",
       " -60.71830562801468,\n",
       " -59.88658717958669,\n",
       " -59.05925430661754,\n",
       " -58.23650685623349]"
      ]
     },
     "execution_count": 25,
     "metadata": {},
     "output_type": "execute_result"
    }
   ],
   "source": [
    "xs"
   ]
  },
  {
   "cell_type": "code",
   "execution_count": null,
   "metadata": {},
   "outputs": [],
   "source": []
  },
  {
   "cell_type": "code",
   "execution_count": 15,
   "metadata": {},
   "outputs": [
    {
     "data": {
      "text/plain": [
       "(<osgeo.gdal.GCP; proxy of <Swig Object of type 'GDAL_GCP *' at 0x000001770045E870> >,\n",
       " <osgeo.gdal.GCP; proxy of <Swig Object of type 'GDAL_GCP *' at 0x000001770045EC90> >,\n",
       " <osgeo.gdal.GCP; proxy of <Swig Object of type 'GDAL_GCP *' at 0x000001770045E6F0> >,\n",
       " <osgeo.gdal.GCP; proxy of <Swig Object of type 'GDAL_GCP *' at 0x000001770045E7B0> >,\n",
       " <osgeo.gdal.GCP; proxy of <Swig Object of type 'GDAL_GCP *' at 0x000001770045E7E0> >,\n",
       " <osgeo.gdal.GCP; proxy of <Swig Object of type 'GDAL_GCP *' at 0x000001770045E780> >,\n",
       " <osgeo.gdal.GCP; proxy of <Swig Object of type 'GDAL_GCP *' at 0x000001770045E930> >,\n",
       " <osgeo.gdal.GCP; proxy of <Swig Object of type 'GDAL_GCP *' at 0x000001770045EA50> >,\n",
       " <osgeo.gdal.GCP; proxy of <Swig Object of type 'GDAL_GCP *' at 0x000001770045E9F0> >,\n",
       " <osgeo.gdal.GCP; proxy of <Swig Object of type 'GDAL_GCP *' at 0x000001770045E900> >,\n",
       " <osgeo.gdal.GCP; proxy of <Swig Object of type 'GDAL_GCP *' at 0x000001770045E8D0> >,\n",
       " <osgeo.gdal.GCP; proxy of <Swig Object of type 'GDAL_GCP *' at 0x000001770045E6C0> >,\n",
       " <osgeo.gdal.GCP; proxy of <Swig Object of type 'GDAL_GCP *' at 0x000001770045E990> >,\n",
       " <osgeo.gdal.GCP; proxy of <Swig Object of type 'GDAL_GCP *' at 0x000001770045E960> >,\n",
       " <osgeo.gdal.GCP; proxy of <Swig Object of type 'GDAL_GCP *' at 0x000001770045EBA0> >,\n",
       " <osgeo.gdal.GCP; proxy of <Swig Object of type 'GDAL_GCP *' at 0x000001770045E9C0> >,\n",
       " <osgeo.gdal.GCP; proxy of <Swig Object of type 'GDAL_GCP *' at 0x000001770045EB10> >,\n",
       " <osgeo.gdal.GCP; proxy of <Swig Object of type 'GDAL_GCP *' at 0x000001770045EB70> >,\n",
       " <osgeo.gdal.GCP; proxy of <Swig Object of type 'GDAL_GCP *' at 0x000001770045EAB0> >,\n",
       " <osgeo.gdal.GCP; proxy of <Swig Object of type 'GDAL_GCP *' at 0x000001770045EA20> >,\n",
       " <osgeo.gdal.GCP; proxy of <Swig Object of type 'GDAL_GCP *' at 0x000001770045ECF0> >,\n",
       " <osgeo.gdal.GCP; proxy of <Swig Object of type 'GDAL_GCP *' at 0x000001770045EA80> >,\n",
       " <osgeo.gdal.GCP; proxy of <Swig Object of type 'GDAL_GCP *' at 0x000001770045EAE0> >,\n",
       " <osgeo.gdal.GCP; proxy of <Swig Object of type 'GDAL_GCP *' at 0x000001770045EB40> >,\n",
       " <osgeo.gdal.GCP; proxy of <Swig Object of type 'GDAL_GCP *' at 0x000001770045EC30> >,\n",
       " <osgeo.gdal.GCP; proxy of <Swig Object of type 'GDAL_GCP *' at 0x000001770045EC00> >,\n",
       " <osgeo.gdal.GCP; proxy of <Swig Object of type 'GDAL_GCP *' at 0x000001770045ED80> >,\n",
       " <osgeo.gdal.GCP; proxy of <Swig Object of type 'GDAL_GCP *' at 0x000001770045ED20> >,\n",
       " <osgeo.gdal.GCP; proxy of <Swig Object of type 'GDAL_GCP *' at 0x000001770045EDE0> >,\n",
       " <osgeo.gdal.GCP; proxy of <Swig Object of type 'GDAL_GCP *' at 0x000001770045EDB0> >,\n",
       " <osgeo.gdal.GCP; proxy of <Swig Object of type 'GDAL_GCP *' at 0x000001770045EF60> >,\n",
       " <osgeo.gdal.GCP; proxy of <Swig Object of type 'GDAL_GCP *' at 0x000001770045EBD0> >,\n",
       " <osgeo.gdal.GCP; proxy of <Swig Object of type 'GDAL_GCP *' at 0x000001770045EE70> >,\n",
       " <osgeo.gdal.GCP; proxy of <Swig Object of type 'GDAL_GCP *' at 0x000001770045EED0> >,\n",
       " <osgeo.gdal.GCP; proxy of <Swig Object of type 'GDAL_GCP *' at 0x000001770045EF30> >,\n",
       " <osgeo.gdal.GCP; proxy of <Swig Object of type 'GDAL_GCP *' at 0x000001770045EF90> >,\n",
       " <osgeo.gdal.GCP; proxy of <Swig Object of type 'GDAL_GCP *' at 0x000001770045EE40> >,\n",
       " <osgeo.gdal.GCP; proxy of <Swig Object of type 'GDAL_GCP *' at 0x000001770045EE10> >,\n",
       " <osgeo.gdal.GCP; proxy of <Swig Object of type 'GDAL_GCP *' at 0x000001770045EFC0> >,\n",
       " <osgeo.gdal.GCP; proxy of <Swig Object of type 'GDAL_GCP *' at 0x000001770045ED50> >,\n",
       " <osgeo.gdal.GCP; proxy of <Swig Object of type 'GDAL_GCP *' at 0x000001770060AB70> >,\n",
       " <osgeo.gdal.GCP; proxy of <Swig Object of type 'GDAL_GCP *' at 0x000001770060AC90> >,\n",
       " <osgeo.gdal.GCP; proxy of <Swig Object of type 'GDAL_GCP *' at 0x000001770060A630> >,\n",
       " <osgeo.gdal.GCP; proxy of <Swig Object of type 'GDAL_GCP *' at 0x000001770060A3F0> >,\n",
       " <osgeo.gdal.GCP; proxy of <Swig Object of type 'GDAL_GCP *' at 0x000001770060AF90> >,\n",
       " <osgeo.gdal.GCP; proxy of <Swig Object of type 'GDAL_GCP *' at 0x000001770060AD20> >,\n",
       " <osgeo.gdal.GCP; proxy of <Swig Object of type 'GDAL_GCP *' at 0x000001770060AE40> >,\n",
       " <osgeo.gdal.GCP; proxy of <Swig Object of type 'GDAL_GCP *' at 0x000001770060A1E0> >,\n",
       " <osgeo.gdal.GCP; proxy of <Swig Object of type 'GDAL_GCP *' at 0x000001770060A810> >,\n",
       " <osgeo.gdal.GCP; proxy of <Swig Object of type 'GDAL_GCP *' at 0x000001770060A120> >,\n",
       " <osgeo.gdal.GCP; proxy of <Swig Object of type 'GDAL_GCP *' at 0x000001770060A510> >,\n",
       " <osgeo.gdal.GCP; proxy of <Swig Object of type 'GDAL_GCP *' at 0x000001770060A690> >,\n",
       " <osgeo.gdal.GCP; proxy of <Swig Object of type 'GDAL_GCP *' at 0x000001770060A7E0> >,\n",
       " <osgeo.gdal.GCP; proxy of <Swig Object of type 'GDAL_GCP *' at 0x000001770060A5D0> >,\n",
       " <osgeo.gdal.GCP; proxy of <Swig Object of type 'GDAL_GCP *' at 0x000001770060A600> >,\n",
       " <osgeo.gdal.GCP; proxy of <Swig Object of type 'GDAL_GCP *' at 0x000001770060AAE0> >,\n",
       " <osgeo.gdal.GCP; proxy of <Swig Object of type 'GDAL_GCP *' at 0x000001770060A840> >,\n",
       " <osgeo.gdal.GCP; proxy of <Swig Object of type 'GDAL_GCP *' at 0x000001770060A8A0> >,\n",
       " <osgeo.gdal.GCP; proxy of <Swig Object of type 'GDAL_GCP *' at 0x000001770060A8D0> >,\n",
       " <osgeo.gdal.GCP; proxy of <Swig Object of type 'GDAL_GCP *' at 0x000001770060A7B0> >,\n",
       " <osgeo.gdal.GCP; proxy of <Swig Object of type 'GDAL_GCP *' at 0x000001770060A480> >,\n",
       " <osgeo.gdal.GCP; proxy of <Swig Object of type 'GDAL_GCP *' at 0x000001770060A450> >,\n",
       " <osgeo.gdal.GCP; proxy of <Swig Object of type 'GDAL_GCP *' at 0x000001770060A660> >,\n",
       " <osgeo.gdal.GCP; proxy of <Swig Object of type 'GDAL_GCP *' at 0x000001770060ACF0> >,\n",
       " <osgeo.gdal.GCP; proxy of <Swig Object of type 'GDAL_GCP *' at 0x000001770060A750> >,\n",
       " <osgeo.gdal.GCP; proxy of <Swig Object of type 'GDAL_GCP *' at 0x000001770060A4B0> >,\n",
       " <osgeo.gdal.GCP; proxy of <Swig Object of type 'GDAL_GCP *' at 0x000001770060A6C0> >,\n",
       " <osgeo.gdal.GCP; proxy of <Swig Object of type 'GDAL_GCP *' at 0x000001770060ABA0> >,\n",
       " <osgeo.gdal.GCP; proxy of <Swig Object of type 'GDAL_GCP *' at 0x000001770060A9C0> >,\n",
       " <osgeo.gdal.GCP; proxy of <Swig Object of type 'GDAL_GCP *' at 0x000001770060AB40> >,\n",
       " <osgeo.gdal.GCP; proxy of <Swig Object of type 'GDAL_GCP *' at 0x000001770060ABD0> >,\n",
       " <osgeo.gdal.GCP; proxy of <Swig Object of type 'GDAL_GCP *' at 0x000001770060AAB0> >,\n",
       " <osgeo.gdal.GCP; proxy of <Swig Object of type 'GDAL_GCP *' at 0x000001770060AB10> >,\n",
       " <osgeo.gdal.GCP; proxy of <Swig Object of type 'GDAL_GCP *' at 0x0000017700778F00> >,\n",
       " <osgeo.gdal.GCP; proxy of <Swig Object of type 'GDAL_GCP *' at 0x00000177006D9AE0> >,\n",
       " <osgeo.gdal.GCP; proxy of <Swig Object of type 'GDAL_GCP *' at 0x00000177006D9BD0> >,\n",
       " <osgeo.gdal.GCP; proxy of <Swig Object of type 'GDAL_GCP *' at 0x00000177006D9C30> >,\n",
       " <osgeo.gdal.GCP; proxy of <Swig Object of type 'GDAL_GCP *' at 0x00000177006D9B10> >,\n",
       " <osgeo.gdal.GCP; proxy of <Swig Object of type 'GDAL_GCP *' at 0x00000177006D92A0> >,\n",
       " <osgeo.gdal.GCP; proxy of <Swig Object of type 'GDAL_GCP *' at 0x00000177006D91E0> >,\n",
       " <osgeo.gdal.GCP; proxy of <Swig Object of type 'GDAL_GCP *' at 0x00000177006D9360> >,\n",
       " <osgeo.gdal.GCP; proxy of <Swig Object of type 'GDAL_GCP *' at 0x00000177006D9210> >,\n",
       " <osgeo.gdal.GCP; proxy of <Swig Object of type 'GDAL_GCP *' at 0x00000177006D9240> >,\n",
       " <osgeo.gdal.GCP; proxy of <Swig Object of type 'GDAL_GCP *' at 0x00000177006D9270> >,\n",
       " <osgeo.gdal.GCP; proxy of <Swig Object of type 'GDAL_GCP *' at 0x00000177006D9420> >,\n",
       " <osgeo.gdal.GCP; proxy of <Swig Object of type 'GDAL_GCP *' at 0x00000177006D92D0> >,\n",
       " <osgeo.gdal.GCP; proxy of <Swig Object of type 'GDAL_GCP *' at 0x00000177006D9300> >,\n",
       " <osgeo.gdal.GCP; proxy of <Swig Object of type 'GDAL_GCP *' at 0x00000177006D9330> >,\n",
       " <osgeo.gdal.GCP; proxy of <Swig Object of type 'GDAL_GCP *' at 0x00000177006D94E0> >,\n",
       " <osgeo.gdal.GCP; proxy of <Swig Object of type 'GDAL_GCP *' at 0x00000177006D9390> >,\n",
       " <osgeo.gdal.GCP; proxy of <Swig Object of type 'GDAL_GCP *' at 0x00000177006D93C0> >,\n",
       " <osgeo.gdal.GCP; proxy of <Swig Object of type 'GDAL_GCP *' at 0x00000177006D93F0> >,\n",
       " <osgeo.gdal.GCP; proxy of <Swig Object of type 'GDAL_GCP *' at 0x00000177006D94B0> >,\n",
       " <osgeo.gdal.GCP; proxy of <Swig Object of type 'GDAL_GCP *' at 0x00000177006D9480> >,\n",
       " <osgeo.gdal.GCP; proxy of <Swig Object of type 'GDAL_GCP *' at 0x00000177006D9450> >,\n",
       " <osgeo.gdal.GCP; proxy of <Swig Object of type 'GDAL_GCP *' at 0x00000177006D95A0> >,\n",
       " <osgeo.gdal.GCP; proxy of <Swig Object of type 'GDAL_GCP *' at 0x00000177006D9660> >,\n",
       " <osgeo.gdal.GCP; proxy of <Swig Object of type 'GDAL_GCP *' at 0x00000177006D9510> >,\n",
       " <osgeo.gdal.GCP; proxy of <Swig Object of type 'GDAL_GCP *' at 0x00000177006D9540> >,\n",
       " <osgeo.gdal.GCP; proxy of <Swig Object of type 'GDAL_GCP *' at 0x00000177006D9570> >,\n",
       " <osgeo.gdal.GCP; proxy of <Swig Object of type 'GDAL_GCP *' at 0x00000177006D9720> >,\n",
       " <osgeo.gdal.GCP; proxy of <Swig Object of type 'GDAL_GCP *' at 0x00000177006D95D0> >,\n",
       " <osgeo.gdal.GCP; proxy of <Swig Object of type 'GDAL_GCP *' at 0x00000177006D9600> >,\n",
       " <osgeo.gdal.GCP; proxy of <Swig Object of type 'GDAL_GCP *' at 0x00000177006D9630> >,\n",
       " <osgeo.gdal.GCP; proxy of <Swig Object of type 'GDAL_GCP *' at 0x00000177006D9870> >,\n",
       " <osgeo.gdal.GCP; proxy of <Swig Object of type 'GDAL_GCP *' at 0x00000177006D9690> >,\n",
       " <osgeo.gdal.GCP; proxy of <Swig Object of type 'GDAL_GCP *' at 0x00000177006D96C0> >,\n",
       " <osgeo.gdal.GCP; proxy of <Swig Object of type 'GDAL_GCP *' at 0x00000177006D96F0> >,\n",
       " <osgeo.gdal.GCP; proxy of <Swig Object of type 'GDAL_GCP *' at 0x00000177006D9930> >,\n",
       " <osgeo.gdal.GCP; proxy of <Swig Object of type 'GDAL_GCP *' at 0x00000177006D97E0> >,\n",
       " <osgeo.gdal.GCP; proxy of <Swig Object of type 'GDAL_GCP *' at 0x00000177006D9810> >,\n",
       " <osgeo.gdal.GCP; proxy of <Swig Object of type 'GDAL_GCP *' at 0x00000177006D9840> >,\n",
       " <osgeo.gdal.GCP; proxy of <Swig Object of type 'GDAL_GCP *' at 0x00000177006D99F0> >,\n",
       " <osgeo.gdal.GCP; proxy of <Swig Object of type 'GDAL_GCP *' at 0x00000177006D98A0> >,\n",
       " <osgeo.gdal.GCP; proxy of <Swig Object of type 'GDAL_GCP *' at 0x00000177006D98D0> >,\n",
       " <osgeo.gdal.GCP; proxy of <Swig Object of type 'GDAL_GCP *' at 0x00000177006D9900> >,\n",
       " <osgeo.gdal.GCP; proxy of <Swig Object of type 'GDAL_GCP *' at 0x00000177006D9AB0> >,\n",
       " <osgeo.gdal.GCP; proxy of <Swig Object of type 'GDAL_GCP *' at 0x00000177006D9960> >,\n",
       " <osgeo.gdal.GCP; proxy of <Swig Object of type 'GDAL_GCP *' at 0x00000177006D9990> >,\n",
       " <osgeo.gdal.GCP; proxy of <Swig Object of type 'GDAL_GCP *' at 0x00000177006D99C0> >,\n",
       " <osgeo.gdal.GCP; proxy of <Swig Object of type 'GDAL_GCP *' at 0x00000177006D9A20> >)"
      ]
     },
     "execution_count": 15,
     "metadata": {},
     "output_type": "execute_result"
    }
   ],
   "source": [
    "control_pts"
   ]
  },
  {
   "cell_type": "code",
   "execution_count": 13,
   "metadata": {},
   "outputs": [
    {
     "data": {
      "text/plain": [
       "['ArcticZoom_asi-n3125-20090322.tif',\n",
       " 'asi-n6250-20090322-v5.nc',\n",
       " 'conc.tiff',\n",
       " 'imagery_HH.tif',\n",
       " 'LongitudeLatitudeGrid-n3125-ArcticZoom.nc',\n",
       " 'lutBeta.xml',\n",
       " 'lutGamma.xml',\n",
       " 'lutSigma.xml',\n",
       " 'product.xml',\n",
       " 'RS2_OK4491_PK59492_DK57897_SCWA_20090322_102729_HH',\n",
       " 'RS2_OK4491_PK59492_DK57897_SCWA_20090322_102729_HH(1)',\n",
       " 'RS2_OK4491_PK59492_DK57897_SCWA_20090322_102729_HH.tif']"
      ]
     },
     "execution_count": 13,
     "metadata": {},
     "output_type": "execute_result"
    }
   ],
   "source": [
    "os.listdir(folders[0])"
   ]
  }
 ],
 "metadata": {
  "kernelspec": {
   "display_name": "Python 3",
   "language": "python",
   "name": "python3"
  },
  "language_info": {
   "codemirror_mode": {
    "name": "ipython",
    "version": 3
   },
   "file_extension": ".py",
   "mimetype": "text/x-python",
   "name": "python",
   "nbconvert_exporter": "python",
   "pygments_lexer": "ipython3",
   "version": "3.6.3"
  }
 },
 "nbformat": 4,
 "nbformat_minor": 2
}
