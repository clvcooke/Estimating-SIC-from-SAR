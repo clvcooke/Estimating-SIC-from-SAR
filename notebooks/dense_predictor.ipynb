{
 "cells": [
  {
   "cell_type": "code",
   "execution_count": 1,
   "metadata": {},
   "outputs": [
    {
     "name": "stderr",
     "output_type": "stream",
     "text": [
      "/home/paperspace/anaconda3/lib/python3.6/site-packages/h5py/__init__.py:34: FutureWarning: Conversion of the second argument of issubdtype from `float` to `np.floating` is deprecated. In future, it will be treated as `np.float64 == np.dtype(float).type`.\n",
      "  from ._conv import register_converters as _register_converters\n",
      "Using TensorFlow backend.\n",
      "/home/paperspace/anaconda3/lib/python3.6/importlib/_bootstrap.py:205: RuntimeWarning: compiletime version 3.5 of module 'tensorflow.python.framework.fast_tensor_util' does not match runtime version 3.6\n",
      "  return f(*args, **kwds)\n"
     ]
    }
   ],
   "source": [
    "import cv2 as cv\n",
    "import keras\n",
    "import keras.applications as apps\n",
    "import numpy as np\n",
    "import os\n",
    "import densenet\n",
    "import glob\n",
    "\n",
    "import tqdm\n",
    "import matplotlib.pyplot as plt\n",
    "import matplotlib\n",
    "import random\n",
    "plt.ion()"
   ]
  },
  {
   "cell_type": "code",
   "execution_count": 2,
   "metadata": {},
   "outputs": [],
   "source": [
    "TILE_SIZE = 221"
   ]
  },
  {
   "cell_type": "code",
   "execution_count": 3,
   "metadata": {},
   "outputs": [
    {
     "name": "stderr",
     "output_type": "stream",
     "text": [
      "/home/paperspace/anaconda3/lib/python3.6/site-packages/keras/applications/imagenet_utils.py:258: UserWarning: This model usually expects 1 or 3 input channels. However, it was passed an input_shape with 2 input channels.\n",
      "  str(input_shape[-1]) + ' input channels.')\n"
     ]
    }
   ],
   "source": [
    "net = densenet.DenseNet121(include_top=True,\n",
    "                      weights=None,\n",
    "                      input_shape=(221, 221, 2),\n",
    "                      pooling=None,\n",
    "                      classes=1)"
   ]
  },
  {
   "cell_type": "code",
   "execution_count": 4,
   "metadata": {},
   "outputs": [],
   "source": [
    "def tile_image(HH, HV, conc, tile_size=221):\n",
    "    # This function assumes all images are the same shape\n",
    "    tile_center = tile_size//2\n",
    "    amount_x = (HH.shape[0]//tile_size) -1\n",
    "    amount_y = (HH.shape[1]//tile_size) -1\n",
    "    sar_tiles = []\n",
    "    conc_tiles = []\n",
    "    for i in range(amount_x):\n",
    "        for j in range(amount_y):\n",
    "            x_bounds = [tile_size*i, tile_size*(i+1)]\n",
    "            y_bounds = [tile_size*j, tile_size*(j+1)]\n",
    "            conc_tile = conc[x_bounds[0]:x_bounds[1], y_bounds[0]:y_bounds[1]]\n",
    "            if np.max(conc_tile) != 255:\n",
    "                HH_tile = HH[x_bounds[0]:x_bounds[1],y_bounds[0]:y_bounds[1]]\n",
    "                HV_tile = HV[x_bounds[0]:x_bounds[1],y_bounds[0]:y_bounds[1]]\n",
    "                tile = np.stack([HH_tile, HV_tile],axis=-1)\n",
    "                sar_tiles.append(tile)\n",
    "                conc_tiles.append([conc_tile[tile_center, tile_center]])\n",
    "    sar_tiles = np.asarray(sar_tiles).astype(np.float32)/255\n",
    "    conc_tiles = np.asarray(conc_tiles).astype(np.float32)/100\n",
    "    \n",
    "    return sar_tiles, conc_tiles"
   ]
  },
  {
   "cell_type": "code",
   "execution_count": 5,
   "metadata": {},
   "outputs": [],
   "source": [
    "# Utility methods to process/load images\n",
    "def is_data_valid(folder_path):\n",
    "    valid = os.path.exists(os.path.join(folder_path, 'imagery_HH.tif'))\n",
    "    valid = valid and os.path.exists(os.path.join(folder_path, 'imagery_HV.tif')) \n",
    "    valid = valid and os.path.exists(os.path.join(folder_path, 'conc.tiff'))\n",
    "    return valid\n",
    "\n",
    "def read_data(folder):\n",
    "    hh_image = cv.imread(os.path.join(folder, 'imagery_HH.tif'), cv.IMREAD_GRAYSCALE)\n",
    "    hv_image = cv.imread(os.path.join(folder, 'imagery_HV.tif'), cv.IMREAD_GRAYSCALE)\n",
    "    conc_image = cv.imread(os.path.join(folder, 'conc.tiff'), cv.IMREAD_GRAYSCALE)\n",
    "    if conc_image is None:\n",
    "        conc_image = np.ones(hh_image.shape)\n",
    "    return hh_image, hv_image, conc_image\n",
    "\n",
    "def tile_image(HH, HV, conc, tile_size=221):\n",
    "    # This function assumes all images are the same shape\n",
    "    tile_center = tile_size//2\n",
    "    amount_x = (HH.shape[0]//tile_size) -1\n",
    "    amount_y = (HH.shape[1]//tile_size) -1\n",
    "    sar_tiles = []\n",
    "    conc_tiles = []\n",
    "    for i in range(amount_x):\n",
    "        for j in range(amount_y):\n",
    "            x_bounds = [tile_size*i, tile_size*(i+1)]\n",
    "            y_bounds = [tile_size*j, tile_size*(j+1)]\n",
    "            conc_tile = conc[x_bounds[0]:x_bounds[1], y_bounds[0]:y_bounds[1]]\n",
    "            # check if the center of the tile is land or not\n",
    "            if conc_tile[tile_center, tile_center] != 255:\n",
    "                # set all values within the SAR image to by 255 if that part of the image is land\n",
    "                HH_tile = np.where(conc_tile == 255,255,HH[x_bounds[0]:x_bounds[1],y_bounds[0]:y_bounds[1]])\n",
    "                HV_tile = np.where(conc_tile == 255, 255, HV[x_bounds[0]:x_bounds[1],y_bounds[0]:y_bounds[1]])\n",
    "                tile = np.stack([HH_tile, HV_tile],axis=-1)\n",
    "                sar_tiles.append(tile)\n",
    "                conc_tiles.append([conc_tile[tile_center, tile_center]])\n",
    "    sar_tiles = np.asarray(sar_tiles).astype(np.float32)/255\n",
    "    conc_tiles = np.asarray(conc_tiles).astype(np.float32)/100\n",
    "    \n",
    "    return sar_tiles, conc_tiles\n",
    "\n",
    "def gen_tile_data(folder_name, images, labels, pos, dry_run=False, multiplier=1):\n",
    "    amount = 0\n",
    "    try:\n",
    "        SHIFT = TILE_SIZE//multiplier\n",
    "        hh_image, hv_image, conc_image = read_data(folder_name)\n",
    "        conc_image_big = cv.resize(conc_image, hh_image.shape[0:2][::-1])\n",
    "        for _ in range(multiplier):\n",
    "            hh_image = hh_image[SHIFT:, SHIFT:]\n",
    "            hv_image = hv_image[SHIFT:, SHIFT:]\n",
    "            conc_image_big = conc_image_big[SHIFT:, SHIFT:]\n",
    "            im_tiles, c_tiles = tile_image(hh_image, hv_image, conc_image_big)\n",
    "            if not dry_run:\n",
    "                images[pos+amount:pos + amount+ len(im_tiles)] = im_tiles\n",
    "                labels[pos+amount:pos + amount + len(c_tiles)] = c_tiles\n",
    "            amount = amount + len(im_tiles)\n",
    "    except:\n",
    "        print(folder_name)\n",
    "    if dry_run:\n",
    "        return amount\n",
    "    return images, labels, pos + amount"
   ]
  },
  {
   "cell_type": "code",
   "execution_count": 6,
   "metadata": {},
   "outputs": [],
   "source": [
    "def predict_image_fine(HH, HV, conc, model, tile_size=221):\n",
    "#     Decimate\n",
    "#     HH = cv.resize(HH, None, fx=0.5,fy=0.5)\n",
    "#     HV = cv.resize(HV, None, fx=0.5,fy=0.5)\n",
    "#     conc = cv.resize(conc, None, fx=0.5,fy=0.5)\n",
    "    amount_x = ((HH.shape[0])//tile_size) -2\n",
    "    amount_y = (HH.shape[1]//tile_size) -2\n",
    "    scan_size = 3\n",
    "    tile_center = tile_size//2\n",
    "\n",
    "#     sar_tiles = []\n",
    "    conc_image = np.ones((amount_x*(scan_size+1), amount_y*(scan_size+1)))*255\n",
    "    sar_amount = 0\n",
    "    for i in (range(amount_x)):\n",
    "        for j in range(amount_y):\n",
    "            for s in range(scan_size+1):\n",
    "                for x in range(scan_size+1):\n",
    "                    x_bounds = [int(tile_size*(i+ s/scan_size)), int(tile_size*(i+1 + s/scan_size))]\n",
    "                    y_bounds = [int(tile_size*(j + x/scan_size)), int(tile_size*(j+1 + x/scan_size))]\n",
    "                    conc_tile = conc[x_bounds[0]:x_bounds[1], y_bounds[0]:y_bounds[1]]\n",
    "                    if conc_tile[tile_center, tile_center] < 255:\n",
    "                        sar_amount += 1\n",
    "    print(sar_amount)\n",
    "    sar_arr = np.zeros((sar_amount, tile_size, tile_size, 2), dtype=np.float16)\n",
    "    \n",
    "    sar_count = 0\n",
    "    for i in (range(amount_x)):\n",
    "        for j in range(amount_y):\n",
    "            for s in range(scan_size+1):\n",
    "                for x in range(scan_size+1):\n",
    "                    x_bounds = [int(tile_size*(i+ s/scan_size)), int(tile_size*(i+1 + s/scan_size))]\n",
    "                    y_bounds = [int(tile_size*(j + x/scan_size)), int(tile_size*(j+1 + x/scan_size))]\n",
    "                    conc_tile = conc[x_bounds[0]:x_bounds[1], y_bounds[0]:y_bounds[1]]\n",
    "                    if conc_tile[tile_center, tile_center] < 255:\n",
    "                        HH_tile = np.where(conc_tile == 255, 255,HH[x_bounds[0]:x_bounds[1],y_bounds[0]:y_bounds[1]])\n",
    "                        HV_tile = np.where(conc_tile == 255, 255, HV[x_bounds[0]:x_bounds[1],y_bounds[0]:y_bounds[1]])\n",
    "                        tile =np.stack([HH_tile, HV_tile],axis=-1)\n",
    "                        tile = tile.astype(np.float16)/255\n",
    "#                         sar_tiles.append(tile)\n",
    "                        sar_arr[sar_count] = tile\n",
    "                        sar_count += 1\n",
    "\n",
    "#                         pred = model.predict(tile)\n",
    "#                         pval = pred.flatten()[0]\n",
    "#                         if pval > 1.5:\n",
    "#                             pval = np.nan\n",
    "#         #                 print('VAL:', pred)\n",
    "# #                         conc_image[i,j] = pval\n",
    "#                         conc_image[i*(scan_size+1)+s,j*(scan_size+1) + x] = pval\n",
    "#                     else:\n",
    "#                         conc_image[i*(scan_size+1)+s,j*(scan_size+1) + x] = np.nan\n",
    "    preds = model.predict(sar_arr)\n",
    "    p_ind = 0\n",
    "    for i in (range(amount_x)):\n",
    "            for j in range(amount_y):\n",
    "                for s in range(scan_size+1):\n",
    "                    for x in range(scan_size+1):\n",
    "                        x_bounds = [int(tile_size*(i+ s/scan_size)), int(tile_size*(i+1 + s/scan_size))]\n",
    "                        y_bounds = [int(tile_size*(j + x/scan_size)), int(tile_size*(j+1 + x/scan_size))]\n",
    "                        conc_tile = conc[x_bounds[0]:x_bounds[1], y_bounds[0]:y_bounds[1]]\n",
    "                        if conc_tile[tile_center, tile_center] < 255:\n",
    "                            pval = preds[p_ind]\n",
    "                            p_ind = p_ind + 1\n",
    "                            if pval > 1.5:\n",
    "                                pval = np.nan\n",
    "#                             elif pval < 0.1:\n",
    "#                                 pval = np.nan\n",
    "            #                 print('VAL:', pred)\n",
    "#                             conc_image[i,j] = pval\n",
    "                            conc_image[i*(scan_size+1)+s,j*(scan_size+1) + x] = pval\n",
    "                        else:\n",
    "                            conc_image[i*(scan_size+1)+s,j*(scan_size+1) + x] = np.nan\n",
    "#     conc_image = cv.resize(conc_image, None, fx=2, fy=2)\n",
    "    return conc_image"
   ]
  },
  {
   "cell_type": "code",
   "execution_count": 7,
   "metadata": {},
   "outputs": [],
   "source": [
    "def is_data_valid(folder_path):\n",
    "    valid = os.path.exists(os.path.join(folder_path, 'imagery_HH.tif'))\n",
    "    valid = valid and os.path.exists(os.path.join(folder_path, 'imagery_HV.tif')) \n",
    "#     valid = valid and os.path.exists(os.path.join(folder_path, 'conc.tiff'))\n",
    "    return valid\n",
    "    "
   ]
  },
  {
   "cell_type": "code",
   "execution_count": 8,
   "metadata": {},
   "outputs": [],
   "source": [
    "def read_data(folder):\n",
    "    hh_image = cv.imread(os.path.join(folder, 'imagery_HH.tif'), cv.IMREAD_GRAYSCALE)\n",
    "    hv_image = cv.imread(os.path.join(folder, 'imagery_HV.tif'), cv.IMREAD_GRAYSCALE)\n",
    "    conc_image = cv.imread(os.path.join(folder, 'conc.tiff'), cv.IMREAD_GRAYSCALE)\n",
    "    return hh_image, hv_image, conc_image"
   ]
  },
  {
   "cell_type": "code",
   "execution_count": 9,
   "metadata": {},
   "outputs": [],
   "source": [
    "folders = [f for f in glob.glob(os.path.join('lab_sea/2013_data/lab_sea/2013_data','RS2*')) if is_data_valid(f)]"
   ]
  },
  {
   "cell_type": "code",
   "execution_count": 10,
   "metadata": {},
   "outputs": [],
   "source": [
    "folders = [f for f in glob.glob(os.path.join('training_data', '20*')) if is_data_valid(f)]"
   ]
  },
  {
   "cell_type": "code",
   "execution_count": 11,
   "metadata": {},
   "outputs": [
    {
     "data": {
      "text/plain": [
       "['training_data/20110705',\n",
       " 'training_data/20110405',\n",
       " 'training_data/20110717C',\n",
       " 'training_data/20110216',\n",
       " 'training_data/20101007',\n",
       " 'training_data/20110220',\n",
       " 'training_data/20100131',\n",
       " 'training_data/20110319',\n",
       " 'training_data/20110717',\n",
       " 'training_data/20100405',\n",
       " 'training_data/20110717B',\n",
       " 'training_data/20101213',\n",
       " 'training_data/20110903',\n",
       " 'training_data/20110903B',\n",
       " 'training_data/20110903C',\n",
       " 'training_data/20110213',\n",
       " 'training_data/20110702',\n",
       " 'training_data/20101221',\n",
       " 'training_data/20110223',\n",
       " 'training_data/20101009B',\n",
       " 'training_data/20101205',\n",
       " 'training_data/20101013',\n",
       " 'training_data/20110214',\n",
       " 'training_data/20110217',\n",
       " 'training_data/20101009',\n",
       " 'training_data/20110903D',\n",
       " 'training_data/20100403',\n",
       " 'training_data/20110730']"
      ]
     },
     "execution_count": 11,
     "metadata": {},
     "output_type": "execute_result"
    }
   ],
   "source": [
    "folders"
   ]
  },
  {
   "cell_type": "code",
   "execution_count": 10,
   "metadata": {},
   "outputs": [],
   "source": [
    "q = os.path.join('lab_sea/2013_data/images_gsl2014', os.listdir('lab_sea/2013_data/images_gsl2014')[0])"
   ]
  },
  {
   "cell_type": "code",
   "execution_count": 11,
   "metadata": {},
   "outputs": [
    {
     "data": {
      "text/plain": [
       "True"
      ]
     },
     "execution_count": 11,
     "metadata": {},
     "output_type": "execute_result"
    }
   ],
   "source": [
    "os.path.exists(os.path.join(q, 'imagery_HV.tif'))"
   ]
  },
  {
   "cell_type": "code",
   "execution_count": 12,
   "metadata": {},
   "outputs": [
    {
     "data": {
      "text/plain": [
       "True"
      ]
     },
     "execution_count": 12,
     "metadata": {},
     "output_type": "execute_result"
    }
   ],
   "source": [
    "is_data_valid(q)"
   ]
  },
  {
   "cell_type": "code",
   "execution_count": 25,
   "metadata": {},
   "outputs": [],
   "source": []
  },
  {
   "cell_type": "code",
   "execution_count": 10,
   "metadata": {
    "scrolled": false
   },
   "outputs": [
    {
     "name": "stderr",
     "output_type": "stream",
     "text": [
      "\r",
      "  0%|          | 0/28 [00:00<?, ?it/s]"
     ]
    },
    {
     "name": "stdout",
     "output_type": "stream",
     "text": [
      "TRIAL: weights/net_checkpoint_FINAL.hdf5\n",
      "RESULTS: net_checkpoint_FINAL_TRAIN\n",
      "AD: 20110705.tiff\n",
      "AD: 20110405.tiff\n"
     ]
    },
    {
     "name": "stderr",
     "output_type": "stream",
     "text": [
      "\r",
      " 11%|█         | 3/28 [00:00<00:04,  5.95it/s]"
     ]
    },
    {
     "name": "stdout",
     "output_type": "stream",
     "text": [
      "BAD:  training_data/20110717C\n",
      "AD: 20110216.tiff\n",
      "AD: 20101007.tiff\n",
      "AD: 20110220.tiff\n",
      "AD: 20100131.tiff\n",
      "AD: 20110319.tiff\n",
      "AD: 20110717.tiff\n",
      "AD: 20100405.tiff\n"
     ]
    },
    {
     "name": "stderr",
     "output_type": "stream",
     "text": [
      "\r",
      " 39%|███▉      | 11/28 [00:01<00:01,  8.91it/s]"
     ]
    },
    {
     "name": "stdout",
     "output_type": "stream",
     "text": [
      "23064\n",
      "BAD:  training_data/20110717B\n",
      "AD: 20101213.tiff\n",
      "AD: 20110903.tiff\n",
      "AD: 20110903B.tiff\n",
      "AD: 20110903C.tiff\n",
      "AD: 20110213.tiff\n",
      "AD: 20110702.tiff\n",
      "AD: 20101221.tiff\n",
      "AD: 20110223.tiff\n",
      "AD: 20101009B.tiff\n",
      "AD: 20101205.tiff\n",
      "AD: 20101013.tiff\n"
     ]
    },
    {
     "name": "stderr",
     "output_type": "stream",
     "text": [
      "100%|██████████| 28/28 [00:01<00:00, 14.56it/s]\n",
      "  0%|          | 0/10 [00:00<?, ?it/s]"
     ]
    },
    {
     "name": "stdout",
     "output_type": "stream",
     "text": [
      "30306\n",
      "BAD:  training_data/20110214\n",
      "AD: 20110217.tiff\n",
      "AD: 20101009.tiff\n",
      "AD: 20110903D.tiff\n",
      "AD: 20100403.tiff\n",
      "AD: 20110730.tiff\n",
      "RESULTS: net_checkpoint_FINAL_MASKED_LAB\n",
      "USING MASK mask_RS2_OK44069_PK425748_DK376117_SCWA_20130911_142657_HH_HV_SGF.tif\n",
      "16755\n"
     ]
    },
    {
     "name": "stderr",
     "output_type": "stream",
     "text": [
      "\r",
      " 10%|█         | 1/10 [02:35<23:15, 155.06s/it]"
     ]
    },
    {
     "name": "stdout",
     "output_type": "stream",
     "text": [
      "USING MASK mask_RS2_OK45827_PK443017_DK394473_SCWA_20131112_105831_HH_HV_SGF.tif\n"
     ]
    },
    {
     "name": "stderr",
     "output_type": "stream",
     "text": [
      "\r",
      " 20%|██        | 2/10 [06:00<24:00, 180.02s/it]"
     ]
    },
    {
     "name": "stdout",
     "output_type": "stream",
     "text": [
      "22620\n",
      "USING MASK mask_RS2_OK44073_PK425836_DK376184_SCWA_20130913_150901_HH_HV_SGF.tif\n",
      "21629\n"
     ]
    },
    {
     "name": "stderr",
     "output_type": "stream",
     "text": [
      "\r",
      " 30%|███       | 3/10 [09:18<21:43, 186.20s/it]"
     ]
    },
    {
     "name": "stdout",
     "output_type": "stream",
     "text": [
      "USING MASK mask_RS2_OK44073_PK425834_DK376182_SCWA_20130913_132853_HH_HV_SGF.tif\n",
      "15837\n"
     ]
    },
    {
     "name": "stderr",
     "output_type": "stream",
     "text": [
      "\r",
      " 40%|████      | 4/10 [11:43<17:34, 175.75s/it]"
     ]
    },
    {
     "name": "stdout",
     "output_type": "stream",
     "text": [
      "USING MASK mask_RS2_OK44067_PK425720_DK376088_SCWA_20130910_131728_HH_HV_SGF.tif\n",
      "2803\n"
     ]
    },
    {
     "name": "stderr",
     "output_type": "stream",
     "text": [
      "\r",
      " 50%|█████     | 5/10 [12:08<12:08, 145.72s/it]"
     ]
    },
    {
     "name": "stdout",
     "output_type": "stream",
     "text": [
      "USING MASK mask_RS2_OK45827_PK443016_DK394472_SCWA_20131112_105716_HH_HV_SGF.tif\n",
      "25667\n"
     ]
    },
    {
     "name": "stderr",
     "output_type": "stream",
     "text": [
      "\r",
      " 60%|██████    | 6/10 [16:02<10:41, 160.37s/it]"
     ]
    },
    {
     "name": "stdout",
     "output_type": "stream",
     "text": [
      "USING MASK mask_RS2_OK44073_PK425837_DK376185_SCWA_20130913_151015_HH_HV_SGF.tif\n",
      "16411\n"
     ]
    },
    {
     "name": "stderr",
     "output_type": "stream",
     "text": [
      "\r",
      " 70%|███████   | 7/10 [18:31<07:56, 158.84s/it]"
     ]
    },
    {
     "name": "stdout",
     "output_type": "stream",
     "text": [
      "USING MASK mask_RS2_OK44073_PK425833_DK376181_SCWA_20130913_132739_HH_HV_SGF.tif\n",
      "18597\n"
     ]
    },
    {
     "name": "stderr",
     "output_type": "stream",
     "text": [
      "\r",
      " 80%|████████  | 8/10 [21:19<05:19, 159.92s/it]"
     ]
    },
    {
     "name": "stdout",
     "output_type": "stream",
     "text": [
      "USING MASK mask_RS2_OK44067_PK425719_DK376087_SCWA_20130910_131613_HH_HV_SGF.tif\n",
      "18338\n"
     ]
    },
    {
     "name": "stderr",
     "output_type": "stream",
     "text": [
      "\r",
      " 90%|█████████ | 9/10 [23:56<02:39, 159.66s/it]"
     ]
    },
    {
     "name": "stdout",
     "output_type": "stream",
     "text": [
      "USING MASK mask_RS2_OK45827_PK443004_DK394474_SCWA_20131112_105950_HH_HV_SGF.tif\n",
      "7288\n"
     ]
    },
    {
     "name": "stderr",
     "output_type": "stream",
     "text": [
      "100%|██████████| 10/10 [25:00<00:00, 150.08s/it]\n",
      "  0%|          | 0/29 [00:00<?, ?it/s]"
     ]
    },
    {
     "name": "stdout",
     "output_type": "stream",
     "text": [
      "RESULTS: net_checkpoint_FINAL_MASKED_GSL\n",
      "MASKL mask_RS2_OK47591_PK460740_DK410448_SCWA_20140127_104734_HH_HV_SGF.tif\n",
      "3905\n"
     ]
    },
    {
     "name": "stderr",
     "output_type": "stream",
     "text": [
      "\r",
      "  3%|▎         | 1/29 [00:33<15:40, 33.58s/it]"
     ]
    },
    {
     "name": "stdout",
     "output_type": "stream",
     "text": [
      "MASKL mask_RS2_OK47585_PK460578_DK410308_SCWA_20140124_103501_HH_HV_SGF.tif\n",
      "11879\n"
     ]
    },
    {
     "name": "stderr",
     "output_type": "stream",
     "text": [
      "\r",
      "  7%|▋         | 2/29 [02:12<29:44, 66.10s/it]"
     ]
    },
    {
     "name": "stdout",
     "output_type": "stream",
     "text": [
      "MASKL mask_RS2_OK48327_PK464566_DK413629_SCWA_20140207_214938_HH_HV_SGF.tif\n",
      "1174\n"
     ]
    },
    {
     "name": "stderr",
     "output_type": "stream",
     "text": [
      "\r",
      " 10%|█         | 3/29 [02:22<20:33, 47.43s/it]"
     ]
    },
    {
     "name": "stdout",
     "output_type": "stream",
     "text": [
      "MASKL mask_RS2_OK47600_PK463349_DK412398_SCWA_20140131_103053_HH_HV_SGF.tif\n",
      "15090\n"
     ]
    },
    {
     "name": "stderr",
     "output_type": "stream",
     "text": [
      "\r",
      " 14%|█▍        | 4/29 [04:26<27:45, 66.61s/it]"
     ]
    },
    {
     "name": "stdout",
     "output_type": "stream",
     "text": [
      "MASKL mask_RS2_OK47583_PK460563_DK410297_SCWA_20140123_222627_HH_HV_SGF.tif\n",
      "2928\n"
     ]
    },
    {
     "name": "stderr",
     "output_type": "stream",
     "text": [
      "\r",
      " 17%|█▋        | 5/29 [04:51<23:19, 58.31s/it]"
     ]
    },
    {
     "name": "stdout",
     "output_type": "stream",
     "text": [
      "MASKL mask_RS2_OK47581_PK464167_DK410878_SCWA_20140122_095247_HH_HV_SGF.tif\n",
      "15119\n"
     ]
    },
    {
     "name": "stderr",
     "output_type": "stream",
     "text": [
      "\r",
      " 21%|██        | 6/29 [06:55<26:32, 69.23s/it]"
     ]
    },
    {
     "name": "stdout",
     "output_type": "stream",
     "text": [
      "MASKL mask_RS2_OK48331_PK464264_DK413375_SCWA_20140209_223030_HH_HV_SGF.tif\n",
      "1842\n"
     ]
    },
    {
     "name": "stderr",
     "output_type": "stream",
     "text": [
      "\r",
      " 24%|██▍       | 7/29 [07:12<22:38, 61.76s/it]"
     ]
    },
    {
     "name": "stdout",
     "output_type": "stream",
     "text": [
      "MASKL mask_RS2_OK48333_PK464295_DK413403_SCWA_20140210_220111_HH_HV_SGF.tif\n",
      "19445\n"
     ]
    },
    {
     "name": "stderr",
     "output_type": "stream",
     "text": [
      "\r",
      " 28%|██▊       | 8/29 [09:51<25:52, 73.92s/it]"
     ]
    },
    {
     "name": "stdout",
     "output_type": "stream",
     "text": [
      "MASKL mask_RS2_OK47585_PK460583_DK410313_SCWA_20140124_215646_HH_HV_SGF.tif\n",
      "25392\n"
     ]
    },
    {
     "name": "stderr",
     "output_type": "stream",
     "text": [
      "\r",
      " 31%|███       | 9/29 [13:18<29:35, 88.77s/it]"
     ]
    },
    {
     "name": "stdout",
     "output_type": "stream",
     "text": [
      "MASKL mask_RS2_OK48327_PK463968_DK413138_SCWA_20140207_102631_HH_HV_SGF.tif\n",
      "17584\n"
     ]
    },
    {
     "name": "stderr",
     "output_type": "stream",
     "text": [
      "\r",
      " 34%|███▍      | 10/29 [15:43<29:51, 94.31s/it]"
     ]
    },
    {
     "name": "stdout",
     "output_type": "stream",
     "text": [
      "MASKL mask_RS2_OK48329_PK463986_DK413159_SCWA_20140208_095758_HH_HV_SGF.tif\n",
      "20807\n"
     ]
    },
    {
     "name": "stderr",
     "output_type": "stream",
     "text": [
      "\r",
      " 38%|███▊      | 11/29 [18:32<30:20, 101.14s/it]"
     ]
    },
    {
     "name": "stdout",
     "output_type": "stream",
     "text": [
      "VAD lab_sea/2013_data/images_gsl2014/RS2_OK47567_PK459339_DK409225_SCWA_20140116_223042_HH_HV_SGF\n",
      "VAD lab_sea/2013_data/images_gsl2014/RS2_OK47581_PK464167_DK410275_SCWA_20140122_095247_HH_HV_SGF\n",
      "VAD lab_sea/2013_data/images_gsl2014/RS2_OK48325_PK463943_DK413117_SCNA_20140206_105657_HH_HV_SGF\n",
      "VAD lab_sea/2013_data/images_gsl2014/RS2_OK48333_PK464282_DK413391_SCWA_20140210_103911_HH_HV_SGF\n",
      "VAD lab_sea/2013_data/images_gsl2014/RS2_OK47589_PK461345_DK410893_SCWA_20140126_223850_HH_HV_SGF\n",
      "VAD lab_sea/2013_data/images_gsl2014/RS2_OK47591_PK460744_DK410452_SCWA_20140127_221027_HH_HV_SGF\n",
      "VAD lab_sea/2013_data/images_gsl2014/RS2_OK48325_PK463954_DK413128_SCWA_20140206_221744_HH_HV_SGF\n",
      "VAD lab_sea/2013_data/images_gsl2014/RS2_OK47593_PK463238_DK412299_SCWA_20140128_101751_HH_HV_SGF\n",
      "VAD lab_sea/2013_data/images_gsl2014/RS2_OK47576_PK459465_DK409332_SCWA_20140120_105149_HH_HV_SGF\n",
      "VAD lab_sea/2013_data/images_gsl2014/RS2_OK47587_PK464520_DK414734_SCWA_20140125_100500_HH_HV_SGF\n",
      "VAD lab_sea/2013_data/images_gsl2014/RS2_OK47587_PK464520_DK410344_SCWA_20140125_100500_HH_HV_SGF\n",
      "VAD lab_sea/2013_data/images_gsl2014/RS2_OK47579_PK463853_DK410262_SCWA_20140121_214420_HH_HV_SGF\n",
      "VAD lab_sea/2013_data/images_gsl2014/RS2_OK47597_PK464169_DK413300_SCWA_20140130_110029_HH_HV_SGF\n",
      "VAD lab_sea/2013_data/images_gsl2014/RS2_OK47572_PK463123_DK409241_SCWA_20140118_101002_HH_HV_SGF\n",
      "MASKL mask_RS2_OK47600_PK463354_DK412403_SCWA_20140131_215240_HH_HV_SGF.tif\n",
      "25451\n"
     ]
    },
    {
     "name": "stderr",
     "output_type": "stream",
     "text": [
      "\r",
      " 90%|████████▉ | 26/29 [22:00<02:32, 50.77s/it] "
     ]
    },
    {
     "name": "stdout",
     "output_type": "stream",
     "text": [
      "MASKL mask_RS2_OK47570_PK459345_DK409231_SCWA_20140117_103914_HH_HV_SGF.tif\n",
      "9029\n"
     ]
    },
    {
     "name": "stderr",
     "output_type": "stream",
     "text": [
      "100%|██████████| 29/29 [23:14<00:00, 48.09s/it]\n"
     ]
    },
    {
     "name": "stdout",
     "output_type": "stream",
     "text": [
      "VAD lab_sea/2013_data/images_gsl2014/RS2_OK48319_PK463750_DK412941_SCWA_20140203_104323_HH_HV_SGF\n",
      "VAD lab_sea/2013_data/images_gsl2014/RS2_OK47597_PK463281_DK412338_SCWA_20140130_222234_HH_HV_SGF\n"
     ]
    },
    {
     "data": {
      "image/png": "[encoded data removed]",
      "text/plain": [
       "<matplotlib.figure.Figure at 0x7fd90e22c2b0>"
      ]
     },
     "metadata": {},
     "output_type": "display_data"
    }
   ],
   "source": [
    "masks = [os.path.basename(f) for f in glob.glob('new_masks/*.tif')]\n",
    "trails = ['weights/net_checkpoint_FINAL.hdf5']\n",
    "for trial in trails:\n",
    "    net.load_weights(trial)\n",
    "    print(\"TRIAL:\", trial)\n",
    "    results_folder = os.path.basename(trial)[:-5] + '_TRAIN'\n",
    "    folders = [f for f in glob.glob(os.path.join('training_data', '20*')) if is_data_valid(f)]\n",
    "    print('RESULTS:', results_folder)\n",
    "    os.makedirs(results_folder, exist_ok=True)\n",
    "    for folder in tqdm.tqdm(folders):\n",
    "        try:\n",
    "            image_name = os.path.basename(folder) + \".tiff\"\n",
    "            image_path = os.path.join(results_folder, 'bigger_' + image_name)\n",
    "            if (not os.path.exists(image_path)):\n",
    "\n",
    "                hh_image, hv_image, conc_image = read_data(folder)\n",
    "                if conc_image is None:\n",
    "                    mask = [f for f in masks if os.path.splitext(image_name)[0] in f][0]\n",
    "\n",
    "                    print('USING MASK')\n",
    "                    conc_image = cv.imread(os.path.join('masks',mask), cv.IMREAD_GRAYSCALE)\n",
    "                if conc_image is None:\n",
    "                    print(\"BAAAD: \", folder)\n",
    "                    continue\n",
    "            #         conc_image_big = np.zeros(hh_image.shape)\n",
    "                conc_image_big = cv.resize(conc_image, hh_image.shape[0:2][::-1])\n",
    "                conc = predict_image_fine(hh_image, hv_image, conc_image_big, net)*200\n",
    "                image_name = os.path.basename(folder) + \".tiff\"\n",
    "                mask_name = 'new_mask_' + image_name\n",
    "                image_path = os.path.join(results_folder, 'bigger_' + image_name)\n",
    "                mask_path = os.path.join(results_folder, mask_name)\n",
    "                cv.imwrite(image_path, conc)\n",
    "                new_mask  = np.isnan(conc).astype(np.uint8)*255\n",
    "                cv.imwrite(mask_path, new_mask)\n",
    "                plt.imshow(conc)\n",
    "            else:\n",
    "                print(\"AD: \" + image_name)\n",
    "        except:\n",
    "            print(\"BAD: \", folder)\n",
    "#     continue\n",
    "    results_folder = os.path.basename(trial)[:-5] + '_MASKED_LAB'\n",
    "    print(\"RESULTS:\", results_folder)\n",
    "    folders = [f for f in glob.glob(os.path.join('lab_sea/2013_data/lab_sea/2013_data','RS2*')) if is_data_valid(f)]\n",
    "    os.makedirs(results_folder, exist_ok=True)\n",
    "    for folder in tqdm.tqdm(folders):\n",
    "        try:\n",
    "            image_name = os.path.basename(folder) + \".tiff\"\n",
    "            image_path = os.path.join(results_folder, 'bigger_' + image_name)\n",
    "            if (not os.path.exists(image_path)):\n",
    "                hh_image, hv_image, conc_image = read_data(folder)\n",
    "                if conc_image is None:\n",
    "                    mask = [f for f in masks if os.path.splitext(image_name)[0] in f][0]\n",
    "                    print('USING MASK', mask)\n",
    "                    conc_image = cv.imread(os.path.join('new_masks',mask), cv.IMREAD_GRAYSCALE)\n",
    "                if conc_image is None:\n",
    "                    print(\"BAAAD: \", folder)\n",
    "                    continue\n",
    "            #         conc_image_big = np.zeros(hh_image.shape)\n",
    "                conc_image_big = cv.resize(conc_image, hh_image.shape[0:2][::-1])\n",
    "                conc = predict_image_fine(hh_image, hv_image, conc_image_big, net)*200\n",
    "                image_name = os.path.basename(folder) + \".tiff\"\n",
    "                mask_name = 'new_mask_' + image_name\n",
    "                image_path = os.path.join(results_folder, 'bigger_' + image_name)\n",
    "                mask_path = os.path.join(results_folder, mask_name)\n",
    "                cv.imwrite(image_path, conc)\n",
    "                new_mask  = np.isnan(conc).astype(np.uint8)*255\n",
    "                cv.imwrite(mask_path, new_mask)\n",
    "                plt.imshow(conc)\n",
    "            else:\n",
    "                print(\"AD: \" + image_name)\n",
    "        except:\n",
    "            print(folder)\n",
    "    results_folder = os.path.basename(trial)[:-5] + '_MASKED_GSL'\n",
    "    folders = [f for f in glob.glob(os.path.join('lab_sea/2013_data/images_gsl2014','RS2*')) if is_data_valid(f)]\n",
    "    os.makedirs(results_folder, exist_ok=True)\n",
    "    print(\"RESULTS:\", results_folder)\n",
    "    for folder in tqdm.tqdm(folders):\n",
    "        try:\n",
    "            image_name = os.path.basename(folder) + \".tiff\"\n",
    "            image_path = os.path.join(results_folder, 'bigger_' + image_name)\n",
    "            if (not os.path.exists(image_path)):\n",
    "                mask = [f for f in masks if os.path.splitext(image_name)[0] in f][0]\n",
    "                print(\"MASKL\", mask)\n",
    "                hh_image, hv_image, conc_image = read_data(folder)\n",
    "                conc_image = cv.imread(os.path.join('new_masks',mask), cv.IMREAD_GRAYSCALE)\n",
    "                if conc_image is None:\n",
    "                    print(\"BAAAD: \", folder)\n",
    "                    continue\n",
    "            #         conc_image_big = np.zeros(hh_image.shape)\n",
    "                conc_image_big = cv.resize(conc_image, hh_image.shape[0:2][::-1])\n",
    "                conc = predict_image_fine(hh_image, hv_image, conc_image_big, net)*200\n",
    "                image_name = os.path.basename(folder) + \".tiff\"\n",
    "                mask_name = 'new_mask_' + image_name\n",
    "                image_path = os.path.join(results_folder, 'bigger_' + image_name)\n",
    "                mask_path = os.path.join(results_folder, mask_name)\n",
    "                cv.imwrite(image_path, conc)\n",
    "                new_mask  = np.isnan(conc).astype(np.uint8)*255\n",
    "                cv.imwrite(mask_path, new_mask)\n",
    "                plt.imshow(conc)\n",
    "            else:\n",
    "                print(\"AD: \" + image_name)\n",
    "        except:\n",
    "            print('VAD',folder)"
   ]
  },
  {
   "cell_type": "code",
   "execution_count": 16,
   "metadata": {},
   "outputs": [],
   "source": [
    "im = cv.imread(os.path.join('masks', mask),0)"
   ]
  },
  {
   "cell_type": "code",
   "execution_count": 17,
   "metadata": {},
   "outputs": [
    {
     "data": {
      "text/plain": [
       "<matplotlib.image.AxesImage at 0x7f682708fd30>"
      ]
     },
     "execution_count": 17,
     "metadata": {},
     "output_type": "execute_result"
    },
    {
     "data": {
      "image/png": "[encoded data removed]",
      "text/plain": [
       "<matplotlib.figure.Figure at 0x7f6827018630>"
      ]
     },
     "metadata": {},
     "output_type": "display_data"
    }
   ],
   "source": [
    "plt.imshow(im)"
   ]
  },
  {
   "cell_type": "code",
   "execution_count": 13,
   "metadata": {},
   "outputs": [
    {
     "data": {
      "text/plain": [
       "'RS2_OK47570_PK459345_DK409231_SCWA_20140117_103914_HH_HV_SGF.tiff'"
      ]
     },
     "execution_count": 13,
     "metadata": {},
     "output_type": "execute_result"
    }
   ],
   "source": [
    "image_name"
   ]
  },
  {
   "cell_type": "code",
   "execution_count": 18,
   "metadata": {},
   "outputs": [
    {
     "data": {
      "text/plain": [
       "'new_maskRS2_OK47570_PK459345_DK409231_SCWA_20140117_103914_HH_HV_SGF.tiff'"
      ]
     },
     "execution_count": 18,
     "metadata": {},
     "output_type": "execute_result"
    }
   ],
   "source": [
    "mask"
   ]
  },
  {
   "cell_type": "code",
   "execution_count": 30,
   "metadata": {},
   "outputs": [],
   "source": [
    "net.load_weights('weights/net_checkpoint_AMORE_R4.hdf5')"
   ]
  },
  {
   "cell_type": "code",
   "execution_count": 31,
   "metadata": {},
   "outputs": [],
   "source": [
    "results_folder = 'results_special_AMORE_R4_lab'\n",
    "os.makedirs(results_folder, exist_ok=True)"
   ]
  },
  {
   "cell_type": "code",
   "execution_count": 33,
   "metadata": {
    "scrolled": false
   },
   "outputs": [
    {
     "name": "stderr",
     "output_type": "stream",
     "text": [
      "\r",
      "  0%|          | 0/10 [00:00<?, ?it/s]"
     ]
    },
    {
     "name": "stdout",
     "output_type": "stream",
     "text": [
      "13813\n"
     ]
    },
    {
     "name": "stderr",
     "output_type": "stream",
     "text": [
      "\r",
      " 10%|█         | 1/10 [01:47<16:07, 107.48s/it]"
     ]
    },
    {
     "name": "stdout",
     "output_type": "stream",
     "text": [
      "21905\n"
     ]
    },
    {
     "name": "stderr",
     "output_type": "stream",
     "text": [
      "\r",
      " 20%|██        | 2/10 [04:35<18:22, 137.87s/it]"
     ]
    },
    {
     "name": "stdout",
     "output_type": "stream",
     "text": [
      "20399\n"
     ]
    },
    {
     "name": "stderr",
     "output_type": "stream",
     "text": [
      "\r",
      " 30%|███       | 3/10 [06:38<15:30, 132.86s/it]"
     ]
    },
    {
     "name": "stdout",
     "output_type": "stream",
     "text": [
      "lab_sea/2013_data/lab_sea/2013_data/RS2_OK44073_PK425836_DK376184_SCWA_20130913_150901_HH_HV_SGF\n",
      "12686\n"
     ]
    },
    {
     "name": "stderr",
     "output_type": "stream",
     "text": [
      "\r",
      " 40%|████      | 4/10 [06:51<10:16, 102.81s/it]"
     ]
    },
    {
     "name": "stdout",
     "output_type": "stream",
     "text": [
      "lab_sea/2013_data/lab_sea/2013_data/RS2_OK44073_PK425834_DK376182_SCWA_20130913_132853_HH_HV_SGF\n"
     ]
    },
    {
     "name": "stderr",
     "output_type": "stream",
     "text": [
      "\r",
      " 50%|█████     | 5/10 [06:51<06:51, 82.33s/it] "
     ]
    },
    {
     "name": "stdout",
     "output_type": "stream",
     "text": [
      "lab_sea/2013_data/lab_sea/2013_data/RS2_OK44067_PK425720_DK376088_SCWA_20130910_131728_HH_HV_SGF\n"
     ]
    },
    {
     "name": "stderr",
     "output_type": "stream",
     "text": [
      "\r",
      " 60%|██████    | 6/10 [06:52<04:34, 68.67s/it]"
     ]
    },
    {
     "name": "stdout",
     "output_type": "stream",
     "text": [
      "lab_sea/2013_data/lab_sea/2013_data/RS2_OK45827_PK443016_DK394472_SCWA_20131112_105716_HH_HV_SGF\n"
     ]
    },
    {
     "name": "stderr",
     "output_type": "stream",
     "text": [
      "\r",
      " 70%|███████   | 7/10 [06:52<02:56, 58.91s/it]"
     ]
    },
    {
     "name": "stdout",
     "output_type": "stream",
     "text": [
      "lab_sea/2013_data/lab_sea/2013_data/RS2_OK44073_PK425837_DK376185_SCWA_20130913_151015_HH_HV_SGF\n"
     ]
    },
    {
     "name": "stderr",
     "output_type": "stream",
     "text": [
      "\r",
      " 80%|████████  | 8/10 [06:52<01:43, 51.59s/it]"
     ]
    },
    {
     "name": "stdout",
     "output_type": "stream",
     "text": [
      "lab_sea/2013_data/lab_sea/2013_data/RS2_OK44073_PK425833_DK376181_SCWA_20130913_132739_HH_HV_SGF\n"
     ]
    },
    {
     "name": "stderr",
     "output_type": "stream",
     "text": [
      "\r",
      " 90%|█████████ | 9/10 [06:54<00:46, 46.00s/it]"
     ]
    },
    {
     "name": "stdout",
     "output_type": "stream",
     "text": [
      "lab_sea/2013_data/lab_sea/2013_data/RS2_OK44067_PK425719_DK376087_SCWA_20130910_131613_HH_HV_SGF\n"
     ]
    },
    {
     "name": "stderr",
     "output_type": "stream",
     "text": [
      "\r",
      "100%|██████████| 10/10 [06:54<00:00, 41.44s/it]"
     ]
    },
    {
     "name": "stdout",
     "output_type": "stream",
     "text": [
      "lab_sea/2013_data/lab_sea/2013_data/RS2_OK45827_PK443004_DK394474_SCWA_20131112_105950_HH_HV_SGF\n"
     ]
    },
    {
     "name": "stderr",
     "output_type": "stream",
     "text": [
      "\n"
     ]
    },
    {
     "data": {
      "image/png": "[encoded data removed]",
      "text/plain": [
       "<matplotlib.figure.Figure at 0x7f1b5008a320>"
      ]
     },
     "metadata": {},
     "output_type": "display_data"
    }
   ],
   "source": [
    "for folder in tqdm.tqdm(folders):\n",
    "    try:\n",
    "        image_name = os.path.basename(folder) + \".tiff\"\n",
    "        image_path = os.path.join(results_folder, 'bigger_' + image_name)\n",
    "        if (not os.path.exists(image_path)) or True:\n",
    "            mask = [f for f in masks if os.path.splitext(image_name)[0] in f][0]\n",
    "\n",
    "            hh_image, hv_image, conc_image = read_data(folder)\n",
    "            conc_image = cv.imread(os.path.join('masks',mask), cv.IMREAD_GRAYSCALE)\n",
    "            if conc_image is None:\n",
    "                print(\"BAAAD: \", folder)\n",
    "                continue\n",
    "        #         conc_image_big = np.zeros(hh_image.shape)\n",
    "            conc_image_big = cv.resize(conc_image, hh_image.shape[0:2][::-1])\n",
    "            conc = predict_image_fine(hh_image, hv_image, conc_image_big, net)*200\n",
    "            image_name = os.path.basename(folder) + \".tiff\"\n",
    "            mask_name = 'new_mask_' + image_name\n",
    "            image_path = os.path.join(results_folder, 'bigger_' + image_name)\n",
    "            mask_path = os.path.join(results_folder, mask_name)\n",
    "            cv.imwrite(image_path, conc)\n",
    "            new_mask  = np.isnan(conc).astype(np.uint8)*255\n",
    "            cv.imwrite(mask_path, new_mask)\n",
    "            plt.imshow(conc)\n",
    "        else:\n",
    "            print(\"AD: \" + image_name)\n",
    "    except:\n",
    "        print(folder)"
   ]
  },
  {
   "cell_type": "code",
   "execution_count": 46,
   "metadata": {},
   "outputs": [
    {
     "data": {
      "text/plain": [
       "<matplotlib.image.AxesImage at 0x7fcb4c0a60f0>"
      ]
     },
     "execution_count": 46,
     "metadata": {},
     "output_type": "execute_result"
    },
    {
     "data": {
      "image/png": "[encoded data removed]",
      "text/plain": [
       "<matplotlib.figure.Figure at 0x7fcb503629e8>"
      ]
     },
     "metadata": {},
     "output_type": "display_data"
    }
   ],
   "source": [
    "plt.imshow(cv.imread('masks/' + mask))"
   ]
  },
  {
   "cell_type": "code",
   "execution_count": 48,
   "metadata": {},
   "outputs": [
    {
     "data": {
      "text/plain": [
       "<matplotlib.image.AxesImage at 0x7fcb3bba02e8>"
      ]
     },
     "execution_count": 48,
     "metadata": {},
     "output_type": "execute_result"
    },
    {
     "data": {
      "image/png": "[encoded data removed]",
      "text/plain": [
       "<matplotlib.figure.Figure at 0x7fcb3bbd05f8>"
      ]
     },
     "metadata": {},
     "output_type": "display_data"
    }
   ],
   "source": [
    "plt.imshow(conc)"
   ]
  },
  {
   "cell_type": "code",
   "execution_count": null,
   "metadata": {},
   "outputs": [],
   "source": [
    "plt.imshow()"
   ]
  },
  {
   "cell_type": "code",
   "execution_count": 18,
   "metadata": {},
   "outputs": [
    {
     "ename": "TypeError",
     "evalue": "Required argument 'filename' (pos 1) not found",
     "output_type": "error",
     "traceback": [
      "\u001b[0;31m---------------------------------------------------------------------------\u001b[0m",
      "\u001b[0;31mTypeError\u001b[0m                                 Traceback (most recent call last)",
      "\u001b[0;32m<ipython-input-18-5e31dd0f6fdb>\u001b[0m in \u001b[0;36m<module>\u001b[0;34m()\u001b[0m\n\u001b[0;32m----> 1\u001b[0;31m \u001b[0mcv\u001b[0m\u001b[0;34m.\u001b[0m\u001b[0mimread\u001b[0m\u001b[0;34m(\u001b[0m\u001b[0;34m)\u001b[0m\u001b[0;34m\u001b[0m\u001b[0m\n\u001b[0m",
      "\u001b[0;31mTypeError\u001b[0m: Required argument 'filename' (pos 1) not found"
     ]
    }
   ],
   "source": [
    "cv.imread()"
   ]
  },
  {
   "cell_type": "code",
   "execution_count": null,
   "metadata": {},
   "outputs": [],
   "source": [
    "new_mask"
   ]
  },
  {
   "cell_type": "code",
   "execution_count": null,
   "metadata": {},
   "outputs": [],
   "source": [
    "new_mask.dtype"
   ]
  },
  {
   "cell_type": "code",
   "execution_count": null,
   "metadata": {},
   "outputs": [],
   "source": [
    "plt.imshow(np.isnan(conc))"
   ]
  },
  {
   "cell_type": "code",
   "execution_count": null,
   "metadata": {},
   "outputs": [],
   "source": [
    "np.nan"
   ]
  },
  {
   "cell_type": "code",
   "execution_count": null,
   "metadata": {},
   "outputs": [],
   "source": [
    "new_mask.shape"
   ]
  }
 ],
 "metadata": {
  "kernelspec": {
   "display_name": "Python 3",
   "language": "python",
   "name": "python3"
  },
  "language_info": {
   "codemirror_mode": {
    "name": "ipython",
    "version": 3
   },
   "file_extension": ".py",
   "mimetype": "text/x-python",
   "name": "python",
   "nbconvert_exporter": "python",
   "pygments_lexer": "ipython3",
   "version": "3.6.6"
  }
 },
 "nbformat": 4,
 "nbformat_minor": 2
}
