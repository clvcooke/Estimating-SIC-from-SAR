{
 "cells": [
  {
   "cell_type": "code",
   "execution_count": 1,
   "metadata": {
    "scrolled": true
   },
   "outputs": [
    {
     "name": "stderr",
     "output_type": "stream",
     "text": [
      "/home/paperspace/anaconda3/lib/python3.6/site-packages/h5py/__init__.py:34: FutureWarning: Conversion of the second argument of issubdtype from `float` to `np.floating` is deprecated. In future, it will be treated as `np.float64 == np.dtype(float).type`.\n",
      "  from ._conv import register_converters as _register_converters\n",
      "Using TensorFlow backend.\n",
      "/home/paperspace/anaconda3/lib/python3.6/importlib/_bootstrap.py:205: RuntimeWarning: compiletime version 3.5 of module 'tensorflow.python.framework.fast_tensor_util' does not match runtime version 3.6\n",
      "  return f(*args, **kwds)\n"
     ]
    }
   ],
   "source": [
    "import cv2 as cv\n",
    "import keras\n",
    "import keras.applications as apps\n",
    "import numpy as np\n",
    "import os\n",
    "import densenet\n",
    "import glob\n",
    "import tqdm\n",
    "import matplotlib.pyplot as plt\n",
    "import matplotlib\n",
    "import random\n",
    "plt.ion()"
   ]
  },
  {
   "cell_type": "code",
   "execution_count": 2,
   "metadata": {},
   "outputs": [
    {
     "name": "stdout",
     "output_type": "stream",
     "text": [
      "h\n"
     ]
    }
   ],
   "source": [
    "print('h')"
   ]
  },
  {
   "cell_type": "code",
   "execution_count": null,
   "metadata": {},
   "outputs": [],
   "source": [
    "weight_path = \"/home/paperspace/test_weights/noise_weights.hdf5\""
   ]
  },
  {
   "cell_type": "code",
   "execution_count": 17,
   "metadata": {},
   "outputs": [],
   "source": [
    "from keras.callbacks import ModelCheckpoint"
   ]
  },
  {
   "cell_type": "code",
   "execution_count": 18,
   "metadata": {},
   "outputs": [],
   "source": [
    "TILE_SIZE = 221"
   ]
  },
  {
   "cell_type": "code",
   "execution_count": 3,
   "metadata": {},
   "outputs": [
    {
     "name": "stderr",
     "output_type": "stream",
     "text": [
      "/home/paperspace/anaconda3/lib/python3.6/site-packages/keras/applications/imagenet_utils.py:258: UserWarning: This model usually expects 1 or 3 input channels. However, it was passed an input_shape with 2 input channels.\n",
      "  str(input_shape[-1]) + ' input channels.')\n"
     ]
    }
   ],
   "source": [
    "net = densenet.DenseNet121(include_top=True,\n",
    "                      weights=None,\n",
    "                      input_shape=(221, 221, 2),\n",
    "                      pooling=None,\n",
    "                      classes=1)"
   ]
  },
  {
   "cell_type": "code",
   "execution_count": null,
   "metadata": {},
   "outputs": [],
   "source": [
    "net.load_weights(weight_path)"
   ]
  },
  {
   "cell_type": "code",
   "execution_count": null,
   "metadata": {},
   "outputs": [],
   "source": [
    "net_noise =densenet.DenseNet121(include_top=True,\n",
    "                      weights=None,\n",
    "                      input_shape=(221, 221, 2),\n",
    "                      pooling=None,\n",
    "                      classes=1)"
   ]
  },
  {
   "cell_type": "code",
   "execution_count": 4,
   "metadata": {},
   "outputs": [],
   "source": [
    "def tile_image(HH, HV, conc, tile_size=221):\n",
    "    # This function assumes all images are the same shape\n",
    "    tile_center = tile_size//2\n",
    "    amount_x = (HH.shape[0]//tile_size) -1\n",
    "    amount_y = (HH.shape[1]//tile_size) -1\n",
    "    sar_tiles = []\n",
    "    conc_tiles = []\n",
    "    for i in range(amount_x):\n",
    "        for j in range(amount_y):\n",
    "            x_bounds = [tile_size*i, tile_size*(i+1)]\n",
    "            y_bounds = [tile_size*j, tile_size*(j+1)]\n",
    "            conc_tile = conc[x_bounds[0]:x_bounds[1], y_bounds[0]:y_bounds[1]]\n",
    "            if np.max(conc_tile) != 255:\n",
    "                HH_tile = HH[x_bounds[0]:x_bounds[1],y_bounds[0]:y_bounds[1]]\n",
    "                HV_tile = HV[x_bounds[0]:x_bounds[1],y_bounds[0]:y_bounds[1]]\n",
    "                tile = np.stack([HH_tile, HV_tile],axis=-1)\n",
    "                sar_tiles.append(tile)\n",
    "                conc_tiles.append([conc_tile[tile_center, tile_center]])\n",
    "    sar_tiles = np.asarray(sar_tiles).astype(np.float32)/255\n",
    "    conc_tiles = np.asarray(conc_tiles).astype(np.float32)/100\n",
    "    \n",
    "    return sar_tiles, conc_tiles\n",
    "            \n",
    "            "
   ]
  },
  {
   "cell_type": "code",
   "execution_count": 5,
   "metadata": {},
   "outputs": [],
   "source": [
    "def predict_image_fine(HH, HV, conc, model, tile_size=221):\n",
    "\n",
    "    amount_x = ((HH.shape[0])//tile_size) -2\n",
    "    amount_y = (HH.shape[1]//tile_size) -2\n",
    "    scan_size = 2\n",
    "    conc_image = np.zeros((amount_x*(scan_size+1), amount_y*(scan_size+1)))\n",
    "    for i in tqdm.tqdm(range(amount_x)):\n",
    "        for j in range(amount_y):\n",
    "            for s in range(scan_size+1):\n",
    "                for x in range(scan_size+1):\n",
    "                    \n",
    "                    x_bounds = [int(tile_size*(i+ s/scan_size)), int(tile_size*(i+1 + s/scan_size))]\n",
    "                    y_bounds = [int(tile_size*(j + x/scan_size)), int(tile_size*(j+1 + x/scan_size))]\n",
    "                    conc_tile = conc[x_bounds[0]:x_bounds[1], y_bounds[0]:y_bounds[1]]\n",
    "                    if np.max(conc_tile) < 150:\n",
    "                        HH_tile = HH[x_bounds[0]:x_bounds[1],y_bounds[0]:y_bounds[1]]\n",
    "                        HV_tile = HV[x_bounds[0]:x_bounds[1],y_bounds[0]:y_bounds[1]]\n",
    "                        tile = np.expand_dims(np.stack([HH_tile, HV_tile],axis=-1), axis=0)\n",
    "                        tile = tile.astype(np.float32)/255\n",
    "        #                 sar_tiles.append(tile)/\n",
    "                        pred = model.predict(tile)\n",
    "                        pval = pred.flatten()[0]\n",
    "                        if pval > 1.5:\n",
    "                            pval = np.nan\n",
    "        #                 print('VAL:', pred)\n",
    "#                         conc_image[i,j] = pval\n",
    "                        conc_image[i*(scan_size+1)+s,j*(scan_size+1) + x] = pval\n",
    "                    else:\n",
    "                        conc_image[i*(scan_size+1)+s,j*(scan_size+1) + x] = np.nan\n",
    "    return conc_image"
   ]
  },
  {
   "cell_type": "code",
   "execution_count": 6,
   "metadata": {},
   "outputs": [],
   "source": [
    "def predict_image(HH, HV, conc, model, tile_size=221):\n",
    "    amount_x = (HH.shape[0]//tile_size) -1\n",
    "    amount_y = (HH.shape[1]//tile_size) -1\n",
    "    conc_image = np.zeros((amount_x,amount_y))\n",
    "    sar_tiles = []\n",
    "    conc_tiles = []\n",
    "    for i in range(amount_x):\n",
    "        for j in range(amount_y):\n",
    "            x_bounds = [tile_size*i, tile_size*(i+1)]\n",
    "            y_bounds = [tile_size*j, tile_size*(j+1)]\n",
    "            conc_tile = conc[x_bounds[0]:x_bounds[1], y_bounds[0]:y_bounds[1]]\n",
    "            if np.max(conc_tile) < 150:\n",
    "                HH_tile = HH[x_bounds[0]:x_bounds[1],y_bounds[0]:y_bounds[1]]\n",
    "                HV_tile = HV[x_bounds[0]:x_bounds[1],y_bounds[0]:y_bounds[1]]\n",
    "                tile = np.expand_dims(np.stack([HH_tile, HV_tile],axis=-1), axis=0)\n",
    "                tile = tile.astype(np.float32)/255\n",
    "#                 sar_tiles.append(tile)/\n",
    "                pred = model.predict(tile)\n",
    "                pval = pred.flatten()[0]\n",
    "                if pval > 1.5:\n",
    "                    pval = np.nan\n",
    "#                 print('VAL:', pred)\n",
    "                conc_image[i,j] = pval\n",
    "                \n",
    "            else:\n",
    "                conc_image[i,j] = np.nan\n",
    "    return conc_image"
   ]
  },
  {
   "cell_type": "code",
   "execution_count": 7,
   "metadata": {},
   "outputs": [],
   "source": [
    "def is_data_valid(folder_path):\n",
    "    valid = os.path.exists(os.path.join(folder_path, 'imagery_HH.tif'))\n",
    "    valid = valid and os.path.exists(os.path.join(folder_path, 'imagery_HV.tif')) \n",
    "    valid = valid and os.path.exists(os.path.join(folder_path, 'conc.tiff'))\n",
    "    return valid\n",
    "    "
   ]
  },
  {
   "cell_type": "code",
   "execution_count": 8,
   "metadata": {},
   "outputs": [],
   "source": [
    "def read_data(folder):\n",
    "    hh_image = cv.imread(os.path.join(folder, 'imagery_HH.tif'), cv.IMREAD_GRAYSCALE)\n",
    "    hv_image = cv.imread(os.path.join(folder, 'imagery_HV.tif'), cv.IMREAD_GRAYSCALE)\n",
    "    conc_image = cv.imread(os.path.join(folder, 'conc.tiff'), cv.IMREAD_GRAYSCALE)\n",
    "    return hh_image, hv_image, conc_image"
   ]
  },
  {
   "cell_type": "code",
   "execution_count": 9,
   "metadata": {},
   "outputs": [],
   "source": [
    "folders = [f for f in glob.glob(os.path.join('training_data/20*')) if is_data_valid(f)]"
   ]
  },
  {
   "cell_type": "code",
   "execution_count": 10,
   "metadata": {},
   "outputs": [],
   "source": [
    "random.seed(0)\n",
    "rand_folders = sorted(folders, key=lambda f: random.random())"
   ]
  },
  {
   "cell_type": "code",
   "execution_count": 11,
   "metadata": {},
   "outputs": [],
   "source": [
    "train_amount = len(rand_folders)//6"
   ]
  },
  {
   "cell_type": "code",
   "execution_count": 12,
   "metadata": {},
   "outputs": [],
   "source": [
    "training_folders = rand_folders[:-train_amount]\n",
    "testing_folders = rand_folders[-train_amount:]"
   ]
  },
  {
   "cell_type": "code",
   "execution_count": 13,
   "metadata": {},
   "outputs": [],
   "source": [
    "def gen_tile_data(folder_name, images, labels, pos, dry_run=False, multiplier=1):\n",
    "    amount = 0\n",
    "    try:\n",
    "        SHIFT = TILE_SIZE//multiplier\n",
    "        hh_image, hv_image, conc_image = read_data(folder_name)\n",
    "        conc_image_big = cv.resize(conc_image, hh_image.shape[0:2][::-1])\n",
    "        for _ in range(multiplier):\n",
    "            hh_image = hh_image[SHIFT:, SHIFT:]\n",
    "            hv_image = hv_image[SHIFT:, SHIFT:]\n",
    "            conc_image_big = conc_image_big[SHIFT:, SHIFT:]\n",
    "            im_tiles, c_tiles = tile_image(hh_image, hv_image, conc_image_big)\n",
    "            if not dry_run:\n",
    "                images[pos+amount:pos + amount+ len(im_tiles)] = im_tiles\n",
    "                labels[pos+amount:pos + amount + len(c_tiles)] = c_tiles\n",
    "            amount = amount + len(im_tiles)\n",
    "    except:\n",
    "        print(folder_name)\n",
    "    if dry_run:\n",
    "        return amount\n",
    "    return images, labels, pos + amount"
   ]
  },
  {
   "cell_type": "code",
   "execution_count": 20,
   "metadata": {},
   "outputs": [
    {
     "name": "stderr",
     "output_type": "stream",
     "text": [
      "  9%|▊         | 2/23 [00:02<00:22,  1.05s/it]"
     ]
    },
    {
     "name": "stdout",
     "output_type": "stream",
     "text": [
      "training_data/20110702\n"
     ]
    },
    {
     "name": "stderr",
     "output_type": "stream",
     "text": [
      " 61%|██████    | 14/23 [00:14<00:09,  1.06s/it]"
     ]
    },
    {
     "name": "stdout",
     "output_type": "stream",
     "text": [
      "training_data/20110717B\n"
     ]
    },
    {
     "name": "stderr",
     "output_type": "stream",
     "text": [
      "\r",
      " 65%|██████▌   | 15/23 [00:16<00:08,  1.09s/it]"
     ]
    },
    {
     "name": "stdout",
     "output_type": "stream",
     "text": [
      "training_data/20101009\n"
     ]
    },
    {
     "name": "stderr",
     "output_type": "stream",
     "text": [
      "\r",
      " 74%|███████▍  | 17/23 [00:16<00:05,  1.01it/s]"
     ]
    },
    {
     "name": "stdout",
     "output_type": "stream",
     "text": [
      "training_data/20110214\n"
     ]
    },
    {
     "name": "stderr",
     "output_type": "stream",
     "text": [
      "100%|██████████| 23/23 [00:24<00:00,  1.04s/it]\n"
     ]
    }
   ],
   "source": [
    "train_length = 0\n",
    "for k, folder in enumerate(tqdm.tqdm(training_folders)):\n",
    "    train_length += gen_tile_data(folder, None, None, pos=0, dry_run=True)"
   ]
  },
  {
   "cell_type": "code",
   "execution_count": 21,
   "metadata": {},
   "outputs": [
    {
     "name": "stderr",
     "output_type": "stream",
     "text": [
      "100%|██████████| 4/4 [00:03<00:00,  1.08it/s]"
     ]
    },
    {
     "name": "stdout",
     "output_type": "stream",
     "text": [
      "training_data/20110223\n"
     ]
    },
    {
     "name": "stderr",
     "output_type": "stream",
     "text": [
      "\n"
     ]
    }
   ],
   "source": [
    "test_length = 0\n",
    "for k, folder in enumerate(tqdm.tqdm(testing_folders)):\n",
    "    test_length += gen_tile_data(folder, None, None, pos=0, dry_run=True)"
   ]
  },
  {
   "cell_type": "code",
   "execution_count": 22,
   "metadata": {},
   "outputs": [],
   "source": [
    "training_images = np.zeros((train_length, TILE_SIZE, TILE_SIZE, 2), dtype=np.float32)\n",
    "training_labels = np.zeros((train_length, 1), dtype=np.float32)\n",
    "\n",
    "testing_images = np.zeros((test_length, TILE_SIZE, TILE_SIZE, 2), dtype=np.float32)\n",
    "testing_labels = np.zeros((test_length, 1), dtype=np.float32)"
   ]
  },
  {
   "cell_type": "code",
   "execution_count": 23,
   "metadata": {},
   "outputs": [
    {
     "name": "stderr",
     "output_type": "stream",
     "text": [
      " 61%|██████    | 14/23 [00:16<00:10,  1.21s/it]"
     ]
    },
    {
     "name": "stdout",
     "output_type": "stream",
     "text": [
      "training_data/20110717B\n"
     ]
    },
    {
     "name": "stderr",
     "output_type": "stream",
     "text": [
      "\r",
      " 65%|██████▌   | 15/23 [00:18<00:10,  1.26s/it]"
     ]
    },
    {
     "name": "stdout",
     "output_type": "stream",
     "text": [
      "training_data/20101009\n"
     ]
    },
    {
     "name": "stderr",
     "output_type": "stream",
     "text": [
      "\r",
      " 74%|███████▍  | 17/23 [00:19<00:06,  1.13s/it]"
     ]
    },
    {
     "name": "stdout",
     "output_type": "stream",
     "text": [
      "training_data/20110214\n"
     ]
    },
    {
     "name": "stderr",
     "output_type": "stream",
     "text": [
      "100%|██████████| 23/23 [00:27<00:00,  1.20s/it]\n",
      "  0%|          | 0/4 [00:00<?, ?it/s]"
     ]
    },
    {
     "name": "stdout",
     "output_type": "stream",
     "text": [
      "training_data/20110217\n"
     ]
    },
    {
     "name": "stderr",
     "output_type": "stream",
     "text": [
      "100%|██████████| 4/4 [00:03<00:00,  1.02it/s]"
     ]
    },
    {
     "name": "stdout",
     "output_type": "stream",
     "text": [
      "training_data/20110223\n"
     ]
    },
    {
     "name": "stderr",
     "output_type": "stream",
     "text": [
      "\n"
     ]
    }
   ],
   "source": [
    "pos = 0\n",
    "for k, folder in enumerate(tqdm.tqdm(training_folders)):\n",
    "    training_images, training_labels, pos = gen_tile_data(folder, training_images, training_labels, pos)\n",
    "\n",
    "pos = 0\n",
    "for k, folder in enumerate(tqdm.tqdm(testing_folders)):\n",
    "    testing_images, testing_labels, pos = gen_tile_data(folder, testing_images, testing_labels, pos)"
   ]
  },
  {
   "cell_type": "code",
   "execution_count": 24,
   "metadata": {},
   "outputs": [
    {
     "data": {
      "text/plain": [
       "(20827, 221, 221, 2)"
      ]
     },
     "execution_count": 24,
     "metadata": {},
     "output_type": "execute_result"
    }
   ],
   "source": [
    "training_images.shape"
   ]
  },
  {
   "cell_type": "code",
   "execution_count": 25,
   "metadata": {},
   "outputs": [
    {
     "data": {
      "text/plain": [
       "(1888, 221, 221, 2)"
      ]
     },
     "execution_count": 25,
     "metadata": {},
     "output_type": "execute_result"
    }
   ],
   "source": [
    "testing_images.shape"
   ]
  },
  {
   "cell_type": "code",
   "execution_count": 26,
   "metadata": {},
   "outputs": [],
   "source": [
    "# TODO: tune hyper params\n",
    "optimizer = keras.optimizers.RMSprop(lr=0.001)\n",
    "# metrics = ['accuracy']\n",
    "loss = 'mean_squared_error'\n",
    "net.compile(optimizer, loss=loss)"
   ]
  },
  {
   "cell_type": "code",
   "execution_count": 29,
   "metadata": {},
   "outputs": [],
   "source": [
    "checkpointer = ModelCheckpoint(filepath='/tmp/linear_weights_noise_redo.hdf5', verbose=1, save_best_only=True)"
   ]
  },
  {
   "cell_type": "code",
   "execution_count": 30,
   "metadata": {},
   "outputs": [],
   "source": [
    "hist_loss_noise = []\n",
    "val_loss_noise = []"
   ]
  },
  {
   "cell_type": "code",
   "execution_count": 32,
   "metadata": {},
   "outputs": [
    {
     "name": "stdout",
     "output_type": "stream",
     "text": [
      "Train on 20827 samples, validate on 1888 samples\n",
      "Epoch 1/2\n",
      "20827/20827 [==============================] - 283s 14ms/step - loss: 0.0952 - val_loss: 0.5976\n",
      "\n",
      "Epoch 00001: val_loss did not improve\n",
      "Epoch 2/2\n",
      "20827/20827 [==============================] - 283s 14ms/step - loss: 0.0928 - val_loss: 8.1636\n",
      "\n",
      "Epoch 00002: val_loss did not improve\n"
     ]
    }
   ],
   "source": [
    "hist = net.fit(x=training_images, y=training_labels, epochs=2, validation_data=(testing_images, testing_labels), callbacks=[checkpointer])\n",
    "hist_loss_noise += hist.history['loss']\n",
    "val_loss_noise += hist.history['val_loss']"
   ]
  },
  {
   "cell_type": "code",
   "execution_count": null,
   "metadata": {},
   "outputs": [],
   "source": [
    "import keras.backend as K"
   ]
  },
  {
   "cell_type": "code",
   "execution_count": null,
   "metadata": {},
   "outputs": [],
   "source": [
    "K.set_value(net_noise.optimizer.lr, K.get_value(net_noise.optimizer.lr)/10)"
   ]
  },
  {
   "cell_type": "code",
   "execution_count": null,
   "metadata": {},
   "outputs": [],
   "source": [
    "net_noise.load_weights('check.h5')"
   ]
  },
  {
   "cell_type": "code",
   "execution_count": null,
   "metadata": {},
   "outputs": [],
   "source": [
    "print('h')"
   ]
  },
  {
   "cell_type": "code",
   "execution_count": null,
   "metadata": {},
   "outputs": [],
   "source": [
    "val_loss += hist.history['val_loss']"
   ]
  },
  {
   "cell_type": "code",
   "execution_count": null,
   "metadata": {},
   "outputs": [],
   "source": [
    "hist_loss"
   ]
  },
  {
   "cell_type": "code",
   "execution_count": null,
   "metadata": {},
   "outputs": [],
   "source": [
    "hist = net.fit(x=training_images, y=training_labels, epochs=1, batch_size=32, validation_data=(testing_images, testing_labels))\n",
    "hist_loss += hist.history['loss']"
   ]
  },
  {
   "cell_type": "code",
   "execution_count": null,
   "metadata": {},
   "outputs": [],
   "source": [
    "for i in range(3):\n",
    "    hist = net.fit(x=training_images, y=training_labels, epochs=3, validation_data=(testing_images, testing_labels))\n",
    "    hist_loss += hist.history['loss']"
   ]
  },
  {
   "cell_type": "code",
   "execution_count": 33,
   "metadata": {
    "scrolled": true
   },
   "outputs": [
    {
     "data": {
      "image/png": "[encoded data removed]",
      "text/plain": [
       "<matplotlib.figure.Figure at 0x7f9e579fd780>"
      ]
     },
     "metadata": {},
     "output_type": "display_data"
    }
   ],
   "source": [
    "fig = plt.figure()\n",
    "plt.plot(val_loss_noise, label='test')\n",
    "plt.plot(hist_loss_noise, label='train')\n",
    "plt.ylabel('MSE')\n",
    "plt.xlabel('epoch')\n",
    "plt.legend()\n",
    "fig.get_axes()[0].set_ylim(0, 0.4)\n",
    "plt.grid()"
   ]
  },
  {
   "cell_type": "code",
   "execution_count": null,
   "metadata": {},
   "outputs": [],
   "source": [
    "\n"
   ]
  },
  {
   "cell_type": "code",
   "execution_count": null,
   "metadata": {},
   "outputs": [],
   "source": [
    "plt.plot(training_labels.flatten())"
   ]
  },
  {
   "cell_type": "code",
   "execution_count": null,
   "metadata": {},
   "outputs": [],
   "source": [
    "hh_image, hv_image, conc_image = read_data(testing_folders[2])\n",
    "conc_image_big = cv.resize(conc_image, hh_image.shape[0:2][::-1])\n"
   ]
  },
  {
   "cell_type": "code",
   "execution_count": null,
   "metadata": {},
   "outputs": [],
   "source": [
    "del hh_image\n",
    "del hv_image\n",
    "del conc_image"
   ]
  },
  {
   "cell_type": "code",
   "execution_count": null,
   "metadata": {},
   "outputs": [],
   "source": [
    "del training_images"
   ]
  },
  {
   "cell_type": "code",
   "execution_count": null,
   "metadata": {},
   "outputs": [],
   "source": [
    "for test_folder in testing_folders:\n",
    "    hh_image, hv_image, conc_image = read_data(test_folder)\n",
    "    conc_image_big = cv.resize(conc_image, hh_image.shape[0:2][::-1])\n",
    "    conc = predict_image_fine(hh_image, hv_image, conc_image_big, net)\n",
    "    image_name = os.path.basename(test_folder) + \".tiff\"\n",
    "    cv.imwrite(image_name, conc)\n",
    "    print(image_name)"
   ]
  },
  {
   "cell_type": "code",
   "execution_count": null,
   "metadata": {},
   "outputs": [],
   "source": [
    "conc = predict_image_fine(hh_image, hv_image, conc_image_big, net)"
   ]
  },
  {
   "cell_type": "code",
   "execution_count": null,
   "metadata": {},
   "outputs": [],
   "source": []
  },
  {
   "cell_type": "code",
   "execution_count": null,
   "metadata": {},
   "outputs": [],
   "source": [
    "n = matplotlib.colors.Normalize(vmin=0.,vmax=1.)"
   ]
  },
  {
   "cell_type": "code",
   "execution_count": null,
   "metadata": {},
   "outputs": [],
   "source": [
    "# plt.figure(figsize=(11,11))\n",
    "plt.imshow(hh_image)"
   ]
  },
  {
   "cell_type": "code",
   "execution_count": null,
   "metadata": {},
   "outputs": [],
   "source": [
    "conc.shape"
   ]
  },
  {
   "cell_type": "code",
   "execution_count": null,
   "metadata": {},
   "outputs": [],
   "source": [
    "plt.imshow(conc_image)\n",
    "plt.colorbar()"
   ]
  },
  {
   "cell_type": "code",
   "execution_count": null,
   "metadata": {},
   "outputs": [],
   "source": [
    "plt.imshow(conc, norm=n)\n",
    "plt.colorbar()"
   ]
  },
  {
   "cell_type": "code",
   "execution_count": null,
   "metadata": {},
   "outputs": [],
   "source": [
    "testing_folders"
   ]
  },
  {
   "cell_type": "code",
   "execution_count": null,
   "metadata": {},
   "outputs": [],
   "source": [
    "plt.imshow(conc_image)\n",
    "plt.colorbar()"
   ]
  },
  {
   "cell_type": "code",
   "execution_count": null,
   "metadata": {},
   "outputs": [],
   "source": [
    "import matplotlib"
   ]
  },
  {
   "cell_type": "code",
   "execution_count": null,
   "metadata": {},
   "outputs": [],
   "source": []
  },
  {
   "cell_type": "code",
   "execution_count": null,
   "metadata": {},
   "outputs": [],
   "source": [
    "plt.imshow(conc,norm=n)\n",
    "plt.colorbar()"
   ]
  },
  {
   "cell_type": "code",
   "execution_count": null,
   "metadata": {},
   "outputs": [],
   "source": [
    "plt.imshow(conc, norm=n)\n",
    "plt.colorbar()"
   ]
  },
  {
   "cell_type": "code",
   "execution_count": null,
   "metadata": {},
   "outputs": [],
   "source": [
    "conc_test = conc.copy()"
   ]
  },
  {
   "cell_type": "code",
   "execution_count": null,
   "metadata": {},
   "outputs": [],
   "source": [
    "conc_re = cv.resize(conc_test, conc_image.shape[0:2][::-1])"
   ]
  },
  {
   "cell_type": "code",
   "execution_count": null,
   "metadata": {},
   "outputs": [],
   "source": [
    "conc_re.dtype"
   ]
  },
  {
   "cell_type": "code",
   "execution_count": null,
   "metadata": {},
   "outputs": [],
   "source": [
    "plt.imshow(conc_re)\n",
    "plt.colorbar()"
   ]
  },
  {
   "cell_type": "code",
   "execution_count": null,
   "metadata": {},
   "outputs": [],
   "source": [
    "mask = conc_image == 255"
   ]
  },
  {
   "cell_type": "code",
   "execution_count": null,
   "metadata": {},
   "outputs": [],
   "source": [
    "masked_conc = np.ma.masked_array(conc_image, mask)"
   ]
  },
  {
   "cell_type": "code",
   "execution_count": null,
   "metadata": {},
   "outputs": [],
   "source": [
    "plt.imshow(masked_conc/100, norm=n)\n",
    "plt.colorbar()"
   ]
  },
  {
   "cell_type": "code",
   "execution_count": null,
   "metadata": {},
   "outputs": [],
   "source": [
    "plt.imshow(conc_image - mask)"
   ]
  },
  {
   "cell_type": "code",
   "execution_count": null,
   "metadata": {},
   "outputs": [],
   "source": [
    "plt.imshow(conc_image)\n",
    "plt.colorbar()"
   ]
  },
  {
   "cell_type": "code",
   "execution_count": null,
   "metadata": {},
   "outputs": [],
   "source": [
    "test = net.predict(training_images[1000:1001])"
   ]
  },
  {
   "cell_type": "code",
   "execution_count": null,
   "metadata": {},
   "outputs": [],
   "source": [
    "test"
   ]
  },
  {
   "cell_type": "code",
   "execution_count": null,
   "metadata": {},
   "outputs": [],
   "source": [
    "plt.imshow(hh_image)"
   ]
  },
  {
   "cell_type": "code",
   "execution_count": null,
   "metadata": {},
   "outputs": [],
   "source": [
    "net.save_weights('densenet_reset_v2.h5')"
   ]
  },
  {
   "cell_type": "code",
   "execution_count": null,
   "metadata": {},
   "outputs": [],
   "source": [
    "net.load_weights('densenet_reset_v1.h5')"
   ]
  },
  {
   "cell_type": "code",
   "execution_count": null,
   "metadata": {},
   "outputs": [],
   "source": [
    "# after we have saved the network we want to predict an image and compare it to the result\n"
   ]
  },
  {
   "cell_type": "code",
   "execution_count": null,
   "metadata": {},
   "outputs": [],
   "source": [
    "plt.plot(hist.history['loss'])"
   ]
  },
  {
   "cell_type": "code",
   "execution_count": null,
   "metadata": {},
   "outputs": [],
   "source": [
    "plt.imshow(training_images[100,:,:,0])"
   ]
  },
  {
   "cell_type": "code",
   "execution_count": null,
   "metadata": {},
   "outputs": [],
   "source": [
    "plt"
   ]
  },
  {
   "cell_type": "code",
   "execution_count": null,
   "metadata": {},
   "outputs": [],
   "source": [
    "hist.history.keys()"
   ]
  }
 ],
 "metadata": {
  "kernelspec": {
   "display_name": "Python 3",
   "language": "python",
   "name": "python3"
  },
  "language_info": {
   "codemirror_mode": {
    "name": "ipython",
    "version": 3
   },
   "file_extension": ".py",
   "mimetype": "text/x-python",
   "name": "python",
   "nbconvert_exporter": "python",
   "pygments_lexer": "ipython3",
   "version": "3.6.2"
  }
 },
 "nbformat": 4,
 "nbformat_minor": 2
}
