{
 "cells": [
  {
   "cell_type": "code",
   "execution_count": 14,
   "metadata": {},
   "outputs": [],
   "source": [
    "# We want to find the best image set to pull from, rather a hierarchy of grids I guess.\n",
    "import numpy as np\n",
    "import matplotlib.pyplot as plt\n",
    "import os\n",
    "import glob\n",
    "import cv2 as cv\n",
    "from osgeo import gdal\n",
    "import netCDF4\n",
    "import tqdm\n",
    "from scipy.spatial import ckdtree\n",
    "plt.ion()\n",
    "import scipy.io as io\n",
    "import subprocess\n",
    "import tqdm"
   ]
  },
  {
   "cell_type": "code",
   "execution_count": 39,
   "metadata": {},
   "outputs": [],
   "source": [
    "grid_paths = glob.glob(os.path.join('training_data', 'grid', '*.nc'))"
   ]
  },
  {
   "cell_type": "code",
   "execution_count": 40,
   "metadata": {},
   "outputs": [],
   "source": [
    "grid_map = {}"
   ]
  },
  {
   "cell_type": "code",
   "execution_count": 61,
   "metadata": {},
   "outputs": [
    {
     "name": "stderr",
     "output_type": "stream",
     "text": [
      "100%|████████████████████████████████████████████████████████████████████████████████████████████████████████████████████████| 14/14 [00:00<00:00, 31.62it/s]\n"
     ]
    }
   ],
   "source": [
    "i = 0\n",
    "for gp in tqdm.tqdm(grid_paths):\n",
    "    \n",
    "        \n",
    "    dataset = netCDF4.Dataset(gp)\n",
    "    lon = np.asarray(dataset['Longitudes'])\n",
    "    lon_max = np.max(lon)\n",
    "    lon_min = np.min(lon)\n",
    "    if lon_min < 0:\n",
    "        lon_max = np.min(lon) + 360\n",
    "        if np.max(lon) < 0:\n",
    "            lon_min = np.max(lon) + 360\n",
    "        else:\n",
    "            lon_min = np.max(lon)\n",
    "    lat = np.asarray(dataset['Latitudes'])\n",
    "    s = sorted([lon_max, lon_min])\n",
    "    if 'ArcticZoom' in gp:\n",
    "        bounds_data = {\n",
    "           'lat_min':float(lat.min()),\n",
    "            'lat_max':float(lat.max()),\n",
    "            'lon_min':float(0),\n",
    "            'lon_max':float(360 )\n",
    "        }\n",
    "    else:\n",
    "        bounds_data = {\n",
    "            'lat_min':float(lat.min()),\n",
    "            'lat_max':float(lat.max()),\n",
    "            'lon_min':float(s[0]),\n",
    "            'lon_max':float(s[1])\n",
    "        }\n",
    "    grid_map[os.path.splitext(os.path.basename(gp))[0]] = bounds_data"
   ]
  },
  {
   "cell_type": "code",
   "execution_count": 59,
   "metadata": {},
   "outputs": [],
   "source": [
    "import json"
   ]
  },
  {
   "cell_type": "code",
   "execution_count": 62,
   "metadata": {},
   "outputs": [],
   "source": [
    "with open('geographic_grid_bounds.json', 'w') as fp:\n",
    "    json.dump(grid_map, fp)"
   ]
  },
  {
   "cell_type": "code",
   "execution_count": 63,
   "metadata": {},
   "outputs": [
    {
     "data": {
      "text/plain": [
       "{'LongitudeLatitudeGrid-n3125-Arctic3125': {'lat_max': 89.97959899902344,\n",
       "  'lat_min': 30.995798110961914,\n",
       "  'lon_max': 359.9761657714844,\n",
       "  'lon_min': 0.0},\n",
       " 'LongitudeLatitudeGrid-n3125-ArcticZoom': {'lat_max': 89.97959899902344,\n",
       "  'lat_min': 54.50833511352539,\n",
       "  'lon_max': 360.0,\n",
       "  'lon_min': 0.0},\n",
       " 'LongitudeLatitudeGrid-n3125-Arctichesky': {'lat_max': 84.4510726928711,\n",
       "  'lat_min': 72.8006591796875,\n",
       "  'lon_max': 143.00473022460938,\n",
       "  'lon_min': 50.35582733154297},\n",
       " 'LongitudeLatitudeGrid-n3125-ChukchiBeaufort': {'lat_max': 79.39166259765625,\n",
       "  'lat_min': 66.15489959716797,\n",
       "  'lon_max': 250.80655670166016,\n",
       "  'lon_min': 159.1934356689453},\n",
       " 'LongitudeLatitudeGrid-n3125-Fram': {'lat_max': 89.681884765625,\n",
       "  'lat_min': 77.5821762084961,\n",
       "  'lon_max': 317.2641792297363,\n",
       "  'lon_min': 119.62232971191406},\n",
       " 'LongitudeLatitudeGrid-n3125-GreenlandSea': {'lat_max': 85.37242889404297,\n",
       "  'lat_min': 60.8145751953125,\n",
       "  'lon_max': 309.24669647216797,\n",
       "  'lon_min': 47.29001998901367},\n",
       " 'LongitudeLatitudeGrid-n3125-NEPassageEast': {'lat_max': 81.87973022460938,\n",
       "  'lat_min': 56.49900817871094,\n",
       "  'lon_max': 202.14280700683594,\n",
       "  'lon_min': 117.58689880371094},\n",
       " 'LongitudeLatitudeGrid-n3125-NEPassageWest': {'lat_max': 81.87973022460938,\n",
       "  'lat_min': 59.97308349609375,\n",
       "  'lon_max': 140.62193298339844,\n",
       "  'lon_min': 19.13490104675293},\n",
       " 'LongitudeLatitudeGrid-n3125-NorthWestPassage': {'lat_max': 89.0623779296875,\n",
       "  'lat_min': 54.50833511352539,\n",
       "  'lon_max': 313.06003189086914,\n",
       "  'lon_min': 137.64505004882812},\n",
       " 'LongitudeLatitudeGrid-n3125-Oden': {'lat_max': 89.681884765625,\n",
       "  'lat_min': 77.5821762084961,\n",
       "  'lon_max': 317.2641792297363,\n",
       "  'lon_min': 119.62232971191406},\n",
       " 'LongitudeLatitudeGrid-n3125-Resolute': {'lat_max': 80.2994613647461,\n",
       "  'lat_min': 66.8214111328125,\n",
       "  'lon_max': 286.4433822631836,\n",
       "  'lon_min': 238.72814178466797},\n",
       " 'LongitudeLatitudeGrid-n3125-SmithSound': {'lat_max': 81.37535095214844,\n",
       "  'lat_min': 67.9576187133789,\n",
       "  'lon_max': 308.16395568847656,\n",
       "  'lon_min': 261.95347595214844},\n",
       " 'LongitudeLatitudeGrid-n3125-SouthGreenland': {'lat_max': 68.98340606689453,\n",
       "  'lat_min': 57.297977447509766,\n",
       "  'lon_max': 339.1322250366211,\n",
       "  'lon_min': 296.54838943481445},\n",
       " 'LongitudeLatitudeGrid-n6250-Arctic': {'lat_max': 89.9592056274414,\n",
       "  'lat_min': 31.011075973510742,\n",
       "  'lon_max': 360.0,\n",
       "  'lon_min': 0.047824930399656296}}"
      ]
     },
     "execution_count": 63,
     "metadata": {},
     "output_type": "execute_result"
    }
   ],
   "source": [
    "grid_map"
   ]
  },
  {
   "cell_type": "code",
   "execution_count": 18,
   "metadata": {},
   "outputs": [],
   "source": [
    "test_data = netCDF4.Dataset(grid_paths[0])"
   ]
  },
  {
   "cell_type": "code",
   "execution_count": 29,
   "metadata": {},
   "outputs": [],
   "source": [
    "lon = test_data['Latitudes']"
   ]
  },
  {
   "cell_type": "code",
   "execution_count": 31,
   "metadata": {},
   "outputs": [
    {
     "data": {
      "text/plain": [
       "89.979599"
      ]
     },
     "execution_count": 31,
     "metadata": {},
     "output_type": "execute_result"
    }
   ],
   "source": [
    "np.asarray(lon).max()"
   ]
  },
  {
   "cell_type": "code",
   "execution_count": 13,
   "metadata": {},
   "outputs": [
    {
     "data": {
      "text/plain": [
       "'LongitudeLatitudeGrid-n3125-Arctic3125.nc'"
      ]
     },
     "execution_count": 13,
     "metadata": {},
     "output_type": "execute_result"
    }
   ],
   "source": []
  },
  {
   "cell_type": "code",
   "execution_count": 15,
   "metadata": {},
   "outputs": [
    {
     "name": "stderr",
     "output_type": "stream",
     "text": [
      "100%|████████████████████████████████████████████████████████████████████████████████████████████████████████████████████████| 26/26 [00:02<00:00,  9.51it/s]\n"
     ]
    }
   ],
   "source": []
  }
 ],
 "metadata": {
  "kernelspec": {
   "display_name": "Python 3",
   "language": "python",
   "name": "python3"
  },
  "language_info": {
   "codemirror_mode": {
    "name": "ipython",
    "version": 3
   },
   "file_extension": ".py",
   "mimetype": "text/x-python",
   "name": "python",
   "nbconvert_exporter": "python",
   "pygments_lexer": "ipython3",
   "version": "3.6.3"
  }
 },
 "nbformat": 4,
 "nbformat_minor": 2
}
