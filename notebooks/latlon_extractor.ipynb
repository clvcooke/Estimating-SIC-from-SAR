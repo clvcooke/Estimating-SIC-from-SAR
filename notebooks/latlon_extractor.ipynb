{
 "cells": [
  {
   "cell_type": "code",
   "execution_count": 6,
   "metadata": {},
   "outputs": [],
   "source": [
    "import os\n",
    "import glob\n",
    "import gdal\n",
    "import numpy as np"
   ]
  },
  {
   "cell_type": "code",
   "execution_count": 2,
   "metadata": {},
   "outputs": [],
   "source": [
    "folders = glob.glob(os.path.join('training_data', '20*'))"
   ]
  },
  {
   "cell_type": "code",
   "execution_count": 4,
   "metadata": {},
   "outputs": [],
   "source": [
    "geotiff_paths = []\n",
    "for folder in folders:\n",
    "    possible_files = glob.glob(os.path.join(folder, '*RS2*.tif'))\n",
    "    geotiff_paths.append(sorted(possible_files, key=os.path.getsize)[-1])"
   ]
  },
  {
   "cell_type": "code",
   "execution_count": 8,
   "metadata": {},
   "outputs": [],
   "source": [
    "data = gdal.Open(geotiff_paths[0], gdal.GA_ReadOnly)\n"
   ]
  },
  {
   "cell_type": "code",
   "execution_count": 11,
   "metadata": {},
   "outputs": [
    {
     "data": {
      "text/plain": [
       "-65.52899254263002"
      ]
     },
     "execution_count": 11,
     "metadata": {},
     "output_type": "execute_result"
    }
   ],
   "source": [
    "data.GetGCPs()[0].GCPX"
   ]
  },
  {
   "cell_type": "code",
   "execution_count": 13,
   "metadata": {},
   "outputs": [
    {
     "data": {
      "text/plain": [
       "<osgeo.gdal.Dataset; proxy of <Swig Object of type 'GDALDatasetShadow *' at 0x0000023ACFB9FDE0> >"
      ]
     },
     "execution_count": 13,
     "metadata": {},
     "output_type": "execute_result"
    }
   ],
   "source": [
    "data.getGC"
   ]
  },
  {
   "cell_type": "code",
   "execution_count": 22,
   "metadata": {},
   "outputs": [
    {
     "name": "stdout",
     "output_type": "stream",
     "text": [
      "20090322\n",
      "LAT:  58.6867437285\n",
      "LON:  -61.5892524709\n",
      "\n",
      "20090322B\n",
      "LAT:  56.0568508098\n",
      "LON:  -62.5292213223\n",
      "\n",
      "20100125\n",
      "LAT:  60.1221893812\n",
      "LON:  -57.8765912092\n",
      "\n",
      "20100125B\n",
      "LAT:  55.7984349936\n",
      "LON:  -59.4604579265\n",
      "\n",
      "20100131\n",
      "LAT:  48.6497520578\n",
      "LON:  -67.8958663917\n",
      "\n",
      "20100131B\n",
      "LAT:  63.030719204\n",
      "LON:  -62.9610802472\n",
      "\n",
      "20100403\n",
      "LAT:  70.6407480444\n",
      "LON:  -132.099536306\n",
      "\n",
      "20100405\n",
      "LAT:  71.1012905768\n",
      "LON:  -142.267956847\n",
      "\n",
      "20101005\n",
      "LAT:  69.4443281412\n",
      "LON:  -96.4835964027\n",
      "\n",
      "20101007\n",
      "LAT:  72.7277455761\n",
      "LON:  -116.709960441\n",
      "\n",
      "20101009\n",
      "LAT:  71.2853229769\n",
      "LON:  -78.0601800927\n",
      "\n",
      "20101009B\n",
      "LAT:  75.8201090609\n",
      "LON:  -123.830343337\n",
      "\n",
      "20101013\n",
      "LAT:  68.9412242388\n",
      "LON:  -100.730863377\n",
      "\n",
      "20101014\n",
      "LAT:  73.9241891256\n",
      "LON:  -116.995928337\n",
      "\n",
      "20101205\n",
      "LAT:  60.9223092426\n",
      "LON:  -93.2717037383\n",
      "\n",
      "20101213\n",
      "LAT:  73.0091525904\n",
      "LON:  -77.6292224108\n",
      "\n",
      "20101221\n",
      "LAT:  44.3812828196\n",
      "LON:  -81.6121301645\n",
      "\n",
      "20110213\n",
      "LAT:  60.0753659972\n",
      "LON:  -57.8996581284\n",
      "\n",
      "20110214\n",
      "LAT:  54.8047314841\n",
      "LON:  -52.4240375153\n",
      "\n",
      "20110216\n",
      "LAT:  57.2870744446\n",
      "LON:  -62.1063402396\n",
      "\n",
      "20110217\n",
      "LAT:  53.1787518589\n",
      "LON:  -56.0783566802\n",
      "\n",
      "20110220\n",
      "LAT:  55.4740817825\n",
      "LON:  -58.5294523555\n",
      "\n",
      "20110223\n",
      "LAT:  48.7868271372\n",
      "LON:  -63.6619934604\n",
      "\n",
      "20110319\n",
      "LAT:  57.8110920429\n",
      "LON:  -60.8755973017\n",
      "\n",
      "20110405\n",
      "LAT:  61.6195642984\n",
      "LON:  -60.4324973441\n",
      "\n",
      "20110627\n",
      "LAT:  52.7855023905\n",
      "LON:  -81.8568499329\n",
      "\n",
      "20110627B\n",
      "LAT:  57.157485691\n",
      "LON:  -83.2713756797\n",
      "\n",
      "20110702\n",
      "LAT:  69.8502461039\n",
      "LON:  -114.845199587\n",
      "\n",
      "20110705\n",
      "LAT:  57.4781226155\n",
      "LON:  -74.9903296758\n",
      "\n",
      "20110717\n",
      "LAT:  78.875328692\n",
      "LON:  -119.83105183\n",
      "\n",
      "20110717B\n",
      "LAT:  74.7373636353\n",
      "LON:  -126.210089792\n",
      "\n",
      "20110730\n",
      "LAT:  72.9697132651\n",
      "LON:  -108.090188988\n",
      "\n",
      "20110731\n",
      "LAT:  83.0568415957\n",
      "LON:  -91.1926631147\n",
      "\n",
      "20110903\n",
      "LAT:  77.5627370905\n",
      "LON:  -147.524913425\n",
      "\n",
      "20110903B\n",
      "LAT:  73.3583692878\n",
      "LON:  -152.857698831\n",
      "\n",
      "20110903C\n",
      "LAT:  75.7806893228\n",
      "LON:  -124.948739191\n",
      "\n",
      "20110903D\n",
      "LAT:  71.5512707538\n",
      "LON:  -129.278642177\n",
      "\n"
     ]
    }
   ],
   "source": [
    "for folder in folders:\n",
    "    try:\n",
    "        possible_files = glob.glob(os.path.join(folder, '*RS2*.tif'))\n",
    "        geotiff_path = sorted(possible_files, key=os.path.getsize)[-1]\n",
    "        data = gdal.Open(geotiff_path, gdal.GA_ReadOnly)\n",
    "        avg_lon = np.mean([pt.GCPX for pt in data.GetGCPs()])\n",
    "        avg_lat = np.mean([pt.GCPY for pt in data.GetGCPs()])\n",
    "        print(os.path.basename(folder))\n",
    "        print('LAT: ', avg_lat)\n",
    "        print('LON: ', avg_lon)\n",
    "        print()\n",
    "    except:\n",
    "        pass"
   ]
  },
  {
   "cell_type": "code",
   "execution_count": 20,
   "metadata": {},
   "outputs": [],
   "source": [
    "gdal.Open(geotiff_path)"
   ]
  },
  {
   "cell_type": "code",
   "execution_count": 21,
   "metadata": {},
   "outputs": [
    {
     "data": {
      "text/plain": [
       "'training_data\\\\20110717C\\\\RS2_OK20392_PK226867_DK211171_SCWA_20110717_152236.tif'"
      ]
     },
     "execution_count": 21,
     "metadata": {},
     "output_type": "execute_result"
    }
   ],
   "source": [
    "geotiff_path"
   ]
  }
 ],
 "metadata": {
  "kernelspec": {
   "display_name": "Python 3",
   "language": "python",
   "name": "python3"
  },
  "language_info": {
   "codemirror_mode": {
    "name": "ipython",
    "version": 3
   },
   "file_extension": ".py",
   "mimetype": "text/x-python",
   "name": "python",
   "nbconvert_exporter": "python",
   "pygments_lexer": "ipython3",
   "version": "3.6.3"
  }
 },
 "nbformat": 4,
 "nbformat_minor": 2
}
